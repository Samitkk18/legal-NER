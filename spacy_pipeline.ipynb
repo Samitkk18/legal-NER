{
 "cells": [
  {
   "cell_type": "code",
   "execution_count": 1,
   "id": "0b4f07bc",
   "metadata": {},
   "outputs": [],
   "source": [
    "import json\n",
    "import pandas as pd"
   ]
  },
  {
   "cell_type": "code",
   "execution_count": 2,
   "id": "e0f0b216",
   "metadata": {},
   "outputs": [],
   "source": [
    "# Step 1: Read the content of the first JSON file\n",
    "with open('NER_TRAIN/NER_TRAIN_PREAMBLE.json', 'r') as file1:\n",
    "    data = json.load(file1)"
   ]
  },
  {
   "cell_type": "code",
   "execution_count": 3,
   "id": "c4c15587",
   "metadata": {},
   "outputs": [],
   "source": [
    "# Step 1: Read the content of the first JSON file\n",
    "with open('NER_DEV/NER_DEV_PREAMBLE.json', 'r') as file1:\n",
    "    data2 = json.load(file1)"
   ]
  },
  {
   "cell_type": "code",
   "execution_count": 4,
   "id": "d22eb7b3",
   "metadata": {},
   "outputs": [
    {
     "data": {
      "text/plain": [
       "1560"
      ]
     },
     "execution_count": 4,
     "metadata": {},
     "output_type": "execute_result"
    }
   ],
   "source": [
    "len(data)"
   ]
  },
  {
   "cell_type": "code",
   "execution_count": null,
   "id": "d86e846b",
   "metadata": {},
   "outputs": [],
   "source": [
    "training_data = {'classes' : ['COURT', \"PETITIONER\", \"RESPONDENT\", \"JUDGE\", \"LAWYER\"], 'annotations' : []}\n",
    "for example in data:\n",
    "    temp_dict = {}\n",
    "#     print(example['data']['text'])\n",
    "#     ppp\n",
    "    text = example['data']['text']\n",
    "    temp_dict['text'] = text\n",
    "#     print(temp_dict['text'])\n",
    "    temp_dict['entities'] = []\n",
    "#     print(example['annotations'][0]['result'])\n",
    "#     ppp\n",
    "    for annotation in example['annotations'][0]['result']:\n",
    "        start = annotation['value']['start']\n",
    "        end = annotation['value']['end']\n",
    "        label = annotation['value']['labels'][0].upper()\n",
    "        temp_dict['entities'].append((start, end, label))\n",
    "    training_data['annotations'].append(temp_dict)\n",
    "    \n",
    "print(training_data['annotations'][156])"
   ]
  },
  {
   "cell_type": "code",
   "execution_count": null,
   "id": "ffb2d31d",
   "metadata": {},
   "outputs": [],
   "source": [
    "test_data = {'classes' : ['COURT', \"PETITIONER\", \"RESPONDENT\", \"JUDGE\", \"LAWYER\"], 'annotations' : []}\n",
    "for example in data2:\n",
    "    temp_dict = {}\n",
    "#     print(example['data']['text'])\n",
    "#     ppp\n",
    "    text = example['data']['text']\n",
    "    temp_dict['text'] = text\n",
    "#     print(temp_dict['text'])\n",
    "    temp_dict['entities'] = []\n",
    "#     print(example['annotations'][0]['result'])\n",
    "#     ppp\n",
    "    for annotation in example['annotations'][0]['result']:\n",
    "        start = annotation['value']['start']\n",
    "        end = annotation['value']['end']\n",
    "        label = annotation['value']['labels'][0].upper()\n",
    "        temp_dict['entities'].append((start, end, label))\n",
    "    test_data['annotations'].append(temp_dict)\n",
    "    \n",
    "print(test_data['annotations'][15])"
   ]
  },
  {
   "cell_type": "code",
   "execution_count": null,
   "id": "9dcbe64b",
   "metadata": {
    "scrolled": true
   },
   "outputs": [],
   "source": [
    "!python -m spacy download en_core_web_sm"
   ]
  },
  {
   "cell_type": "code",
   "execution_count": null,
   "id": "851d2809",
   "metadata": {},
   "outputs": [],
   "source": [
    "import spacy\n",
    "from spacy.tokens import DocBin\n",
    "from tqdm import tqdm\n",
    "\n",
    "# nlp = spacy.blank(\"en\") # load a new spacy model\n",
    "nlp = spacy.load(\"en_core_web_sm\")\n",
    "doc_bin = DocBin()"
   ]
  },
  {
   "cell_type": "code",
   "execution_count": null,
   "id": "f11d8372",
   "metadata": {},
   "outputs": [],
   "source": [
    "from spacy.util import filter_spans\n",
    "\n",
    "for training_example  in tqdm(training_data['annotations']): \n",
    "    text = training_example['text']\n",
    "    labels = training_example['entities']\n",
    "    doc = nlp.make_doc(text) \n",
    "    ents = []\n",
    "    for start, end, label in labels:\n",
    "        span = doc.char_span(start, end, label=label, alignment_mode=\"contract\")\n",
    "        if span is None:\n",
    "            print(\"Skipping entity\")\n",
    "        else:\n",
    "            ents.append(span)\n",
    "    filtered_ents = filter_spans(ents)\n",
    "    doc.ents = filtered_ents \n",
    "    doc_bin.add(doc)\n",
    "\n",
    "doc_bin.to_disk(\"./train.spacy\") # save the docbin object"
   ]
  },
  {
   "cell_type": "code",
   "execution_count": null,
   "id": "2f98aa51",
   "metadata": {},
   "outputs": [],
   "source": [
    "from spacy.util import filter_spans\n",
    "\n",
    "for test_example in tqdm(test_data['annotations']): \n",
    "    text = test_example['text']\n",
    "    labels = test_example['entities']\n",
    "    doc = nlp.make_doc(text) \n",
    "    ents = []\n",
    "    for start, end, label in labels:\n",
    "        span = doc.char_span(start, end, label=label, alignment_mode=\"contract\")\n",
    "        if span is None:\n",
    "            print(\"Skipping entity\")\n",
    "        else:\n",
    "            ents.append(span)\n",
    "    filtered_ents = filter_spans(ents)\n",
    "    doc.ents = filtered_ents \n",
    "    doc_bin.add(doc)\n",
    "\n",
    "doc_bin.to_disk(\"./dev.spacy\") # save the docbin object"
   ]
  },
  {
   "cell_type": "code",
   "execution_count": null,
   "id": "6856aac3",
   "metadata": {},
   "outputs": [],
   "source": [
    "!python -m spacy init fill-config base_config.cfg config.cfg"
   ]
  },
  {
   "cell_type": "code",
   "execution_count": null,
   "id": "bbc1c4e8",
   "metadata": {},
   "outputs": [],
   "source": [
    "!python -m spacy train config.cfg --output ./output --paths.train ./train.spacy --paths.dev ./dev.spacy"
   ]
  },
  {
   "cell_type": "code",
   "execution_count": null,
   "id": "d69128c8",
   "metadata": {},
   "outputs": [],
   "source": []
  }
 ],
 "metadata": {
  "kernelspec": {
   "display_name": "Python 3 (ipykernel)",
   "language": "python",
   "name": "python3"
  },
  "language_info": {
   "codemirror_mode": {
    "name": "ipython",
    "version": 3
   },
   "file_extension": ".py",
   "mimetype": "text/x-python",
   "name": "python",
   "nbconvert_exporter": "python",
   "pygments_lexer": "ipython3",
   "version": "3.9.7"
  }
 },
 "nbformat": 4,
 "nbformat_minor": 5
}

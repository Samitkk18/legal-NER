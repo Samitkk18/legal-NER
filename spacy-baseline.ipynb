{
 "cells": [
  {
   "cell_type": "code",
   "execution_count": 1,
   "id": "0b4f07bc",
   "metadata": {},
   "outputs": [],
   "source": [
    "import json\n",
    "import pandas as pd"
   ]
  },
  {
   "cell_type": "code",
   "execution_count": 2,
   "id": "e0f0b216",
   "metadata": {},
   "outputs": [],
   "source": [
    "# Step 1: Read the content of the first JSON file\n",
    "with open('NER_TRAIN/NER_TRAIN_PREAMBLE.json', 'r') as file1:\n",
    "    data = json.load(file1)"
   ]
  },
  {
   "cell_type": "code",
   "execution_count": 3,
   "id": "7e3e5c60",
   "metadata": {},
   "outputs": [],
   "source": [
    "# Step 1: Read the content of the first JSON file\n",
    "with open('NER_DEV/NER_DEV_PREAMBLE.json', 'r') as file1:\n",
    "    data2 = json.load(file1)"
   ]
  },
  {
   "cell_type": "code",
   "execution_count": 4,
   "id": "d22eb7b3",
   "metadata": {},
   "outputs": [
    {
     "data": {
      "text/plain": [
       "1560"
      ]
     },
     "execution_count": 4,
     "metadata": {},
     "output_type": "execute_result"
    }
   ],
   "source": [
    "len(data)"
   ]
  },
  {
   "cell_type": "code",
   "execution_count": 5,
   "id": "d86e846b",
   "metadata": {},
   "outputs": [
    {
     "name": "stdout",
     "output_type": "stream",
     "text": [
      "{'text': 'Petitioner:\\nAddagada Raghavamma And Anr.\\n\\n\\tVs.\\n\\nRespondent:\\nAddagada Chenchamma And Anr.\\n\\nDate Of Judgment', 'entities': [(12, 31, 'PETITIONER'), (60, 79, 'RESPONDENT')]}\n"
     ]
    }
   ],
   "source": [
    "training_data = {'classes' : ['COURT', \"PETITIONER\", \"RESPONDENT\", \"JUDGE\", \"LAWYER\"], 'annotations' : []}\n",
    "for example in data:\n",
    "    temp_dict = {}\n",
    "#     print(example['data']['text'])\n",
    "#     ppp\n",
    "    text = example['data']['text']\n",
    "    temp_dict['text'] = text\n",
    "#     print(temp_dict['text'])\n",
    "    temp_dict['entities'] = []\n",
    "#     print(example['annotations'][0]['result'])\n",
    "#     ppp\n",
    "    for annotation in example['annotations'][0]['result']:\n",
    "        start = annotation['value']['start']\n",
    "        end = annotation['value']['end']\n",
    "        label = annotation['value']['labels'][0].upper()\n",
    "        temp_dict['entities'].append((start, end, label))\n",
    "    training_data['annotations'].append(temp_dict)\n",
    "    \n",
    "print(training_data['annotations'][156])"
   ]
  },
  {
   "cell_type": "code",
   "execution_count": 6,
   "id": "a65bd4c0",
   "metadata": {},
   "outputs": [
    {
     "name": "stdout",
     "output_type": "stream",
     "text": [
      "{'text': \"High Court Of Judicature At Allahabad\\n \\n \\n\\n                                                                             A.F.R.\\n \\n                                                 \\t          Reserved on 07.10.2021\\n \\n\\t\\t\\t\\t\\t\\t          Delivered on 13.12.2021\\n \\n\\n \\n\\n \\nCase :- Writ - C No. - 59863 of 2015\\n \\nPetitioner :- Sun Tower Residents Welfare Association\\n \\nRespondent :- Ghaziabad Development Authority through its Vice Chairman and 2 Others\\n \\nCounsel for Petitioner :- Prashant,Abhijeet Mukherji,Prashant,S.K. Pal\\n \\nCounsel for Respondent :- Ram Bilas Yadav,Anoop Tivedi,Anoop Trivedi (Senior Adv.),Himanshu Tyagi,Kartikeya Saran,Rahul Agarwal,Rakesh Kumar Singh,S.Shekhar,Vrindavan Mishra\\n \\n\\n \\n                       Connected with \\n \\n\\n \\nCase :- Writ - C No. - 11072 of 2017\\n \\nPetitioner :- Sun Tower Residents Welfare Association through Vice President\\n \\nRespondent :- Ghaziabad Development Authority through its Vice Chairman and 2 Others\\n \\nCounsel for Petitioner :- Abhijeet Mukherji,S. Shekhar,Vrindavan Mishra\\n \\nCounsel for Respondent :- C.S.C.,Ram Bilas Yadav,Tarun Agrawal\\n \\n\\n \\nHon'ble Arvind Kumar Mishra-I,J.\\n\\n\\nHon'ble Naveen Srivastava,J. \\n\\n[Per Arvind Kumar Mishra-I, J.]\\n \\n\", 'entities': [(0, 37, 'COURT'), (315, 354, 'PETITIONER'), (371, 402, 'RESPONDENT'), (470, 478, 'LAWYER'), (479, 496, 'LAWYER'), (497, 505, 'LAWYER'), (506, 514, 'LAWYER'), (543, 558, 'LAWYER'), (559, 571, 'LAWYER'), (572, 585, 'LAWYER'), (594, 614, 'LAWYER'), (615, 630, 'LAWYER'), (631, 644, 'LAWYER'), (645, 663, 'LAWYER'), (664, 673, 'LAWYER'), (674, 690, 'LAWYER'), (793, 832, 'PETITIONER'), (872, 903, 'RESPONDENT'), (971, 988, 'LAWYER'), (989, 999, 'LAWYER'), (999, 1016, 'LAWYER'), (1052, 1067, 'LAWYER'), (1068, 1081, 'LAWYER'), (1095, 1114, 'JUDGE'), (1130, 1147, 'JUDGE'), (1158, 1177, 'JUDGE')]}\n"
     ]
    }
   ],
   "source": [
    "test_data = {'classes' : ['COURT', \"PETITIONER\", \"RESPONDENT\", \"JUDGE\", \"LAWYER\"], 'annotations' : []}\n",
    "for example in data2:\n",
    "    temp_dict = {}\n",
    "#     print(example['data']['text'])\n",
    "#     ppp\n",
    "    text = example['data']['text']\n",
    "    temp_dict['text'] = text\n",
    "#     print(temp_dict['text'])\n",
    "    temp_dict['entities'] = []\n",
    "#     print(example['annotations'][0]['result'])\n",
    "#     ppp\n",
    "    for annotation in example['annotations'][0]['result']:\n",
    "        start = annotation['value']['start']\n",
    "        end = annotation['value']['end']\n",
    "        label = annotation['value']['labels'][0].upper()\n",
    "        temp_dict['entities'].append((start, end, label))\n",
    "    test_data['annotations'].append(temp_dict)\n",
    "    \n",
    "print(test_data['annotations'][15])"
   ]
  },
  {
   "cell_type": "code",
   "execution_count": 7,
   "id": "9dcbe64b",
   "metadata": {
    "scrolled": true
   },
   "outputs": [
    {
     "name": "stdout",
     "output_type": "stream",
     "text": [
      "Collecting en-core-web-sm==3.5.0\n",
      "  Downloading https://github.com/explosion/spacy-models/releases/download/en_core_web_sm-3.5.0/en_core_web_sm-3.5.0-py3-none-any.whl (12.8 MB)\n",
      "\u001b[2K     \u001b[90m━━━━━━━━━━━━━━━━━━━━━━━━━━━━━━━━━━━━━━━━\u001b[0m \u001b[32m12.8/12.8 MB\u001b[0m \u001b[31m28.7 MB/s\u001b[0m eta \u001b[36m0:00:00\u001b[0m00:01\u001b[0m00:01\u001b[0m\n",
      "\u001b[?25hRequirement already satisfied: spacy<3.6.0,>=3.5.0 in /Users/saabs/miniforge3/lib/python3.9/site-packages (from en-core-web-sm==3.5.0) (3.5.3)\n",
      "Requirement already satisfied: spacy-legacy<3.1.0,>=3.0.11 in /Users/saabs/miniforge3/lib/python3.9/site-packages (from spacy<3.6.0,>=3.5.0->en-core-web-sm==3.5.0) (3.0.12)\n",
      "Requirement already satisfied: spacy-loggers<2.0.0,>=1.0.0 in /Users/saabs/miniforge3/lib/python3.9/site-packages (from spacy<3.6.0,>=3.5.0->en-core-web-sm==3.5.0) (1.0.4)\n",
      "Requirement already satisfied: murmurhash<1.1.0,>=0.28.0 in /Users/saabs/miniforge3/lib/python3.9/site-packages (from spacy<3.6.0,>=3.5.0->en-core-web-sm==3.5.0) (1.0.9)\n",
      "Requirement already satisfied: cymem<2.1.0,>=2.0.2 in /Users/saabs/miniforge3/lib/python3.9/site-packages (from spacy<3.6.0,>=3.5.0->en-core-web-sm==3.5.0) (2.0.7)\n",
      "Requirement already satisfied: preshed<3.1.0,>=3.0.2 in /Users/saabs/miniforge3/lib/python3.9/site-packages (from spacy<3.6.0,>=3.5.0->en-core-web-sm==3.5.0) (3.0.8)\n",
      "Requirement already satisfied: thinc<8.2.0,>=8.1.8 in /Users/saabs/miniforge3/lib/python3.9/site-packages (from spacy<3.6.0,>=3.5.0->en-core-web-sm==3.5.0) (8.1.10)\n",
      "Requirement already satisfied: wasabi<1.2.0,>=0.9.1 in /Users/saabs/miniforge3/lib/python3.9/site-packages (from spacy<3.6.0,>=3.5.0->en-core-web-sm==3.5.0) (1.1.1)\n",
      "Requirement already satisfied: srsly<3.0.0,>=2.4.3 in /Users/saabs/miniforge3/lib/python3.9/site-packages (from spacy<3.6.0,>=3.5.0->en-core-web-sm==3.5.0) (2.4.6)\n",
      "Requirement already satisfied: catalogue<2.1.0,>=2.0.6 in /Users/saabs/miniforge3/lib/python3.9/site-packages (from spacy<3.6.0,>=3.5.0->en-core-web-sm==3.5.0) (2.0.8)\n",
      "Requirement already satisfied: typer<0.8.0,>=0.3.0 in /Users/saabs/miniforge3/lib/python3.9/site-packages (from spacy<3.6.0,>=3.5.0->en-core-web-sm==3.5.0) (0.7.0)\n",
      "Requirement already satisfied: pathy>=0.10.0 in /Users/saabs/miniforge3/lib/python3.9/site-packages (from spacy<3.6.0,>=3.5.0->en-core-web-sm==3.5.0) (0.10.1)\n",
      "Requirement already satisfied: smart-open<7.0.0,>=5.2.1 in /Users/saabs/miniforge3/lib/python3.9/site-packages (from spacy<3.6.0,>=3.5.0->en-core-web-sm==3.5.0) (6.3.0)\n",
      "Requirement already satisfied: tqdm<5.0.0,>=4.38.0 in /Users/saabs/miniforge3/lib/python3.9/site-packages (from spacy<3.6.0,>=3.5.0->en-core-web-sm==3.5.0) (4.62.3)\n",
      "Requirement already satisfied: numpy>=1.15.0 in /Users/saabs/miniforge3/lib/python3.9/site-packages (from spacy<3.6.0,>=3.5.0->en-core-web-sm==3.5.0) (1.22.2)\n",
      "Requirement already satisfied: requests<3.0.0,>=2.13.0 in /Users/saabs/miniforge3/lib/python3.9/site-packages (from spacy<3.6.0,>=3.5.0->en-core-web-sm==3.5.0) (2.28.2)\n",
      "Requirement already satisfied: pydantic!=1.8,!=1.8.1,<1.11.0,>=1.7.4 in /Users/saabs/miniforge3/lib/python3.9/site-packages (from spacy<3.6.0,>=3.5.0->en-core-web-sm==3.5.0) (1.10.8)\n",
      "Requirement already satisfied: jinja2 in /Users/saabs/miniforge3/lib/python3.9/site-packages (from spacy<3.6.0,>=3.5.0->en-core-web-sm==3.5.0) (3.1.2)\n",
      "Requirement already satisfied: setuptools in /Users/saabs/miniforge3/lib/python3.9/site-packages (from spacy<3.6.0,>=3.5.0->en-core-web-sm==3.5.0) (59.4.0)\n",
      "Requirement already satisfied: packaging>=20.0 in /Users/saabs/miniforge3/lib/python3.9/site-packages (from spacy<3.6.0,>=3.5.0->en-core-web-sm==3.5.0) (23.0)\n",
      "Requirement already satisfied: langcodes<4.0.0,>=3.2.0 in /Users/saabs/miniforge3/lib/python3.9/site-packages (from spacy<3.6.0,>=3.5.0->en-core-web-sm==3.5.0) (3.3.0)\n",
      "Requirement already satisfied: typing-extensions>=4.2.0 in /Users/saabs/miniforge3/lib/python3.9/site-packages (from pydantic!=1.8,!=1.8.1,<1.11.0,>=1.7.4->spacy<3.6.0,>=3.5.0->en-core-web-sm==3.5.0) (4.4.0)\n",
      "Requirement already satisfied: charset-normalizer<4,>=2 in /Users/saabs/miniforge3/lib/python3.9/site-packages (from requests<3.0.0,>=2.13.0->spacy<3.6.0,>=3.5.0->en-core-web-sm==3.5.0) (2.0.9)\n",
      "Requirement already satisfied: idna<4,>=2.5 in /Users/saabs/miniforge3/lib/python3.9/site-packages (from requests<3.0.0,>=2.13.0->spacy<3.6.0,>=3.5.0->en-core-web-sm==3.5.0) (3.1)\n",
      "Requirement already satisfied: urllib3<1.27,>=1.21.1 in /Users/saabs/miniforge3/lib/python3.9/site-packages (from requests<3.0.0,>=2.13.0->spacy<3.6.0,>=3.5.0->en-core-web-sm==3.5.0) (1.26.7)\n",
      "Requirement already satisfied: certifi>=2017.4.17 in /Users/saabs/miniforge3/lib/python3.9/site-packages (from requests<3.0.0,>=2.13.0->spacy<3.6.0,>=3.5.0->en-core-web-sm==3.5.0) (2022.12.7)\n",
      "Requirement already satisfied: blis<0.8.0,>=0.7.8 in /Users/saabs/miniforge3/lib/python3.9/site-packages (from thinc<8.2.0,>=8.1.8->spacy<3.6.0,>=3.5.0->en-core-web-sm==3.5.0) (0.7.9)\n",
      "Requirement already satisfied: confection<1.0.0,>=0.0.1 in /Users/saabs/miniforge3/lib/python3.9/site-packages (from thinc<8.2.0,>=8.1.8->spacy<3.6.0,>=3.5.0->en-core-web-sm==3.5.0) (0.0.4)\n",
      "Requirement already satisfied: click<9.0.0,>=7.1.1 in /Users/saabs/miniforge3/lib/python3.9/site-packages (from typer<0.8.0,>=0.3.0->spacy<3.6.0,>=3.5.0->en-core-web-sm==3.5.0) (8.0.3)\n",
      "Requirement already satisfied: MarkupSafe>=2.0 in /Users/saabs/miniforge3/lib/python3.9/site-packages (from jinja2->spacy<3.6.0,>=3.5.0->en-core-web-sm==3.5.0) (2.1.2)\n",
      "\u001b[38;5;2m✔ Download and installation successful\u001b[0m\n",
      "You can now load the package via spacy.load('en_core_web_sm')\n"
     ]
    }
   ],
   "source": [
    "!python -m spacy download en_core_web_sm"
   ]
  },
  {
   "cell_type": "code",
   "execution_count": 8,
   "id": "851d2809",
   "metadata": {},
   "outputs": [],
   "source": [
    "import spacy\n",
    "from spacy.tokens import DocBin\n",
    "from tqdm import tqdm\n",
    "\n",
    "# nlp = spacy.blank(\"en\") # load a new spacy model\n",
    "nlp = spacy.load(\"en_core_web_sm\")\n",
    "doc_bin = DocBin()"
   ]
  },
  {
   "cell_type": "code",
   "execution_count": 9,
   "id": "f11d8372",
   "metadata": {},
   "outputs": [
    {
     "name": "stderr",
     "output_type": "stream",
     "text": [
      "100%|██████████████████████████████████████| 1560/1560 [00:03<00:00, 506.05it/s]\n"
     ]
    }
   ],
   "source": [
    "from spacy.util import filter_spans\n",
    "\n",
    "for training_example  in tqdm(training_data['annotations']): \n",
    "    text = training_example['text']\n",
    "    labels = training_example['entities']\n",
    "    doc = nlp.make_doc(text) \n",
    "    ents = []\n",
    "    for start, end, label in labels:\n",
    "        span = doc.char_span(start, end, label=label, alignment_mode=\"contract\")\n",
    "        if span is None:\n",
    "            print(\"Skipping entity\")\n",
    "        else:\n",
    "            ents.append(span)\n",
    "    filtered_ents = filter_spans(ents)\n",
    "    doc.ents = filtered_ents \n",
    "    doc_bin.add(doc)\n",
    "\n",
    "doc_bin.to_disk(\"./train.spacy\") # save the docbin object"
   ]
  },
  {
   "cell_type": "code",
   "execution_count": 10,
   "id": "be76866a",
   "metadata": {},
   "outputs": [
    {
     "name": "stderr",
     "output_type": "stream",
     "text": [
      "100%|████████████████████████████████████████| 125/125 [00:00<00:00, 453.10it/s]\n"
     ]
    },
    {
     "name": "stdout",
     "output_type": "stream",
     "text": [
      "Skipping entity\n",
      "Skipping entity\n",
      "Skipping entity\n",
      "Skipping entity\n"
     ]
    }
   ],
   "source": [
    "from spacy.util import filter_spans\n",
    "\n",
    "for test_example in tqdm(test_data['annotations']): \n",
    "    text = test_example['text']\n",
    "    labels = test_example['entities']\n",
    "    doc = nlp.make_doc(text) \n",
    "    ents = []\n",
    "    for start, end, label in labels:\n",
    "        span = doc.char_span(start, end, label=label, alignment_mode=\"contract\")\n",
    "        if span is None:\n",
    "            print(\"Skipping entity\")\n",
    "        else:\n",
    "            ents.append(span)\n",
    "    filtered_ents = filter_spans(ents)\n",
    "    doc.ents = filtered_ents \n",
    "    doc_bin.add(doc)\n",
    "\n",
    "doc_bin.to_disk(\"./dev.spacy\") # save the docbin object"
   ]
  },
  {
   "cell_type": "code",
   "execution_count": 11,
   "id": "6856aac3",
   "metadata": {},
   "outputs": [
    {
     "name": "stdout",
     "output_type": "stream",
     "text": [
      "\u001b[38;5;2m✔ Auto-filled config with all values\u001b[0m\r\n",
      "\u001b[38;5;2m✔ Saved config\u001b[0m\r\n",
      "config.cfg\r\n",
      "You can now add your data and train your pipeline:\r\n",
      "python -m spacy train config.cfg --paths.train ./train.spacy --paths.dev ./dev.spacy\r\n"
     ]
    }
   ],
   "source": [
    "!python -m spacy init fill-config base_config.cfg config.cfg"
   ]
  },
  {
   "cell_type": "code",
   "execution_count": 9,
   "id": "ca804a10",
   "metadata": {},
   "outputs": [
    {
     "name": "stdout",
     "output_type": "stream",
     "text": [
      "\u001b[33mDEPRECATION: Configuring installation scheme with distutils config files is deprecated and will no longer work in the near future. If you are using a Homebrew or Linuxbrew Python, please see discussion at https://github.com/Homebrew/homebrew-core/issues/76621\u001b[0m\u001b[33m\n",
      "\u001b[0m\u001b[33mDEPRECATION: https://github.com/explosion/spacy-models/releases/download/en_core_web_lg-3.4.1/en_core_web_lg-3.4.1-py3-none-any.whl#egg=en_core_web_lg==3.4.1 contains an egg fragment with a non-PEP 508 name pip 25.0 will enforce this behaviour change. A possible replacement is to use the req @ url syntax, and remove the egg fragment. Discussion can be found at https://github.com/pypa/pip/issues/11617\u001b[0m\u001b[33m\n",
      "\u001b[0mCollecting en-core-web-lg==3.4.1\n",
      "  Downloading https://github.com/explosion/spacy-models/releases/download/en_core_web_lg-3.4.1/en_core_web_lg-3.4.1-py3-none-any.whl (587.7 MB)\n",
      "\u001b[2K     \u001b[90m━━━━━━━━━━━━━━━━━━━━━━━━━━━━━━━━━━━━━━━\u001b[0m \u001b[32m587.7/587.7 MB\u001b[0m \u001b[31m3.6 MB/s\u001b[0m eta \u001b[36m0:00:00\u001b[0m00:01\u001b[0m00:02\u001b[0m\n",
      "\u001b[?25hRequirement already satisfied: spacy<3.5.0,>=3.4.0 in /opt/homebrew/lib/python3.9/site-packages (from en-core-web-lg==3.4.1) (3.4.1)\n",
      "Requirement already satisfied: wasabi<1.1.0,>=0.9.1 in /opt/homebrew/lib/python3.9/site-packages (from spacy<3.5.0,>=3.4.0->en-core-web-lg==3.4.1) (0.10.1)\n",
      "Requirement already satisfied: jinja2 in /opt/homebrew/lib/python3.9/site-packages (from spacy<3.5.0,>=3.4.0->en-core-web-lg==3.4.1) (3.1.2)\n",
      "Requirement already satisfied: preshed<3.1.0,>=3.0.2 in /opt/homebrew/lib/python3.9/site-packages (from spacy<3.5.0,>=3.4.0->en-core-web-lg==3.4.1) (3.0.7)\n",
      "Requirement already satisfied: spacy-loggers<2.0.0,>=1.0.0 in /opt/homebrew/lib/python3.9/site-packages (from spacy<3.5.0,>=3.4.0->en-core-web-lg==3.4.1) (1.0.3)\n",
      "Requirement already satisfied: typer<0.5.0,>=0.3.0 in /opt/homebrew/lib/python3.9/site-packages (from spacy<3.5.0,>=3.4.0->en-core-web-lg==3.4.1) (0.4.2)\n",
      "Requirement already satisfied: pydantic!=1.8,!=1.8.1,<1.10.0,>=1.7.4 in /opt/homebrew/lib/python3.9/site-packages (from spacy<3.5.0,>=3.4.0->en-core-web-lg==3.4.1) (1.9.2)\n",
      "Requirement already satisfied: srsly<3.0.0,>=2.4.3 in /opt/homebrew/lib/python3.9/site-packages (from spacy<3.5.0,>=3.4.0->en-core-web-lg==3.4.1) (2.4.4)\n",
      "Requirement already satisfied: thinc<8.2.0,>=8.1.0 in /opt/homebrew/lib/python3.9/site-packages (from spacy<3.5.0,>=3.4.0->en-core-web-lg==3.4.1) (8.1.0)\n",
      "Requirement already satisfied: langcodes<4.0.0,>=3.2.0 in /opt/homebrew/lib/python3.9/site-packages (from spacy<3.5.0,>=3.4.0->en-core-web-lg==3.4.1) (3.3.0)\n",
      "Requirement already satisfied: packaging>=20.0 in /opt/homebrew/lib/python3.9/site-packages (from spacy<3.5.0,>=3.4.0->en-core-web-lg==3.4.1) (21.3)\n",
      "Requirement already satisfied: catalogue<2.1.0,>=2.0.6 in /opt/homebrew/lib/python3.9/site-packages (from spacy<3.5.0,>=3.4.0->en-core-web-lg==3.4.1) (2.0.8)\n",
      "Requirement already satisfied: murmurhash<1.1.0,>=0.28.0 in /opt/homebrew/lib/python3.9/site-packages (from spacy<3.5.0,>=3.4.0->en-core-web-lg==3.4.1) (1.0.8)\n",
      "Requirement already satisfied: pathy>=0.3.5 in /opt/homebrew/lib/python3.9/site-packages (from spacy<3.5.0,>=3.4.0->en-core-web-lg==3.4.1) (0.6.2)\n",
      "Requirement already satisfied: requests<3.0.0,>=2.13.0 in /opt/homebrew/lib/python3.9/site-packages (from spacy<3.5.0,>=3.4.0->en-core-web-lg==3.4.1) (2.28.1)\n",
      "Requirement already satisfied: spacy-legacy<3.1.0,>=3.0.9 in /opt/homebrew/lib/python3.9/site-packages (from spacy<3.5.0,>=3.4.0->en-core-web-lg==3.4.1) (3.0.10)\n",
      "Requirement already satisfied: setuptools in /opt/homebrew/lib/python3.9/site-packages (from spacy<3.5.0,>=3.4.0->en-core-web-lg==3.4.1) (62.3.2)\n",
      "Requirement already satisfied: tqdm<5.0.0,>=4.38.0 in /opt/homebrew/lib/python3.9/site-packages (from spacy<3.5.0,>=3.4.0->en-core-web-lg==3.4.1) (4.64.0)\n",
      "Requirement already satisfied: numpy>=1.15.0 in /opt/homebrew/lib/python3.9/site-packages (from spacy<3.5.0,>=3.4.0->en-core-web-lg==3.4.1) (1.23.0)\n",
      "Requirement already satisfied: cymem<2.1.0,>=2.0.2 in /opt/homebrew/lib/python3.9/site-packages (from spacy<3.5.0,>=3.4.0->en-core-web-lg==3.4.1) (2.0.6)\n",
      "Requirement already satisfied: pyparsing!=3.0.5,>=2.0.2 in /opt/homebrew/lib/python3.9/site-packages (from packaging>=20.0->spacy<3.5.0,>=3.4.0->en-core-web-lg==3.4.1) (3.0.9)\n",
      "Requirement already satisfied: smart-open<6.0.0,>=5.2.1 in /opt/homebrew/lib/python3.9/site-packages (from pathy>=0.3.5->spacy<3.5.0,>=3.4.0->en-core-web-lg==3.4.1) (5.2.1)\n",
      "Requirement already satisfied: typing-extensions>=3.7.4.3 in /opt/homebrew/lib/python3.9/site-packages (from pydantic!=1.8,!=1.8.1,<1.10.0,>=1.7.4->spacy<3.5.0,>=3.4.0->en-core-web-lg==3.4.1) (4.3.0)\n",
      "Requirement already satisfied: urllib3<1.27,>=1.21.1 in /opt/homebrew/lib/python3.9/site-packages (from requests<3.0.0,>=2.13.0->spacy<3.5.0,>=3.4.0->en-core-web-lg==3.4.1) (1.26.9)\n",
      "Requirement already satisfied: certifi>=2017.4.17 in /opt/homebrew/lib/python3.9/site-packages (from requests<3.0.0,>=2.13.0->spacy<3.5.0,>=3.4.0->en-core-web-lg==3.4.1) (2022.6.15)\n",
      "Requirement already satisfied: idna<4,>=2.5 in /opt/homebrew/lib/python3.9/site-packages (from requests<3.0.0,>=2.13.0->spacy<3.5.0,>=3.4.0->en-core-web-lg==3.4.1) (3.3)\n",
      "Requirement already satisfied: charset-normalizer<3,>=2 in /opt/homebrew/lib/python3.9/site-packages (from requests<3.0.0,>=2.13.0->spacy<3.5.0,>=3.4.0->en-core-web-lg==3.4.1) (2.1.0)\n",
      "Requirement already satisfied: blis<0.8.0,>=0.7.8 in /opt/homebrew/lib/python3.9/site-packages (from thinc<8.2.0,>=8.1.0->spacy<3.5.0,>=3.4.0->en-core-web-lg==3.4.1) (0.7.8)\n",
      "Requirement already satisfied: click<9.0.0,>=7.1.1 in /opt/homebrew/lib/python3.9/site-packages (from typer<0.5.0,>=0.3.0->spacy<3.5.0,>=3.4.0->en-core-web-lg==3.4.1) (8.1.3)\n",
      "Requirement already satisfied: MarkupSafe>=2.0 in /opt/homebrew/lib/python3.9/site-packages (from jinja2->spacy<3.5.0,>=3.4.0->en-core-web-lg==3.4.1) (2.1.1)\n",
      "Installing collected packages: en-core-web-lg\n",
      "\u001b[33m  DEPRECATION: Configuring installation scheme with distutils config files is deprecated and will no longer work in the near future. If you are using a Homebrew or Linuxbrew Python, please see discussion at https://github.com/Homebrew/homebrew-core/issues/76621\u001b[0m\u001b[33m\n",
      "\u001b[0m\u001b[33mDEPRECATION: Configuring installation scheme with distutils config files is deprecated and will no longer work in the near future. If you are using a Homebrew or Linuxbrew Python, please see discussion at https://github.com/Homebrew/homebrew-core/issues/76621\u001b[0m\u001b[33m\n",
      "\u001b[0mSuccessfully installed en-core-web-lg-3.4.1\n",
      "\n",
      "\u001b[1m[\u001b[0m\u001b[34;49mnotice\u001b[0m\u001b[1;39;49m]\u001b[0m\u001b[39;49m A new release of pip is available: \u001b[0m\u001b[31;49m23.0.1\u001b[0m\u001b[39;49m -> \u001b[0m\u001b[32;49m23.1.2\u001b[0m\n",
      "\u001b[1m[\u001b[0m\u001b[34;49mnotice\u001b[0m\u001b[1;39;49m]\u001b[0m\u001b[39;49m To update, run: \u001b[0m\u001b[32;49mpython3.9 -m pip install --upgrade pip\u001b[0m\n",
      "\u001b[38;5;2m✔ Download and installation successful\u001b[0m\n",
      "You can now load the package via spacy.load('en_core_web_lg')\n"
     ]
    }
   ],
   "source": [
    "!python3 -m spacy download en_core_web_lg"
   ]
  },
  {
   "cell_type": "code",
   "execution_count": 11,
   "id": "bbc1c4e8",
   "metadata": {},
   "outputs": [
    {
     "name": "stdout",
     "output_type": "stream",
     "text": [
      "\u001b[38;5;4mℹ Saving to output directory: output\u001b[0m\n",
      "\u001b[38;5;4mℹ Using CPU\u001b[0m\n",
      "\u001b[38;5;4mℹ To switch to GPU 0, use the option: --gpu-id 0\u001b[0m\n",
      "\u001b[1m\n",
      "=========================== Initializing pipeline ===========================\u001b[0m\n",
      "[2023-06-12 17:13:46,560] [INFO] Set up nlp object from config\n",
      "[2023-06-12 17:13:46,565] [INFO] Pipeline: ['tok2vec', 'ner']\n",
      "[2023-06-12 17:13:46,568] [INFO] Created vocabulary\n",
      "[2023-06-12 17:13:47,637] [INFO] Added vectors: en_core_web_lg\n",
      "[2023-06-12 17:13:49,806] [INFO] Finished initializing nlp object\n",
      "[2023-06-12 17:14:09,196] [INFO] Initialized pipeline components: ['tok2vec', 'ner']\n",
      "\u001b[38;5;2m✔ Initialized pipeline\u001b[0m\n",
      "\u001b[1m\n",
      "============================= Training pipeline =============================\u001b[0m\n",
      "\u001b[38;5;4mℹ Pipeline: ['tok2vec', 'ner']\u001b[0m\n",
      "\u001b[38;5;4mℹ Initial learn rate: 0.001\u001b[0m\n",
      "E    #       LOSS TOK2VEC  LOSS NER  ENTS_F  ENTS_P  ENTS_R  SCORE \n",
      "---  ------  ------------  --------  ------  ------  ------  ------\n",
      "  0       0          0.00     50.41    0.04    0.05    0.03    0.00\n",
      "  0     200        832.15   2518.92    1.93    3.25    1.37    0.02\n",
      "  0     400        498.48   2286.32   20.45   33.97   14.63    0.20\n",
      "  0     600        518.09   2855.55   30.79   46.20   23.09    0.31\n",
      "  0     800        324.46   2726.53   39.08   50.43   31.89    0.39\n",
      "  0    1000       3445.15   3271.22   30.91   38.49   25.83    0.31\n",
      "  0    1200        820.57   3661.13   55.66   59.43   52.35    0.56\n",
      "  0    1400       1005.66   3970.45   59.01   62.48   55.91    0.59\n",
      "  0    1600        914.26   4669.84   55.23   62.14   49.71    0.55\n",
      "  0    1800       1297.98   5372.08   62.34   65.97   59.10    0.62\n",
      "  0    2000       1017.39   5827.90   67.61   68.48   66.77    0.68\n",
      "  1    2200       1254.88   6704.58   66.71   70.81   63.07    0.67\n",
      "  1    2400       1815.03   7742.06   68.11   77.18   60.95    0.68\n",
      "  1    2600       1505.11   7272.66   69.07   72.74   65.74    0.69\n",
      "  2    2800       1468.70   7026.05   70.66   69.97   71.36    0.71\n",
      "  2    3000       1801.74   6673.01   72.99   73.70   72.29    0.73\n",
      "  2    3200       1616.58   6097.26   70.88   74.17   67.87    0.71\n",
      "  3    3400       1751.52   6364.16   74.10   75.22   73.00    0.74\n",
      "  3    3600       1900.08   5315.16   74.95   76.36   73.59    0.75\n",
      "  3    3800       2157.29   5504.45   75.17   75.67   74.68    0.75\n",
      "  3    4000       2130.91   5569.42   74.93   78.06   72.05    0.75\n",
      "  4    4200       1588.15   5156.97   75.86   76.53   75.20    0.76\n",
      "  4    4400       1934.32   4839.37   75.08   73.44   76.81    0.75\n",
      "  4    4600       1588.03   4705.71   76.77   78.99   74.68    0.77\n",
      "  5    4800       1450.62   4238.72   77.53   79.56   75.61    0.78\n",
      "  5    5000       1783.97   4115.91   78.02   81.68   74.68    0.78\n",
      "  5    5200       1252.81   3993.47   77.67   82.40   73.45    0.78\n",
      "  6    5400       1694.40   4261.66   77.33   78.69   76.02    0.77\n",
      "  6    5600       1610.58   3628.66   76.58   78.47   74.79    0.77\n",
      "  6    5800       1130.88   3517.96   76.93   79.23   74.75    0.77\n",
      "  6    6000       2024.83   3679.94   75.96   79.04   73.11    0.76\n",
      "  7    6200       1433.74   3223.64   77.76   79.47   76.12    0.78\n",
      "  7    6400       1414.68   3195.97   77.87   78.42   77.32    0.78\n",
      "  7    6600       1814.95   3488.54   77.44   78.59   76.33    0.77\n",
      "\u001b[38;5;2m✔ Saved pipeline to output directory\u001b[0m\n",
      "output/model-last\n"
     ]
    }
   ],
   "source": [
    "!python3 -m spacy train config.cfg --output ./output --paths.train ./train.spacy --paths.dev ./dev.spacy"
   ]
  },
  {
   "cell_type": "code",
   "execution_count": 15,
   "id": "c1180ea8",
   "metadata": {},
   "outputs": [
    {
     "name": "stdout",
     "output_type": "stream",
     "text": [
      "\u001b[38;5;4mℹ Saving to output directory: output\u001b[0m\n",
      "\u001b[38;5;4mℹ Using CPU\u001b[0m\n",
      "\u001b[38;5;4mℹ To switch to GPU 0, use the option: --gpu-id 0\u001b[0m\n",
      "\u001b[1m\n",
      "=========================== Initializing pipeline ===========================\u001b[0m\n",
      "[2023-06-12 21:27:10,238] [INFO] Set up nlp object from config\n",
      "[2023-06-12 21:27:10,244] [INFO] Pipeline: ['tok2vec', 'ner']\n",
      "[2023-06-12 21:27:10,244] [INFO] Resuming training for: ['ner']\n",
      "[2023-06-12 21:27:10,247] [INFO] Created vocabulary\n",
      "[2023-06-12 21:27:11,580] [INFO] Added vectors: en_core_web_lg\n",
      "[2023-06-12 21:27:12,484] [INFO] Finished initializing nlp object\n",
      "[2023-06-12 21:27:20,571] [INFO] Initialized pipeline components: ['tok2vec']\n",
      "\u001b[38;5;2m✔ Initialized pipeline\u001b[0m\n",
      "\u001b[1m\n",
      "============================= Training pipeline =============================\u001b[0m\n",
      "\u001b[38;5;4mℹ Pipeline: ['tok2vec', 'ner']\u001b[0m\n",
      "\u001b[38;5;4mℹ Initial learn rate: 0.001\u001b[0m\n",
      "E    #       LOSS TOK2VEC  LOSS NER  ENTS_F  ENTS_P  ENTS_R  SCORE \n",
      "---  ------  ------------  --------  ------  ------  ------  ------\n",
      "  0       0          0.78      6.09    0.00    0.00    0.00    0.00\n",
      "  0     200       1154.06   1502.33   25.07   27.48   23.06    0.25\n",
      "  0     400        445.27   1815.37   33.42   51.65   24.70    0.33\n",
      "  0     600        622.55   2256.33   31.60   51.03   22.88    0.32\n",
      "  0     800        558.02   2450.14   45.64   55.03   38.99    0.46\n",
      "  0    1000       1133.47   2864.04   44.92   60.95   35.56    0.45\n",
      "  0    1200        364.71   3175.19   58.03   62.87   53.89    0.58\n",
      "  0    1400        623.25   3656.08   59.16   65.06   54.23    0.59\n",
      "  0    1600        806.12   4440.47   58.20   71.89   48.89    0.58\n",
      "  0    1800        463.47   4617.84   67.13   70.26   64.27    0.67\n",
      "  0    2000        664.61   5530.07   66.56   70.67   62.90    0.67\n",
      "  1    2200       1166.31   6322.59   61.77   65.98   58.07    0.62\n",
      "  1    2400       1635.04   6869.01   71.83   76.95   67.35    0.72\n",
      "  1    2600       1066.60   6417.94   72.48   77.44   68.11    0.72\n",
      "  2    2800        976.53   6119.45   74.72   74.97   74.48    0.75\n",
      "  2    3000       1837.12   5987.05   74.19   74.69   73.69    0.74\n",
      "  2    3200       1316.86   5840.51   72.45   75.77   69.41    0.72\n",
      "  3    3400       1262.29   5589.85   71.76   72.14   71.39    0.72\n",
      "  3    3600       1066.18   4695.97   75.20   76.30   74.13    0.75\n",
      "  3    3800       1638.74   4933.99   76.33   77.98   74.75    0.76\n",
      "  3    4000       1283.43   5187.23   77.27   82.03   73.04    0.77\n",
      "  4    4200       1292.76   4656.15   74.85   77.60   72.29    0.75\n",
      "  4    4400       1868.30   4433.37   75.66   75.28   76.05    0.76\n",
      "  4    4600        914.21   4073.09   76.53   79.56   73.72    0.77\n",
      "  5    4800       1542.38   4180.33   77.52   81.65   73.79    0.78\n",
      "  5    5000       2217.84   4164.47   75.93   80.01   72.25    0.76\n",
      "  5    5200       1083.10   3768.06   77.23   82.16   72.87    0.77\n",
      "  6    5400       1910.97   3942.54   78.94   81.30   76.70    0.79\n",
      "  6    5600        940.75   3344.20   78.76   81.27   76.40    0.79\n",
      "  6    5800        935.06   3394.64   78.22   81.17   75.47    0.78\n",
      "  6    6000       1330.19   3772.00   78.50   81.26   75.92    0.78\n",
      "  7    6200        883.52   3006.17   79.13   79.50   78.76    0.79\n",
      "  7    6400       1099.66   3025.47   77.41   78.30   76.53    0.77\n",
      "  7    6600       1682.37   3320.35   79.52   81.24   77.87    0.80\n",
      "  8    6800       2097.96   3318.80   78.68   80.43   77.01    0.79\n",
      "  8    7000       1421.65   2905.21   77.31   80.37   74.48    0.77\n",
      "  8    7200       1255.70   2992.32   77.97   77.62   78.31    0.78\n",
      "  9    7400       1704.44   2746.79   78.84   80.73   77.05    0.79\n",
      "  9    7600       1514.56   2727.93   76.61   76.31   76.91    0.77\n",
      "  9    7800       1411.94   2886.32   78.73   80.64   76.91    0.79\n",
      " 10    8000       1146.25   2717.98   78.16   79.10   77.25    0.78\n",
      " 10    8200       3259.16   2590.67   76.71   76.37   77.05    0.77\n",
      "\u001b[38;5;2m✔ Saved pipeline to output directory\u001b[0m\n",
      "output/model-last\n"
     ]
    }
   ],
   "source": [
    "!python3 -m spacy train config.cfg --output ./output --paths.train ./train.spacy --paths.dev ./dev.spacy\n"
   ]
  },
  {
   "cell_type": "code",
   "execution_count": null,
   "id": "8c7ed214",
   "metadata": {},
   "outputs": [],
   "source": []
  }
 ],
 "metadata": {
  "kernelspec": {
   "display_name": "Python 3 (ipykernel)",
   "language": "python",
   "name": "python3"
  },
  "language_info": {
   "codemirror_mode": {
    "name": "ipython",
    "version": 3
   },
   "file_extension": ".py",
   "mimetype": "text/x-python",
   "name": "python",
   "nbconvert_exporter": "python",
   "pygments_lexer": "ipython3",
   "version": "3.9.13"
  }
 },
 "nbformat": 4,
 "nbformat_minor": 5
}

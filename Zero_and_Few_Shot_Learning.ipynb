{
  "nbformat": 4,
  "nbformat_minor": 0,
  "metadata": {
    "colab": {
      "provenance": [],
      "gpuType": "T4"
    },
    "kernelspec": {
      "name": "python3",
      "display_name": "Python 3"
    },
    "language_info": {
      "name": "python"
    },
    "accelerator": "GPU"
  },
  "cells": [
    {
      "cell_type": "code",
      "source": [
        "!pip install transformers[torch]"
      ],
      "metadata": {
        "id": "Bkpv1saflaNt"
      },
      "execution_count": null,
      "outputs": []
    },
    {
      "cell_type": "code",
      "execution_count": null,
      "metadata": {
        "id": "cVsRLni7tOJQ"
      },
      "outputs": [],
      "source": [
        "!git clone https://github.com/br-ai-ns-institute/Zero-ShotNER.git"
      ]
    },
    {
      "cell_type": "code",
      "source": [
        "from google.colab import drive\n",
        "drive.mount('/content/drive')"
      ],
      "metadata": {
        "id": "45DxZd5OiDkf"
      },
      "execution_count": null,
      "outputs": []
    },
    {
      "cell_type": "code",
      "source": [
        "import os\n",
        "\n",
        "folder_name = \"NLP\"\n",
        "out_path = \"/content/drive/MyDrive/\" + folder_name\n",
        "\n",
        "if not os.path.exists(out_path):\n",
        "    os.makedirs(out_path)\n"
      ],
      "metadata": {
        "id": "XJavkI62iafl"
      },
      "execution_count": null,
      "outputs": []
    },
    {
      "cell_type": "code",
      "source": [
        "%cd /content/Zero-ShotNER"
      ],
      "metadata": {
        "colab": {
          "base_uri": "https://localhost:8080/"
        },
        "id": "h3GQfuwRtXKu",
        "outputId": "cb553d4f-a9ac-4e65-b783-84a6eedf3f35"
      },
      "execution_count": null,
      "outputs": [
        {
          "output_type": "stream",
          "name": "stdout",
          "text": [
            "/content/Zero-ShotNER\n"
          ]
        }
      ]
    },
    {
      "cell_type": "code",
      "source": [
        "!pip install gdown\n",
        "import gdown"
      ],
      "metadata": {
        "id": "unOpuOlIUQ3J"
      },
      "execution_count": null,
      "outputs": []
    },
    {
      "cell_type": "code",
      "source": [
        "drive_link = \"https://drive.google.com/u/0/uc?id=1-AkNr4DDfqmXQc-E4Zk7bND4XLnGCG0s&export=download\"\n",
        "output_file = \"./datasets/train.csv\"\n",
        "gdown.download(drive_link, output_file, quiet=False)"
      ],
      "metadata": {
        "id": "5HVJ_6emTe94"
      },
      "execution_count": null,
      "outputs": []
    },
    {
      "cell_type": "code",
      "source": [
        "drive_link = \"https://drive.google.com/u/0/uc?id=1-DXQd3y27RdaYIhy4PTS0naoHz7rn6U9&export=download\"\n",
        "output_file = \"./datasets/test.csv\"\n",
        "gdown.download(drive_link, output_file, quiet=False)"
      ],
      "metadata": {
        "id": "nqcPseA7UPxp"
      },
      "execution_count": null,
      "outputs": []
    },
    {
      "cell_type": "markdown",
      "source": [
        "# Start"
      ],
      "metadata": {
        "id": "WNKMRFibjPi4"
      }
    },
    {
      "cell_type": "code",
      "source": [
        "import pandas as pd\n",
        "import pickle\n",
        "import numpy as np\n",
        "\n",
        "import os\n",
        "\n",
        "import torch\n",
        "from torch.utils.data import Subset\n",
        "\n",
        "import transformers\n",
        "from transformers import AutoTokenizer\n",
        "from transformers import BertForTokenClassification, Trainer, TrainingArguments\n",
        "\n",
        "import random\n",
        "import time\n",
        "\n",
        "import ast\n",
        "\n",
        "from sklearn.model_selection import train_test_split"
      ],
      "metadata": {
        "id": "KjFSmfhXhxGY"
      },
      "execution_count": null,
      "outputs": []
    },
    {
      "cell_type": "markdown",
      "source": [
        "# Parameters"
      ],
      "metadata": {
        "id": "FBY-RzkUe2Zr"
      }
    },
    {
      "cell_type": "code",
      "source": [
        "model_name = \"bert-base-cased\"\n",
        "# model_name = \"dmis-lab/biobert-v1.1\"\n",
        "tokenizer = AutoTokenizer.from_pretrained(model_name)\n",
        "class_unseen = 'PETITIONER'\n",
        "num_train_epochs = 20\n",
        "max_length = 512\n",
        "sampled_data_size_train = None\n",
        "sampled_data_size_test = None\n",
        "# max_length = 256"
      ],
      "metadata": {
        "id": "ZFu7UyQIjMPb"
      },
      "execution_count": null,
      "outputs": []
    },
    {
      "cell_type": "markdown",
      "source": [
        "# Data Processing"
      ],
      "metadata": {
        "id": "jSTdtybTheQs"
      }
    },
    {
      "cell_type": "code",
      "source": [
        "df_train_val = pd.read_csv(\"datasets/train.csv\", index_col=0)\n",
        "if sampled_data_size_train != None:\n",
        "  df_train_val = df_train_val.sample(sampled_data_size_train).reset_index(drop=True)\n",
        "\n",
        "df_test = pd.read_csv(\"datasets/test.csv\", index_col=0)\n",
        "if sampled_data_size_test != None:\n",
        "  df_test = df_test.sample(sampled_data_size_test).reset_index(drop=True)\n",
        "\n",
        "df_train, df_valid = train_test_split(df_train_val, test_size=0.2, random_state=42)\n",
        "\n",
        "df_train = df_train[['class', 'text', 'labels']].reset_index(drop=True)\n",
        "df_train['text'] = df_train['text'].apply(ast.literal_eval)\n",
        "df_train['class'] = df_train['class'].apply(ast.literal_eval)\n",
        "df_train['labels'] = df_train['labels'].apply(ast.literal_eval)\n",
        "\n",
        "df_valid = df_valid[['class', 'text', 'labels']].reset_index(drop=True)\n",
        "df_valid['text'] = df_valid['text'].apply(ast.literal_eval)\n",
        "df_valid['class'] = df_valid['class'].apply(ast.literal_eval)\n",
        "df_valid['labels'] = df_valid['labels'].apply(ast.literal_eval)\n",
        "\n",
        "df_test = df_test[['class', 'text', 'labels']].reset_index(drop=True)\n",
        "df_test['text'] = df_test['text'].apply(ast.literal_eval)\n",
        "df_test['class'] = df_test['class'].apply(ast.literal_eval)\n",
        "df_test['labels'] = df_test['labels'].apply(ast.literal_eval)"
      ],
      "metadata": {
        "id": "Wor11HuwiB_-"
      },
      "execution_count": null,
      "outputs": []
    },
    {
      "cell_type": "code",
      "source": [
        "df_test"
      ],
      "metadata": {
        "colab": {
          "base_uri": "https://localhost:8080/",
          "height": 423
        },
        "id": "dfCThrqHpkAb",
        "outputId": "bf3d53c0-71a1-4aff-f3c6-90870a92975e"
      },
      "execution_count": null,
      "outputs": [
        {
          "output_type": "execute_result",
          "data": {
            "text/plain": [
              "                class                                               text  \\\n",
              "0           [STATUTE]  [True,, our, Constitution, has, no, 'due, proc...   \n",
              "1         [PRECEDENT]  [True,, our, Constitution, has, no, 'due, proc...   \n",
              "2             [JUDGE]  [(See, Principles, of, Statutory, Interpretati...   \n",
              "3     [OTHER, PERSON]  [Their, Lordships, have, said, --, , \"It, is, ...   \n",
              "4               [GPE]  [Their, Lordships, have, said, --, , \"It, is, ...   \n",
              "...               ...                                                ...   \n",
              "1976          [JUDGE]  [High, Court, Of, Judicature, At, Allahabad\\n,...   \n",
              "1977         [LAWYER]  [High, Court, Of, Judicature, At, Allahabad\\n,...   \n",
              "1978     [RESPONDENT]  [High, Court, Of, Judicature, At, Allahabad\\n,...   \n",
              "1979          [COURT]  [High, Court, Of, Judicature, At, Allahabad\\n,...   \n",
              "1980     [PETITIONER]  [High, Court, Of, Judicature, At, Allahabad\\n,...   \n",
              "\n",
              "                                                 labels  \n",
              "0     [0, 0, 1, 0, 0, 0, 0, 0, 0, 0, 0, 0, 0, 0, 0, ...  \n",
              "1     [0, 0, 0, 0, 0, 0, 0, 0, 0, 0, 0, 0, 0, 0, 0, ...  \n",
              "2      [0, 0, 0, 0, 0, 0, 0, 1, 1, 0, 0, 0, 0, 0, 0, 0]  \n",
              "3     [0, 0, 0, 0, 0, 0, 0, 0, 0, 0, 0, 0, 0, 0, 0, ...  \n",
              "4     [0, 0, 0, 0, 0, 0, 0, 0, 0, 0, 0, 0, 0, 0, 0, ...  \n",
              "...                                                 ...  \n",
              "1976  [0, 0, 0, 0, 0, 0, 0, 0, 0, 0, 0, 0, 0, 0, 0, ...  \n",
              "1977  [0, 0, 0, 0, 0, 0, 0, 0, 0, 0, 0, 0, 0, 0, 0, ...  \n",
              "1978  [0, 0, 0, 0, 0, 0, 0, 0, 0, 0, 0, 0, 0, 0, 0, ...  \n",
              "1979  [1, 1, 1, 1, 1, 1, 0, 0, 0, 0, 0, 0, 0, 0, 0, ...  \n",
              "1980  [0, 0, 0, 0, 0, 0, 0, 0, 0, 0, 0, 0, 0, 0, 0, ...  \n",
              "\n",
              "[1981 rows x 3 columns]"
            ],
            "text/html": [
              "\n",
              "  <div id=\"df-a352aa2a-9709-4483-8cb2-e0de1d6d0108\">\n",
              "    <div class=\"colab-df-container\">\n",
              "      <div>\n",
              "<style scoped>\n",
              "    .dataframe tbody tr th:only-of-type {\n",
              "        vertical-align: middle;\n",
              "    }\n",
              "\n",
              "    .dataframe tbody tr th {\n",
              "        vertical-align: top;\n",
              "    }\n",
              "\n",
              "    .dataframe thead th {\n",
              "        text-align: right;\n",
              "    }\n",
              "</style>\n",
              "<table border=\"1\" class=\"dataframe\">\n",
              "  <thead>\n",
              "    <tr style=\"text-align: right;\">\n",
              "      <th></th>\n",
              "      <th>class</th>\n",
              "      <th>text</th>\n",
              "      <th>labels</th>\n",
              "    </tr>\n",
              "  </thead>\n",
              "  <tbody>\n",
              "    <tr>\n",
              "      <th>0</th>\n",
              "      <td>[STATUTE]</td>\n",
              "      <td>[True,, our, Constitution, has, no, 'due, proc...</td>\n",
              "      <td>[0, 0, 1, 0, 0, 0, 0, 0, 0, 0, 0, 0, 0, 0, 0, ...</td>\n",
              "    </tr>\n",
              "    <tr>\n",
              "      <th>1</th>\n",
              "      <td>[PRECEDENT]</td>\n",
              "      <td>[True,, our, Constitution, has, no, 'due, proc...</td>\n",
              "      <td>[0, 0, 0, 0, 0, 0, 0, 0, 0, 0, 0, 0, 0, 0, 0, ...</td>\n",
              "    </tr>\n",
              "    <tr>\n",
              "      <th>2</th>\n",
              "      <td>[JUDGE]</td>\n",
              "      <td>[(See, Principles, of, Statutory, Interpretati...</td>\n",
              "      <td>[0, 0, 0, 0, 0, 0, 0, 1, 1, 0, 0, 0, 0, 0, 0, 0]</td>\n",
              "    </tr>\n",
              "    <tr>\n",
              "      <th>3</th>\n",
              "      <td>[OTHER, PERSON]</td>\n",
              "      <td>[Their, Lordships, have, said, --, , \"It, is, ...</td>\n",
              "      <td>[0, 0, 0, 0, 0, 0, 0, 0, 0, 0, 0, 0, 0, 0, 0, ...</td>\n",
              "    </tr>\n",
              "    <tr>\n",
              "      <th>4</th>\n",
              "      <td>[GPE]</td>\n",
              "      <td>[Their, Lordships, have, said, --, , \"It, is, ...</td>\n",
              "      <td>[0, 0, 0, 0, 0, 0, 0, 0, 0, 0, 0, 0, 0, 0, 0, ...</td>\n",
              "    </tr>\n",
              "    <tr>\n",
              "      <th>...</th>\n",
              "      <td>...</td>\n",
              "      <td>...</td>\n",
              "      <td>...</td>\n",
              "    </tr>\n",
              "    <tr>\n",
              "      <th>1976</th>\n",
              "      <td>[JUDGE]</td>\n",
              "      <td>[High, Court, Of, Judicature, At, Allahabad\\n,...</td>\n",
              "      <td>[0, 0, 0, 0, 0, 0, 0, 0, 0, 0, 0, 0, 0, 0, 0, ...</td>\n",
              "    </tr>\n",
              "    <tr>\n",
              "      <th>1977</th>\n",
              "      <td>[LAWYER]</td>\n",
              "      <td>[High, Court, Of, Judicature, At, Allahabad\\n,...</td>\n",
              "      <td>[0, 0, 0, 0, 0, 0, 0, 0, 0, 0, 0, 0, 0, 0, 0, ...</td>\n",
              "    </tr>\n",
              "    <tr>\n",
              "      <th>1978</th>\n",
              "      <td>[RESPONDENT]</td>\n",
              "      <td>[High, Court, Of, Judicature, At, Allahabad\\n,...</td>\n",
              "      <td>[0, 0, 0, 0, 0, 0, 0, 0, 0, 0, 0, 0, 0, 0, 0, ...</td>\n",
              "    </tr>\n",
              "    <tr>\n",
              "      <th>1979</th>\n",
              "      <td>[COURT]</td>\n",
              "      <td>[High, Court, Of, Judicature, At, Allahabad\\n,...</td>\n",
              "      <td>[1, 1, 1, 1, 1, 1, 0, 0, 0, 0, 0, 0, 0, 0, 0, ...</td>\n",
              "    </tr>\n",
              "    <tr>\n",
              "      <th>1980</th>\n",
              "      <td>[PETITIONER]</td>\n",
              "      <td>[High, Court, Of, Judicature, At, Allahabad\\n,...</td>\n",
              "      <td>[0, 0, 0, 0, 0, 0, 0, 0, 0, 0, 0, 0, 0, 0, 0, ...</td>\n",
              "    </tr>\n",
              "  </tbody>\n",
              "</table>\n",
              "<p>1981 rows × 3 columns</p>\n",
              "</div>\n",
              "      <button class=\"colab-df-convert\" onclick=\"convertToInteractive('df-a352aa2a-9709-4483-8cb2-e0de1d6d0108')\"\n",
              "              title=\"Convert this dataframe to an interactive table.\"\n",
              "              style=\"display:none;\">\n",
              "        \n",
              "  <svg xmlns=\"http://www.w3.org/2000/svg\" height=\"24px\"viewBox=\"0 0 24 24\"\n",
              "       width=\"24px\">\n",
              "    <path d=\"M0 0h24v24H0V0z\" fill=\"none\"/>\n",
              "    <path d=\"M18.56 5.44l.94 2.06.94-2.06 2.06-.94-2.06-.94-.94-2.06-.94 2.06-2.06.94zm-11 1L8.5 8.5l.94-2.06 2.06-.94-2.06-.94L8.5 2.5l-.94 2.06-2.06.94zm10 10l.94 2.06.94-2.06 2.06-.94-2.06-.94-.94-2.06-.94 2.06-2.06.94z\"/><path d=\"M17.41 7.96l-1.37-1.37c-.4-.4-.92-.59-1.43-.59-.52 0-1.04.2-1.43.59L10.3 9.45l-7.72 7.72c-.78.78-.78 2.05 0 2.83L4 21.41c.39.39.9.59 1.41.59.51 0 1.02-.2 1.41-.59l7.78-7.78 2.81-2.81c.8-.78.8-2.07 0-2.86zM5.41 20L4 18.59l7.72-7.72 1.47 1.35L5.41 20z\"/>\n",
              "  </svg>\n",
              "      </button>\n",
              "      \n",
              "  <style>\n",
              "    .colab-df-container {\n",
              "      display:flex;\n",
              "      flex-wrap:wrap;\n",
              "      gap: 12px;\n",
              "    }\n",
              "\n",
              "    .colab-df-convert {\n",
              "      background-color: #E8F0FE;\n",
              "      border: none;\n",
              "      border-radius: 50%;\n",
              "      cursor: pointer;\n",
              "      display: none;\n",
              "      fill: #1967D2;\n",
              "      height: 32px;\n",
              "      padding: 0 0 0 0;\n",
              "      width: 32px;\n",
              "    }\n",
              "\n",
              "    .colab-df-convert:hover {\n",
              "      background-color: #E2EBFA;\n",
              "      box-shadow: 0px 1px 2px rgba(60, 64, 67, 0.3), 0px 1px 3px 1px rgba(60, 64, 67, 0.15);\n",
              "      fill: #174EA6;\n",
              "    }\n",
              "\n",
              "    [theme=dark] .colab-df-convert {\n",
              "      background-color: #3B4455;\n",
              "      fill: #D2E3FC;\n",
              "    }\n",
              "\n",
              "    [theme=dark] .colab-df-convert:hover {\n",
              "      background-color: #434B5C;\n",
              "      box-shadow: 0px 1px 3px 1px rgba(0, 0, 0, 0.15);\n",
              "      filter: drop-shadow(0px 1px 2px rgba(0, 0, 0, 0.3));\n",
              "      fill: #FFFFFF;\n",
              "    }\n",
              "  </style>\n",
              "\n",
              "      <script>\n",
              "        const buttonEl =\n",
              "          document.querySelector('#df-a352aa2a-9709-4483-8cb2-e0de1d6d0108 button.colab-df-convert');\n",
              "        buttonEl.style.display =\n",
              "          google.colab.kernel.accessAllowed ? 'block' : 'none';\n",
              "\n",
              "        async function convertToInteractive(key) {\n",
              "          const element = document.querySelector('#df-a352aa2a-9709-4483-8cb2-e0de1d6d0108');\n",
              "          const dataTable =\n",
              "            await google.colab.kernel.invokeFunction('convertToInteractive',\n",
              "                                                     [key], {});\n",
              "          if (!dataTable) return;\n",
              "\n",
              "          const docLinkHtml = 'Like what you see? Visit the ' +\n",
              "            '<a target=\"_blank\" href=https://colab.research.google.com/notebooks/data_table.ipynb>data table notebook</a>'\n",
              "            + ' to learn more about interactive tables.';\n",
              "          element.innerHTML = '';\n",
              "          dataTable['output_type'] = 'display_data';\n",
              "          await google.colab.output.renderOutput(dataTable, element);\n",
              "          const docLink = document.createElement('div');\n",
              "          docLink.innerHTML = docLinkHtml;\n",
              "          element.appendChild(docLink);\n",
              "        }\n",
              "      </script>\n",
              "    </div>\n",
              "  </div>\n",
              "  "
            ]
          },
          "metadata": {},
          "execution_count": 12
        }
      ]
    },
    {
      "cell_type": "code",
      "source": [
        "def get_tokenized_encodings(df):\n",
        "  tokenized_encodings = tokenizer(df[\"class\"].to_list(),\n",
        "                                  df[\"text\"].to_list(),\n",
        "                                  truncation=True,\n",
        "                                  is_split_into_words=True,\n",
        "                                  add_special_tokens=True,\n",
        "                                  padding='max_length',\n",
        "                                  max_length=max_length)\n",
        "  return tokenized_encodings\n",
        "\n",
        "def align_lables(df, tokenized_encodings, label_all_tokens = True):\n",
        "\n",
        "    labels = list()\n",
        "    for i, label in enumerate(df['labels']):\n",
        "        word_ids = tokenized_encodings.word_ids(batch_index=i)  # Map tokens to their respective word.\n",
        "        previous_word_idx = None\n",
        "        label_ids = []\n",
        "        for word_idx in word_ids:  # Set the special tokens to -100.\n",
        "            if word_idx is None:\n",
        "                label_ids.append(-100)\n",
        "            elif word_idx != previous_word_idx:\n",
        "                if word_idx < len(label):\n",
        "                    label_ids.append(label[word_idx])\n",
        "                else:\n",
        "                    label_ids.append(-100)\n",
        "            else:\n",
        "                label_ids.append(label[word_idx] if label_all_tokens else -100)\n",
        "            previous_word_idx = word_idx\n",
        "        stop = label_ids.index(-100, 2)\n",
        "        label_ids = label_ids[:1] + [1 for x in label_ids[1:stop]] + label_ids[stop:]\n",
        "        labels.append(label_ids)\n",
        "    return labels\n",
        "\n",
        "class Custom_Dataset(torch.utils.data.Dataset):\n",
        "    def __init__(self, encodings, labels):\n",
        "        self.encodings = encodings\n",
        "        self.labels = labels\n",
        "\n",
        "    def __getitem__(self, idx):\n",
        "        item = {key: torch.tensor(val[idx]) for key, val in self.encodings.items()}\n",
        "        item['labels'] = torch.tensor(self.labels[idx])\n",
        "        return item\n",
        "\n",
        "    def __len__(self):\n",
        "        return len(self.labels)"
      ],
      "metadata": {
        "id": "sR6zN1fAiPuD"
      },
      "execution_count": null,
      "outputs": []
    },
    {
      "cell_type": "code",
      "source": [
        "tokenized_encodings_train = get_tokenized_encodings(df_train)\n",
        "tokenized_encodings_valid = get_tokenized_encodings(df_valid)\n",
        "tokenized_encodings_test = get_tokenized_encodings(df_test)\n",
        "\n",
        "labels_train = align_lables(df_train, tokenized_encodings_train, label_all_tokens = True)\n",
        "labels_valid = align_lables(df_valid, tokenized_encodings_valid, label_all_tokens = True)\n",
        "labels_test = align_lables(df_test, tokenized_encodings_test, label_all_tokens = True)\n",
        "\n",
        "dataset_train = Custom_Dataset(tokenized_encodings_train, labels_train)\n",
        "dataset_valid = Custom_Dataset(tokenized_encodings_valid, labels_valid)\n",
        "dataset_test = Custom_Dataset(tokenized_encodings_test, labels_test)"
      ],
      "metadata": {
        "id": "RcZYEa8xiuHO"
      },
      "execution_count": null,
      "outputs": []
    },
    {
      "cell_type": "code",
      "source": [
        "def get_task_specific_datasets(class_name):\n",
        "    indexes_train = list(df_train.index[df_train['class'].apply(lambda c : \" \".join(c) != class_name)])\n",
        "    indexes_valid = list(df_valid.index[df_valid['class'].apply(lambda c : \" \".join(c) != class_name)])\n",
        "    indexes_test = list(df_test.index[df_test['class'].apply(lambda c : \" \".join(c) == class_name)])\n",
        "    # print(indexes_test)\n",
        "    df_withOne_test = df_test.loc[indexes_test]\n",
        "\n",
        "    dataset_withoutOne_train = Subset(dataset_train, indexes_train)\n",
        "    dataset_withoutOne_valid = Subset(dataset_valid, indexes_valid)\n",
        "    dataset_withOne_test = Subset(dataset_test, indexes_test)\n",
        "\n",
        "    lst_indexes_FewShot_train = list(df_train.index[(df_train['class'].apply(lambda c : \" \".join(c) == class_name)) & (df_train['labels'].apply(lambda lst : sum(lst))>0)])\n",
        "\n",
        "    indexes_UnseenClass_train_1 = random.choices(lst_indexes_FewShot_train, k=1)\n",
        "    indexes_UnseenClass_train_10 = random.choices(lst_indexes_FewShot_train, k=10)\n",
        "    indexes_UnseenClass_train_100 = random.choices(lst_indexes_FewShot_train, k=100)\n",
        "\n",
        "    dataset_UnseenClass_train_1 = Subset(dataset_train, indexes_UnseenClass_train_1)\n",
        "    dataset_UnseenClass_train_10 = Subset(dataset_train, indexes_UnseenClass_train_10)\n",
        "    dataset_UnseenClass_train_100 = Subset(dataset_train, indexes_UnseenClass_train_100)\n",
        "\n",
        "    return dataset_withoutOne_train, dataset_withoutOne_valid, dataset_withOne_test, dataset_UnseenClass_train_1, dataset_UnseenClass_train_10, dataset_UnseenClass_train_100, df_withOne_test"
      ],
      "metadata": {
        "id": "z-QyO-XUCzyd"
      },
      "execution_count": null,
      "outputs": []
    },
    {
      "cell_type": "code",
      "source": [
        "train0shot, valid0shot , dataset_withOne_test, train1shot, train10shot, train100shot, df_withOne_test = get_task_specific_datasets(class_unseen)"
      ],
      "metadata": {
        "id": "Y8psy3H7EVBC"
      },
      "execution_count": null,
      "outputs": []
    },
    {
      "cell_type": "markdown",
      "source": [
        "# Training"
      ],
      "metadata": {
        "id": "XpXqcBH6l116"
      }
    },
    {
      "cell_type": "code",
      "source": [
        "folder_name + '/Results'+class_unseen+'ZeroShot'"
      ],
      "metadata": {
        "colab": {
          "base_uri": "https://localhost:8080/",
          "height": 35
        },
        "id": "1ITUo0D4kOWt",
        "outputId": "bbb0ab01-688a-4e3e-ee81-24eda8bd509a"
      },
      "execution_count": null,
      "outputs": [
        {
          "output_type": "execute_result",
          "data": {
            "text/plain": [
              "'NLP/ResultsPETITIONERZeroShot'"
            ],
            "application/vnd.google.colaboratory.intrinsic+json": {
              "type": "string"
            }
          },
          "metadata": {},
          "execution_count": 17
        }
      ]
    },
    {
      "cell_type": "code",
      "source": [
        "training_args = TrainingArguments(\n",
        "    output_dir= out_path + '/Results'+class_unseen+'ZeroShot',   # output folder (folder to store the results)\n",
        "    num_train_epochs=num_train_epochs,                               # number of training epochs\n",
        "    per_device_train_batch_size=16,                   # batch size per device during training\n",
        "    per_device_eval_batch_size=16,                    # batch size for evaluation\n",
        "    weight_decay=0.01,                                # strength of weight decay\n",
        "    logging_dir=out_path + '/Logs'+class_unseen+'ZeroShot',     # folder to store the logs\n",
        "    #logging_steps=10000,\n",
        "    #logging_strategy='steps',\n",
        "    save_strategy='epoch',\n",
        "    evaluation_strategy='epoch',\n",
        "    load_best_model_at_end=True\n",
        ")\n",
        "\n",
        "\n",
        "model = BertForTokenClassification.from_pretrained(model_name, num_labels=2)\n",
        "\n",
        "trainer = Trainer(\n",
        "    model=model,                 # pre-trained model for fine-tuning\n",
        "    args=training_args,          # training arguments defined above\n",
        "    train_dataset=train0shot,    # dataset class object for training\n",
        "    eval_dataset=valid0shot   # dataset class object for validation\n",
        ")\n",
        "\n",
        "start_time = time.time()\n",
        "trainer.train()\n",
        "total_time = time.time()-start_time\n",
        "\n",
        "model_path = os.path.join(out_path, 'Results', class_unseen, 'ZeroShot', 'Model')\n",
        "os.makedirs(model_path, exist_ok=True)\n",
        "model.save_pretrained(model_path)\n",
        "\n",
        "tokenizer_path = os.path.join(out_path, 'Results', class_unseen, 'ZeroShot','Tokenizer')\n",
        "os.makedirs(tokenizer_path, exist_ok=True)\n",
        "tokenizer.save_pretrained(tokenizer_path)"
      ],
      "metadata": {
        "id": "cIfsvdbOlxwj",
        "colab": {
          "base_uri": "https://localhost:8080/",
          "height": 372
        },
        "outputId": "2aaa6b16-621d-4896-815d-a5ce12877a32"
      },
      "execution_count": null,
      "outputs": [
        {
          "output_type": "stream",
          "name": "stderr",
          "text": [
            "Some weights of the model checkpoint at bert-base-cased were not used when initializing BertForTokenClassification: ['cls.predictions.transform.LayerNorm.weight', 'cls.seq_relationship.bias', 'cls.seq_relationship.weight', 'cls.predictions.transform.dense.weight', 'cls.predictions.transform.LayerNorm.bias', 'cls.predictions.bias', 'cls.predictions.transform.dense.bias']\n",
            "- This IS expected if you are initializing BertForTokenClassification from the checkpoint of a model trained on another task or with another architecture (e.g. initializing a BertForSequenceClassification model from a BertForPreTraining model).\n",
            "- This IS NOT expected if you are initializing BertForTokenClassification from the checkpoint of a model that you expect to be exactly identical (initializing a BertForSequenceClassification model from a BertForSequenceClassification model).\n",
            "Some weights of BertForTokenClassification were not initialized from the model checkpoint at bert-base-cased and are newly initialized: ['classifier.weight', 'classifier.bias']\n",
            "You should probably TRAIN this model on a down-stream task to be able to use it for predictions and inference.\n",
            "/usr/local/lib/python3.10/dist-packages/transformers/optimization.py:411: FutureWarning: This implementation of AdamW is deprecated and will be removed in a future version. Use the PyTorch implementation torch.optim.AdamW instead, or set `no_deprecation_warning=True` to disable this warning\n",
            "  warnings.warn(\n"
          ]
        },
        {
          "output_type": "display_data",
          "data": {
            "text/plain": [
              "<IPython.core.display.HTML object>"
            ],
            "text/html": [
              "\n",
              "    <div>\n",
              "      \n",
              "      <progress value='10' max='10' style='width:300px; height:20px; vertical-align: middle;'></progress>\n",
              "      [10/10 00:33, Epoch 2/2]\n",
              "    </div>\n",
              "    <table border=\"1\" class=\"dataframe\">\n",
              "  <thead>\n",
              " <tr style=\"text-align: left;\">\n",
              "      <th>Epoch</th>\n",
              "      <th>Training Loss</th>\n",
              "      <th>Validation Loss</th>\n",
              "    </tr>\n",
              "  </thead>\n",
              "  <tbody>\n",
              "    <tr>\n",
              "      <td>1</td>\n",
              "      <td>No log</td>\n",
              "      <td>0.264103</td>\n",
              "    </tr>\n",
              "    <tr>\n",
              "      <td>2</td>\n",
              "      <td>No log</td>\n",
              "      <td>0.244506</td>\n",
              "    </tr>\n",
              "  </tbody>\n",
              "</table><p>"
            ]
          },
          "metadata": {}
        },
        {
          "output_type": "execute_result",
          "data": {
            "text/plain": [
              "('/content/drive/MyDrive/NLP/Results/PETITIONER/ZeroShot/Tokenizer/tokenizer_config.json',\n",
              " '/content/drive/MyDrive/NLP/Results/PETITIONER/ZeroShot/Tokenizer/special_tokens_map.json',\n",
              " '/content/drive/MyDrive/NLP/Results/PETITIONER/ZeroShot/Tokenizer/vocab.txt',\n",
              " '/content/drive/MyDrive/NLP/Results/PETITIONER/ZeroShot/Tokenizer/added_tokens.json',\n",
              " '/content/drive/MyDrive/NLP/Results/PETITIONER/ZeroShot/Tokenizer/tokenizer.json')"
            ]
          },
          "metadata": {},
          "execution_count": 18
        }
      ]
    },
    {
      "cell_type": "code",
      "source": [
        "for i, data_set_train in enumerate([train1shot, train10shot, train100shot]):\n",
        "    training_args = TrainingArguments(\n",
        "        output_dir=out_path + '/Results'+class_unseen+'FewShot'+str(i),  # output folder (folder to store the results)\n",
        "        num_train_epochs=num_train_epochs,                                   # number of training epochs\n",
        "        per_device_train_batch_size=16,                        # batch size per device during training\n",
        "        per_device_eval_batch_size=16,                         # batch size for evaluation\n",
        "        weight_decay=0.01,                                     # strength of weight decay\n",
        "        logging_dir=out_path + '/Logs'+class_unseen+'FewShot'+str(i),    # folder to store the logs\n",
        "        #logging_steps=10000,\n",
        "        #logging_strategy='steps',\n",
        "        save_strategy='epoch',\n",
        "        evaluation_strategy='epoch',\n",
        "        load_best_model_at_end=True\n",
        "    )\n",
        "\n",
        "    model0 = BertForTokenClassification.from_pretrained(model_path, num_labels=2)\n",
        "\n",
        "    trainer = Trainer(\n",
        "        model=model0,                # pre-trained model for fine-tuning\n",
        "        args=training_args,          # training arguments defined above\n",
        "        train_dataset=data_set_train,   # dataset class object for training\n",
        "        eval_dataset=valid0shot   # dataset class object for validation\n",
        "    )\n",
        "\n",
        "    start_time = time.time()\n",
        "    trainer.train()\n",
        "    total_time = time.time()-start_time\n",
        "\n",
        "    model_path = os.path.join(out_path, 'Results', class_unseen, 'FewShot',str(i), 'Model')\n",
        "    os.makedirs(model_path, exist_ok=True)\n",
        "    model0.save_pretrained(model_path)\n",
        "\n",
        "    tokenizer_path = os.path.join(out_path, 'Results', class_unseen, 'FewShot', str(i), 'Tokenizer')\n",
        "    os.makedirs(tokenizer_path, exist_ok=True)\n",
        "    tokenizer.save_pretrained(tokenizer_path)\n"
      ],
      "metadata": {
        "colab": {
          "base_uri": "https://localhost:8080/",
          "height": 507
        },
        "id": "_VX08zhxuMh8",
        "outputId": "75379169-bee1-468c-f61f-35384feab9ed"
      },
      "execution_count": null,
      "outputs": [
        {
          "output_type": "stream",
          "name": "stderr",
          "text": [
            "/usr/local/lib/python3.10/dist-packages/transformers/optimization.py:411: FutureWarning: This implementation of AdamW is deprecated and will be removed in a future version. Use the PyTorch implementation torch.optim.AdamW instead, or set `no_deprecation_warning=True` to disable this warning\n",
            "  warnings.warn(\n"
          ]
        },
        {
          "output_type": "display_data",
          "data": {
            "text/plain": [
              "<IPython.core.display.HTML object>"
            ],
            "text/html": [
              "\n",
              "    <div>\n",
              "      \n",
              "      <progress value='2' max='2' style='width:300px; height:20px; vertical-align: middle;'></progress>\n",
              "      [2/2 00:22, Epoch 2/2]\n",
              "    </div>\n",
              "    <table border=\"1\" class=\"dataframe\">\n",
              "  <thead>\n",
              " <tr style=\"text-align: left;\">\n",
              "      <th>Epoch</th>\n",
              "      <th>Training Loss</th>\n",
              "      <th>Validation Loss</th>\n",
              "    </tr>\n",
              "  </thead>\n",
              "  <tbody>\n",
              "    <tr>\n",
              "      <td>1</td>\n",
              "      <td>No log</td>\n",
              "      <td>0.268166</td>\n",
              "    </tr>\n",
              "    <tr>\n",
              "      <td>2</td>\n",
              "      <td>No log</td>\n",
              "      <td>0.271170</td>\n",
              "    </tr>\n",
              "  </tbody>\n",
              "</table><p>"
            ]
          },
          "metadata": {}
        },
        {
          "output_type": "stream",
          "name": "stderr",
          "text": [
            "/usr/local/lib/python3.10/dist-packages/transformers/optimization.py:411: FutureWarning: This implementation of AdamW is deprecated and will be removed in a future version. Use the PyTorch implementation torch.optim.AdamW instead, or set `no_deprecation_warning=True` to disable this warning\n",
            "  warnings.warn(\n"
          ]
        },
        {
          "output_type": "display_data",
          "data": {
            "text/plain": [
              "<IPython.core.display.HTML object>"
            ],
            "text/html": [
              "\n",
              "    <div>\n",
              "      \n",
              "      <progress value='2' max='2' style='width:300px; height:20px; vertical-align: middle;'></progress>\n",
              "      [2/2 00:28, Epoch 2/2]\n",
              "    </div>\n",
              "    <table border=\"1\" class=\"dataframe\">\n",
              "  <thead>\n",
              " <tr style=\"text-align: left;\">\n",
              "      <th>Epoch</th>\n",
              "      <th>Training Loss</th>\n",
              "      <th>Validation Loss</th>\n",
              "    </tr>\n",
              "  </thead>\n",
              "  <tbody>\n",
              "    <tr>\n",
              "      <td>1</td>\n",
              "      <td>No log</td>\n",
              "      <td>0.239375</td>\n",
              "    </tr>\n",
              "    <tr>\n",
              "      <td>2</td>\n",
              "      <td>No log</td>\n",
              "      <td>0.233033</td>\n",
              "    </tr>\n",
              "  </tbody>\n",
              "</table><p>"
            ]
          },
          "metadata": {}
        },
        {
          "output_type": "stream",
          "name": "stderr",
          "text": [
            "/usr/local/lib/python3.10/dist-packages/transformers/optimization.py:411: FutureWarning: This implementation of AdamW is deprecated and will be removed in a future version. Use the PyTorch implementation torch.optim.AdamW instead, or set `no_deprecation_warning=True` to disable this warning\n",
            "  warnings.warn(\n"
          ]
        },
        {
          "output_type": "display_data",
          "data": {
            "text/plain": [
              "<IPython.core.display.HTML object>"
            ],
            "text/html": [
              "\n",
              "    <div>\n",
              "      \n",
              "      <progress value='14' max='14' style='width:300px; height:20px; vertical-align: middle;'></progress>\n",
              "      [14/14 00:40, Epoch 2/2]\n",
              "    </div>\n",
              "    <table border=\"1\" class=\"dataframe\">\n",
              "  <thead>\n",
              " <tr style=\"text-align: left;\">\n",
              "      <th>Epoch</th>\n",
              "      <th>Training Loss</th>\n",
              "      <th>Validation Loss</th>\n",
              "    </tr>\n",
              "  </thead>\n",
              "  <tbody>\n",
              "    <tr>\n",
              "      <td>1</td>\n",
              "      <td>No log</td>\n",
              "      <td>0.289883</td>\n",
              "    </tr>\n",
              "    <tr>\n",
              "      <td>2</td>\n",
              "      <td>No log</td>\n",
              "      <td>0.357135</td>\n",
              "    </tr>\n",
              "  </tbody>\n",
              "</table><p>"
            ]
          },
          "metadata": {}
        }
      ]
    },
    {
      "cell_type": "markdown",
      "source": [
        "# Testing"
      ],
      "metadata": {
        "id": "B1Xfg1UFmMIP"
      }
    },
    {
      "cell_type": "code",
      "source": [
        "from sklearn.metrics import confusion_matrix, f1_score, accuracy_score,recall_score,precision_score"
      ],
      "metadata": {
        "id": "qs-BHyHVIEqK"
      },
      "execution_count": null,
      "outputs": []
    },
    {
      "cell_type": "code",
      "source": [
        "def testing1(model_path):\n",
        "    # testset = dataset_withOne_test\n",
        "    # df_test_UnseenClass = df_withOne_test\n",
        "    testset = dataset_withOne_test\n",
        "    df_test_UnseenClass = df_withOne_test\n",
        "    print(len(testset), len(df_test_UnseenClass))\n",
        "\n",
        "    model = BertForTokenClassification.from_pretrained(model_path, num_labels=2)\n",
        "    args = TrainingArguments(output_dir='./evaldir', per_device_eval_batch_size=16)\n",
        "\n",
        "    evaler = Trainer(\n",
        "        args=args,\n",
        "        model=model\n",
        "    )\n",
        "\n",
        "    pred=evaler.predict(testset)\n",
        "    test_indexs_new=df_test_UnseenClass.index.to_list()\n",
        "    wids=np.array([testset.dataset.encodings.encodings[ii].word_ids for ii in test_indexs_new])\n",
        "    wids[wids==None]=-1\n",
        "    wids=wids.astype(int)\n",
        "\n",
        "    type_ids=np.array([testset.dataset.encodings.encodings[ii].type_ids for ii in test_indexs_new],dtype=bool)\n",
        "    pre=pred[0].argmax(axis=-1)\n",
        "    pre_list=[]\n",
        "    test_list=[]\n",
        "    for ii in range(wids.shape[0]):\n",
        "        test_list.append(wids[ii][type_ids[ii]])\n",
        "        pre_list.append(pre[ii][type_ids[ii]])\n",
        "\n",
        "    labels=[]\n",
        "    for ii in range(len(pre_list)):\n",
        "        labels.append(np.array(range(test_list[ii].max()+1)))\n",
        "        for jj in labels[ii]:\n",
        "            bb=np.where(test_list[ii]==jj)[0]\n",
        "            labela=np.array(pre_list[ii])[bb].mean()\n",
        "            if labela>0.01:\n",
        "                labels[ii][jj]=1\n",
        "            else:\n",
        "                labels[ii][jj]=0\n",
        "\n",
        "\n",
        "    labels_original = list(df_test_UnseenClass.iloc[:]['labels'])\n",
        "    f1av=0.0\n",
        "    lf1=0\n",
        "\n",
        "    for ii in range(len(labels)):\n",
        "        min_len = min(len(labels[ii]), len(labels_original[ii]))\n",
        "        if len(labels[ii])==len(labels_original[ii]):\n",
        "            f1av=f1av+f1_score( labels_original[ii], labels[ii],average=None)\n",
        "            lf1=lf1+1\n",
        "        else:\n",
        "            f1av=f1av+f1_score( labels_original[ii][:min_len], labels[ii][:min_len],average=None)\n",
        "            lf1=lf1+1\n",
        "            # print(min_len)\n",
        "\n",
        "\n",
        "            # print(ii, len(labels[ii]), len(labels_original[ii]))\n",
        "\n",
        "    lab=np.array([])       # predicted labels\n",
        "    labor=np.array([])     # true labels labele\n",
        "    for ii in range(len(labels)):\n",
        "        if len(labels[ii])==len(labels_original[ii]):\n",
        "          lab=np.concatenate((lab,labels[ii]))\n",
        "          labor=np.concatenate((labor,labels_original[ii]))\n",
        "        else:\n",
        "          min_len = min(len(labels[ii]),len(labels_original[ii]))\n",
        "          lab=np.concatenate((lab,labels[ii][:min_len]))\n",
        "          labor=np.concatenate((labor,labels_original[ii][:min_len]))\n",
        "\n",
        "    accuracy = accuracy_score(labor, lab, normalize=True)\n",
        "    precision = precision_score(labor, lab, average=None)\n",
        "    recall = recall_score(labor, lab, average=None)\n",
        "    f1 = f1_score(labor, lab, average=None)\n",
        "    matrix = confusion_matrix(labor, lab)\n",
        "\n",
        "    return [accuracy,precision,recall,f1,matrix]"
      ],
      "metadata": {
        "id": "7ftSCXEpIJ7e"
      },
      "execution_count": null,
      "outputs": []
    },
    {
      "cell_type": "code",
      "source": [
        "# res = testing1(os.path.join(out_path, 'Results', class_unseen, 'ZeroShot', 'Model'))\n",
        "# print(res)\n",
        "\n",
        "# for i, data_set_train in enumerate([train1shot, train10shot, train100shot]):\n",
        "#   res = testing1(os.path.join(out_path, 'Results', class_unseen, 'FewShot',str(i), 'Model'))\n",
        "#   print(res)"
      ],
      "metadata": {
        "id": "io2cF6UiFEf8"
      },
      "execution_count": null,
      "outputs": []
    }
  ]
}
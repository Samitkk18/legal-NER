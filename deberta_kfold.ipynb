{
  "cells": [
    {
      "cell_type": "markdown",
      "id": "64d61db9",
      "metadata": {
        "id": "64d61db9"
      },
      "source": [
        "Approach: DeBERTa very large model (fine tuning)"
      ]
    },
    {
      "cell_type": "code",
      "execution_count": 1,
      "id": "4a612b43",
      "metadata": {
        "id": "4a612b43"
      },
      "outputs": [],
      "source": [
        "# model_name = \"microsoft/deberta-v2-xlarge\"\n",
        "model_name = \"microsoft/deberta-v3-base\""
      ]
    },
    {
      "cell_type": "markdown",
      "id": "90638300",
      "metadata": {
        "id": "90638300"
      },
      "source": [
        "### Install dependencies"
      ]
    },
    {
      "cell_type": "code",
      "execution_count": 2,
      "id": "585a8356",
      "metadata": {
        "id": "585a8356"
      },
      "outputs": [],
      "source": [
        "!pip install tokenizers -q\n",
        "!pip install transformers -q\n",
        "!pip install transformers[torch] -q\n",
        "!pip install seqeval -q\n",
        "!pip install evaluate -q\n",
        "!pip install sentencepiece -q"
      ]
    },
    {
      "cell_type": "code",
      "execution_count": 32,
      "id": "ffb68db3",
      "metadata": {
        "id": "ffb68db3"
      },
      "outputs": [],
      "source": [
        "import spacy\n",
        "import numpy as np\n",
        "import pandas as pd\n",
        "import json\n",
        "from sklearn.metrics import classification_report, precision_score, recall_score, f1_score\n",
        "from sklearn.preprocessing import LabelEncoder\n",
        "from sklearn.model_selection import train_test_split, KFold\n",
        "from transformers import AutoTokenizer, BertTokenizer, DebertaTokenizerFast,  DebertaForSequenceClassification, TrainingArguments, Trainer, DataCollatorForTokenClassification, TrainerCallback\n",
        "from datasets import DatasetDict, Dataset, load_metric, load_from_disk\n",
        "import traceback\n",
        "from tqdm import tqdm\n",
        "from evaluate import load\n",
        "import matplotlib.pyplot as plt\n",
        "\n",
        "import torch\n",
        "from torch.utils.data import DataLoader\n",
        "from transformers import AutoModelForTokenClassification, AdamW\n",
        "from google.colab import drive\n",
        "import warnings\n",
        "import pickle\n",
        "from scipy.special import softmax"
      ]
    },
    {
      "cell_type": "code",
      "source": [
        "class EmptyCacheCallback(TrainerCallback):\n",
        "    def on_train_batch_end(self, args, state, control, *_) -> None:\n",
        "        torch.cuda.empty_cache()\n",
        "\n",
        "# Instantiate the EmptyCacheCallback\n",
        "empty_cache_callback = EmptyCacheCallback()"
      ],
      "metadata": {
        "id": "olHUJ15D_z-R"
      },
      "id": "olHUJ15D_z-R",
      "execution_count": 4,
      "outputs": []
    },
    {
      "cell_type": "code",
      "source": [
        "drive.mount('/content/drive')\n",
        "%cd /content/drive/MyDrive/256_Project\n",
        "PATH = '/content/drive/MyDrive/256_Project'\n",
        "MODEL_PATH = PATH + '/deberta-kfold'"
      ],
      "metadata": {
        "colab": {
          "base_uri": "https://localhost:8080/"
        },
        "id": "i00JNPrT-YDS",
        "outputId": "59007a5d-a005-4300-c84f-b2eaa12b56d1"
      },
      "id": "i00JNPrT-YDS",
      "execution_count": 5,
      "outputs": [
        {
          "output_type": "stream",
          "name": "stdout",
          "text": [
            "Drive already mounted at /content/drive; to attempt to forcibly remount, call drive.mount(\"/content/drive\", force_remount=True).\n",
            "/content/drive/MyDrive/256_Project\n"
          ]
        }
      ]
    },
    {
      "cell_type": "markdown",
      "id": "bccead0b",
      "metadata": {
        "id": "bccead0b"
      },
      "source": [
        "### Load dataset (skip when needed)"
      ]
    },
    {
      "cell_type": "code",
      "execution_count": null,
      "id": "a56ac0f7",
      "metadata": {
        "id": "a56ac0f7"
      },
      "outputs": [],
      "source": [
        "with open('data/NER_TRAIN_JUDGEMENT.json', 'r') as f:\n",
        "    train_judge = json.load(f)\n",
        "\n",
        "with open('data/NER_TRAIN_PREAMBLE.json', 'r') as f:\n",
        "    train_preamble = json.load(f)\n",
        "\n",
        "with open('data/NER_DEV_JUDGEMENT.json', 'r') as f:\n",
        "    test_judge = json.load(f)\n",
        "\n",
        "with open('data/NER_DEV_PREAMBLE.json', 'r') as f:\n",
        "    test_preamble = json.load(f)"
      ]
    },
    {
      "cell_type": "code",
      "execution_count": null,
      "id": "2a93f815",
      "metadata": {
        "colab": {
          "base_uri": "https://localhost:8080/"
        },
        "id": "2a93f815",
        "outputId": "27f587c0-f0f5-4419-c455-e6c7edd34a09"
      },
      "outputs": [
        {
          "output_type": "execute_result",
          "data": {
            "text/plain": [
              "(9435, 1560, 949, 125)"
            ]
          },
          "metadata": {},
          "execution_count": 10
        }
      ],
      "source": [
        "len(train_judge), len(train_preamble), len(test_judge), len(test_preamble)"
      ]
    },
    {
      "cell_type": "code",
      "execution_count": null,
      "id": "c204b9b1",
      "metadata": {
        "colab": {
          "base_uri": "https://localhost:8080/"
        },
        "id": "c204b9b1",
        "outputId": "958b6d4e-1e44-4e96-e5f8-98b93862d3fe"
      },
      "outputs": [
        {
          "output_type": "execute_result",
          "data": {
            "text/plain": [
              "{'id': '03f3901e95ed493b866bd7807f623bc0',\n",
              " 'annotations': [{'result': [{'value': {'start': 10,\n",
              "      'end': 22,\n",
              "      'text': 'Constitution',\n",
              "      'labels': ['STATUTE']},\n",
              "     'id': '25TFDATV',\n",
              "     'from_name': 'label',\n",
              "     'to_name': 'text',\n",
              "     'type': 'labels'},\n",
              "    {'value': {'start': 108,\n",
              "      'end': 155,\n",
              "      'text': 'R.C. Cooper v. Union of India, (1970) 1 SCC 248',\n",
              "      'labels': ['PRECEDENT']},\n",
              "     'id': 'F706LMQM',\n",
              "     'from_name': 'label',\n",
              "     'to_name': 'text',\n",
              "     'type': 'labels'},\n",
              "    {'value': {'start': 160,\n",
              "      'end': 209,\n",
              "      'text': 'Maneka Gandhi v. Union of India, (1978) 1 SCC 248',\n",
              "      'labels': ['PRECEDENT']},\n",
              "     'id': '2EURBJSZ',\n",
              "     'from_name': 'label',\n",
              "     'to_name': 'text',\n",
              "     'type': 'labels'}]}],\n",
              " 'data': {'text': \"True, our Constitution has no 'due process' clause or the VIII Amendment; but, in this branch of law, after R.C. Cooper v. Union of India, (1970) 1 SCC 248 and Maneka Gandhi v. Union of India, (1978) 1 SCC 248, the consequence is the same.\"},\n",
              " 'meta': {'source': 'criminal_punjab-haryana_high_court judgement https://indiankanoon.org/doc/164068662'}}"
            ]
          },
          "metadata": {},
          "execution_count": 11
        }
      ],
      "source": [
        "test_judge[0]"
      ]
    },
    {
      "cell_type": "code",
      "execution_count": null,
      "id": "c854f19f",
      "metadata": {
        "id": "c854f19f"
      },
      "outputs": [],
      "source": [
        "# test_preamble[0]"
      ]
    },
    {
      "cell_type": "markdown",
      "id": "6e5603c6",
      "metadata": {
        "id": "6e5603c6"
      },
      "source": [
        "### Initializing tokenizer & Label Encoder"
      ]
    },
    {
      "cell_type": "code",
      "execution_count": 6,
      "id": "ce04559c",
      "metadata": {
        "colab": {
          "base_uri": "https://localhost:8080/"
        },
        "id": "ce04559c",
        "outputId": "a01568c3-dde2-43dd-a446-805ccb4af1f4"
      },
      "outputs": [
        {
          "output_type": "stream",
          "name": "stdout",
          "text": [
            "NO_TAG\n",
            "[ 6  1  9 12  4  5  2  7  3 13 11 10  0 14  8]\n",
            "<class 'numpy.ndarray'>\n"
          ]
        }
      ],
      "source": [
        "ner_labels = ['NO_TAG', 'COURT', 'PETITIONER', 'RESPONDENT', 'JUDGE', 'LAWYER', 'DATE', 'ORG', 'GPE', 'STATUTE',\n",
        "              'PROVISION', 'PRECEDENT', 'CASE_NUMBER', 'WITNESS', 'OTHER_PERSON']\n",
        "\n",
        "label_encoder = LabelEncoder()\n",
        "label_encoder.fit(ner_labels)\n",
        "\n",
        "encoded_labels = label_encoder.transform(ner_labels)\n",
        "print(label_encoder.inverse_transform([6])[0])\n",
        "# label_encoder.transform(['NO_TAG'])[0]\n",
        "\n",
        "print(encoded_labels)\n",
        "print(type(encoded_labels))"
      ]
    },
    {
      "cell_type": "code",
      "execution_count": 7,
      "id": "4aba5c7d",
      "metadata": {
        "id": "4aba5c7d",
        "colab": {
          "base_uri": "https://localhost:8080/",
          "height": 202,
          "referenced_widgets": [
            "1aa47f3e76f94658b60baf28d2e91bba",
            "acd54e6a140c47a4accfb071864cce96",
            "d37cdab2884047b2be5a700d96ad4696",
            "3abc1caf41cd4f018237bcb98b166ea2",
            "6ba88d9c5f684d6f9b5d24b010d0976c",
            "dda8f8049395412099199e5f2409832e",
            "ed9266449d5f467394202bbb541c8426",
            "e9210338df1d43edb2cbb1e2ea0b6879",
            "25122c75026244d49056fc49ed4517ec",
            "faa19b29f33d49008818aca408b527c6",
            "cd8a55b4da164abda352f49337b8db5a",
            "a168c2d9e11542b98079348e006da862",
            "5fb84be8cb5445389d75170a1caff715",
            "dd1f613cbf5d4fcc8ec0523e8edd53fb",
            "02dad82da824439bb400e02301cbdebd",
            "b583e788825349a5985a20605c7490df",
            "511fe1e95aa948a781ba40200355f3b8",
            "59db348628a140349f08638fc7c07d91",
            "09665f9f86b34c7290d0787c541e512c",
            "a2d7d8c7d8e9408da7762b9a652956cb",
            "414aa3c911f04979beee060a2125bf0d",
            "d4c25a65b6d14c2f845ebc3aadde71f4",
            "423a3d393bad494d8dab78334f67c8f1",
            "8935a8f0a3964e9abfc239f246e75379",
            "479072943e6b4152a4dc00f3f52aac54",
            "2d75f7cb5fdd470f91e375a2a23f95f4",
            "6ed017d3c07942e19a0947055fbbfc52",
            "c411200fe03648b59cf3fed1bdd85ac2",
            "7357f7b945e344be963b406dcca3e0fc",
            "82ed71fdc4ed47cfb9178e86c4ea05a9",
            "0cc5d8140e70406695d3c4eb25e2b7c5",
            "bf80faee126a49f697aa799d1f3d9325",
            "664669de2ced4660a5609a35c1a2c050"
          ]
        },
        "outputId": "8b659818-97f2-47ff-c5a9-cd4da6f39344"
      },
      "outputs": [
        {
          "output_type": "display_data",
          "data": {
            "text/plain": [
              "Downloading (…)okenizer_config.json:   0%|          | 0.00/52.0 [00:00<?, ?B/s]"
            ],
            "application/vnd.jupyter.widget-view+json": {
              "version_major": 2,
              "version_minor": 0,
              "model_id": "1aa47f3e76f94658b60baf28d2e91bba"
            }
          },
          "metadata": {}
        },
        {
          "output_type": "display_data",
          "data": {
            "text/plain": [
              "Downloading (…)lve/main/config.json:   0%|          | 0.00/579 [00:00<?, ?B/s]"
            ],
            "application/vnd.jupyter.widget-view+json": {
              "version_major": 2,
              "version_minor": 0,
              "model_id": "a168c2d9e11542b98079348e006da862"
            }
          },
          "metadata": {}
        },
        {
          "output_type": "display_data",
          "data": {
            "text/plain": [
              "Downloading spm.model:   0%|          | 0.00/2.46M [00:00<?, ?B/s]"
            ],
            "application/vnd.jupyter.widget-view+json": {
              "version_major": 2,
              "version_minor": 0,
              "model_id": "423a3d393bad494d8dab78334f67c8f1"
            }
          },
          "metadata": {}
        },
        {
          "output_type": "stream",
          "name": "stderr",
          "text": [
            "Special tokens have been added in the vocabulary, make sure the associated word embeddings are fine-tuned or trained.\n",
            "/usr/local/lib/python3.10/dist-packages/transformers/convert_slow_tokenizer.py:454: UserWarning: The sentencepiece tokenizer that you are converting to a fast tokenizer uses the byte fallback option which is not implemented in the fast tokenizers. In practice this means that the fast version of the tokenizer can produce unknown tokens whereas the sentencepiece version would have converted these unknown tokens into a sequence of byte tokens matching the original piece of text.\n",
            "  warnings.warn(\n",
            "Special tokens have been added in the vocabulary, make sure the associated word embeddings are fine-tuned or trained.\n"
          ]
        }
      ],
      "source": [
        "# tokenizer = DebertaTokenizer.from_pretrained(model_name)\n",
        "\n",
        "tokenizer = AutoTokenizer.from_pretrained(model_name, use_fast=True)\n"
      ]
    },
    {
      "cell_type": "code",
      "execution_count": 8,
      "id": "722c3fdb",
      "metadata": {
        "id": "722c3fdb"
      },
      "outputs": [],
      "source": [
        "# # Test Example\n",
        "# # text = \"Hello, World eating\"\n",
        "# text = \"True, our Constitution has no 'due process' clause or the VIII Amendment; but, in this branch of law, after R.C. Cooper v. Union of India, (1970) 1 SCC 248 and Maneka Gandhi v. Union of India, (1978) 1 SCC 248, the consequence is the same.\"\n",
        "# tokenized_output = tokenizer(text, truncation=True, padding=True, return_offsets_mapping=True, return_tensors=\"pt\")\n",
        "# tokens = tokenizer.convert_ids_to_tokens(tokenized_output[\"input_ids\"][0])\n",
        "\n",
        "# print(tokens)\n",
        "# print(len(tokens))\n",
        "# print(tokenized_output)\n",
        "# print(tokenized_output.input_ids)\n",
        "# print(type(tokenized_output))\n",
        "# print(tokenized_output.word_ids())\n",
        "\n"
      ]
    },
    {
      "cell_type": "markdown",
      "source": [
        "### Data Preprocessing (skip when needed)"
      ],
      "metadata": {
        "id": "D911TlIev-7c"
      },
      "id": "D911TlIev-7c"
    },
    {
      "cell_type": "markdown",
      "source": [
        "Start, end in dataset is 1 indexed <br/>\n",
        "start - starts from 1 <br/>\n",
        "end - 1 character after the word"
      ],
      "metadata": {
        "id": "0AcN9Sk-zXxp"
      },
      "id": "0AcN9Sk-zXxp"
    },
    {
      "cell_type": "code",
      "execution_count": null,
      "id": "0dd4b7e5",
      "metadata": {
        "id": "0dd4b7e5"
      },
      "outputs": [],
      "source": [
        "def get_token_start(start, end, offsets_mapping, word_ids):\n",
        "    token_start = None\n",
        "    for i, interval in enumerate(offsets_mapping):\n",
        "        left, right = interval\n",
        "        if left<=start<right:\n",
        "            token_start = i\n",
        "            break\n",
        "\n",
        "    if token_start>0:\n",
        "        if word_ids[token_start-1]==word_ids[token_start]:\n",
        "            token_start -=1\n",
        "\n",
        "    return token_start\n",
        "\n",
        "def get_token_end(start, end, offsets_mapping, word_ids):\n",
        "    token_end = None\n",
        "    for i, interval in enumerate(offsets_mapping):\n",
        "        left, right = interval\n",
        "        if left<end<=right:\n",
        "            token_end = i\n",
        "            break\n",
        "        if left>end:\n",
        "          token_end = i-1\n",
        "          break\n",
        "\n",
        "    if token_end<len(word_ids)-1:\n",
        "        if word_ids[token_end+1]==word_ids[token_end]:\n",
        "            token_end +=1\n",
        "\n",
        "    return token_end"
      ]
    },
    {
      "cell_type": "code",
      "execution_count": null,
      "id": "852c2b3e",
      "metadata": {
        "scrolled": true,
        "id": "852c2b3e"
      },
      "outputs": [],
      "source": [
        "def process_individual_record(rec):\n",
        "\n",
        "    try:\n",
        "        text = rec['data']['text']\n",
        "        text = text.replace(\"),\", \") ,\").replace(\").\", \") .\").replace(\"],\", \"] ,\").replace(\"].\", \"] .\")\n",
        "        annotations = rec['annotations'][0]['result']\n",
        "\n",
        "        # Get the start and end positions of annotated tokens\n",
        "        annotated_token_positions = [(ann['value']['start'], ann['value']['end']) for ann in annotations]\n",
        "\n",
        "        tokenized_inputs = tokenizer(text, padding=\"max_length\", max_length=120, truncation= True, return_offsets_mapping=True, return_tensors=\"pt\")\n",
        "#         tokenized_inputs = tokenizer(text, truncation=True, padding=True, max_length=3500, return_offsets_mapping=True, return_tensors=\"pt\")\n",
        "\n",
        "        input_ids = tokenized_inputs[\"input_ids\"][0]\n",
        "        offsets_mapping = tokenized_inputs[\"offset_mapping\"][0]\n",
        "        word_ids = tokenized_inputs.word_ids()\n",
        "\n",
        "        # Initialize label_ids with NO_TAG for all tokens\n",
        "        label_ids = [label_encoder.transform(['NO_TAG'])[0]] * len(input_ids)\n",
        "        label_ids[0] = -100\n",
        "        label_ids[-1] = -100\n",
        "\n",
        "        # Assign labels to annotated tokens\n",
        "        for start, end in annotated_token_positions:\n",
        "\n",
        "            if start>=120 or end>=120: continue\n",
        "\n",
        "            # Find the corresponding token positions in input_ids using offsets_mapping\n",
        "            token_start = get_token_start(start, end, offsets_mapping, word_ids)\n",
        "            token_end = get_token_end(start, end, offsets_mapping, word_ids)\n",
        "\n",
        "            # Assign the label to the corresponding token(s)\n",
        "            label = [ann['value']['labels'][0] for ann in annotations if ann['value']['start'] == start and ann['value']['end'] == end]\n",
        "            label_id = label_encoder.transform(label)[0]\n",
        "            label_ids[token_start:token_end] = [label_id] * (token_end - token_start)\n",
        "\n",
        "        assert len(label_ids)==len(input_ids)\n",
        "\n",
        "        row = {\n",
        "            \"input_ids\": tokenized_inputs[\"input_ids\"][0],\n",
        "            \"attention_mask\": tokenized_inputs[\"attention_mask\"][0],\n",
        "            \"labels\": torch.tensor(label_ids)\n",
        "        }\n",
        "\n",
        "    except Exception as e:\n",
        "        traceback.print_exc()\n",
        "        print(\"\\n\")\n",
        "        print(rec)\n",
        "        print(tokenizer.convert_ids_to_tokens(input_ids))\n",
        "        print(start)\n",
        "        print(end)\n",
        "#         tstart = int((offsets_mapping[:,0] == start-1).nonzero()[0])\n",
        "#         print(tokenizer.convert_ids_to_tokens(input_ids)[tstart])\n",
        "        print(offsets_mapping)\n",
        "\n",
        "        raise SystemExit\n",
        "\n",
        "\n",
        "    return row\n"
      ]
    },
    {
      "cell_type": "code",
      "execution_count": null,
      "id": "3c7cf552",
      "metadata": {
        "scrolled": false,
        "colab": {
          "base_uri": "https://localhost:8080/"
        },
        "id": "3c7cf552",
        "outputId": "de1984e9-414f-4744-925d-0267f1274419"
      },
      "outputs": [
        {
          "output_type": "stream",
          "name": "stderr",
          "text": [
            "100%|██████████| 10995/10995 [00:37<00:00, 294.08it/s]\n"
          ]
        }
      ],
      "source": [
        "# Prepare train & val set\n",
        "combined_train_data = train_judge + train_preamble\n",
        "rows = []\n",
        "for rec in tqdm(combined_train_data):\n",
        "    row = process_individual_record(rec)\n",
        "    rows.append(row)\n"
      ]
    },
    {
      "cell_type": "code",
      "source": [
        "train_dic = {key: [dic[key] for dic in rows] for key in rows[0]}\n",
        "train_dataset = Dataset.from_dict(train_dic)\n",
        "\n",
        "print(train_dataset)"
      ],
      "metadata": {
        "colab": {
          "base_uri": "https://localhost:8080/"
        },
        "id": "xCEy2X__6LYg",
        "outputId": "20d9d1a6-f83b-4fc7-9bb7-eae1d7894b7e"
      },
      "id": "xCEy2X__6LYg",
      "execution_count": null,
      "outputs": [
        {
          "output_type": "stream",
          "name": "stdout",
          "text": [
            "Dataset({\n",
            "    features: ['input_ids', 'attention_mask', 'labels'],\n",
            "    num_rows: 10995\n",
            "})\n"
          ]
        }
      ]
    },
    {
      "cell_type": "code",
      "execution_count": null,
      "id": "50645acd",
      "metadata": {
        "id": "50645acd"
      },
      "outputs": [],
      "source": [
        "# train_data, val_data = train_test_split(rows, test_size=995, random_state=42)\n",
        "\n",
        "# train_dic = {key: [dic[key] for dic in train_data] for key in train_data[0]}\n",
        "# val_dic = {key: [dic[key] for dic in val_data] for key in val_data[0]}\n",
        "\n",
        "# train_dataset = Dataset.from_dict(train_dic)\n",
        "# val_dataset = Dataset.from_dict(val_dic)\n",
        "\n",
        "# print(train_dataset)\n",
        "# print(val_dataset)"
      ]
    },
    {
      "cell_type": "code",
      "execution_count": null,
      "id": "ed9d6c9f",
      "metadata": {
        "colab": {
          "base_uri": "https://localhost:8080/"
        },
        "id": "ed9d6c9f",
        "outputId": "f845061a-1b45-4c11-f4f4-41e8907fb971"
      },
      "outputs": [
        {
          "output_type": "stream",
          "name": "stderr",
          "text": [
            "100%|██████████| 1074/1074 [00:03<00:00, 345.68it/s]"
          ]
        },
        {
          "output_type": "stream",
          "name": "stdout",
          "text": [
            "Dataset({\n",
            "    features: ['input_ids', 'attention_mask', 'labels'],\n",
            "    num_rows: 1074\n",
            "})\n"
          ]
        },
        {
          "output_type": "stream",
          "name": "stderr",
          "text": [
            "\n"
          ]
        }
      ],
      "source": [
        "# Prepare test set\n",
        "combined_test_data = test_judge + test_preamble\n",
        "rows = []\n",
        "for rec in tqdm(combined_test_data):\n",
        "    row = process_individual_record(rec)\n",
        "    rows.append(row)\n",
        "\n",
        "data_dict = {key: [dic[key] for dic in rows] for key in rows[0]}\n",
        "test_dataset = Dataset.from_dict(data_dict)\n",
        "\n",
        "print(test_dataset)"
      ]
    },
    {
      "cell_type": "code",
      "execution_count": null,
      "id": "d3e2ea74",
      "metadata": {
        "scrolled": false,
        "colab": {
          "base_uri": "https://localhost:8080/"
        },
        "id": "d3e2ea74",
        "outputId": "d32d865f-ab96-408b-95c7-f981f9a73847"
      },
      "outputs": [
        {
          "output_type": "execute_result",
          "data": {
            "text/plain": [
              "DatasetDict({\n",
              "    train: Dataset({\n",
              "        features: ['input_ids', 'attention_mask', 'labels'],\n",
              "        num_rows: 10995\n",
              "    })\n",
              "    test: Dataset({\n",
              "        features: ['input_ids', 'attention_mask', 'labels'],\n",
              "        num_rows: 1074\n",
              "    })\n",
              "})"
            ]
          },
          "metadata": {},
          "execution_count": 19
        }
      ],
      "source": [
        "tokenized_dataset = DatasetDict({\n",
        "    \"train\": train_dataset,\n",
        "    # \"validation\": val_dataset,\n",
        "    \"test\": test_dataset\n",
        "})\n",
        "\n",
        "tokenized_dataset"
      ]
    },
    {
      "cell_type": "code",
      "execution_count": null,
      "id": "7b29324a",
      "metadata": {
        "id": "7b29324a",
        "colab": {
          "base_uri": "https://localhost:8080/",
          "height": 81
        },
        "outputId": "c0825502-0b55-4f52-9766-ae9574a6f049"
      },
      "outputs": [
        {
          "output_type": "display_data",
          "data": {
            "text/plain": [
              "\u001b[31m╭─\u001b[0m\u001b[31m──────────────────────────────\u001b[0m\u001b[31m \u001b[0m\u001b[1;31mTraceback \u001b[0m\u001b[1;2;31m(most recent call last)\u001b[0m\u001b[31m \u001b[0m\u001b[31m───────────────────────────────\u001b[0m\u001b[31m─╮\u001b[0m\n",
              "\u001b[31m│\u001b[0m in \u001b[92m<cell line: 1>\u001b[0m:\u001b[94m1\u001b[0m                                                                              \u001b[31m│\u001b[0m\n",
              "\u001b[31m╰──────────────────────────────────────────────────────────────────────────────────────────────────╯\u001b[0m\n",
              "\u001b[1;91mNameError: \u001b[0mname \u001b[32m'train_data'\u001b[0m is not defined\n"
            ],
            "text/html": [
              "<pre style=\"white-space:pre;overflow-x:auto;line-height:normal;font-family:Menlo,'DejaVu Sans Mono',consolas,'Courier New',monospace\"><span style=\"color: #800000; text-decoration-color: #800000\">╭─────────────────────────────── </span><span style=\"color: #800000; text-decoration-color: #800000; font-weight: bold\">Traceback </span><span style=\"color: #bf7f7f; text-decoration-color: #bf7f7f; font-weight: bold\">(most recent call last)</span><span style=\"color: #800000; text-decoration-color: #800000\"> ────────────────────────────────╮</span>\n",
              "<span style=\"color: #800000; text-decoration-color: #800000\">│</span> in <span style=\"color: #00ff00; text-decoration-color: #00ff00\">&lt;cell line: 1&gt;</span>:<span style=\"color: #0000ff; text-decoration-color: #0000ff\">1</span>                                                                              <span style=\"color: #800000; text-decoration-color: #800000\">│</span>\n",
              "<span style=\"color: #800000; text-decoration-color: #800000\">╰──────────────────────────────────────────────────────────────────────────────────────────────────╯</span>\n",
              "<span style=\"color: #ff0000; text-decoration-color: #ff0000; font-weight: bold\">NameError: </span>name <span style=\"color: #008000; text-decoration-color: #008000\">'train_data'</span> is not defined\n",
              "</pre>\n"
            ]
          },
          "metadata": {}
        }
      ],
      "source": [
        "# del rows, data_dict, train_data, val_data, train_dic, val_dic, combined_train_data, combined_test_data, test_judge, test_preamble, train_judge, train_preamble"
      ]
    },
    {
      "cell_type": "code",
      "execution_count": null,
      "id": "6cff8211",
      "metadata": {
        "colab": {
          "base_uri": "https://localhost:8080/",
          "height": 17,
          "referenced_widgets": [
            "407e4b3b864f4c9f8f87c4e20f5b29e5",
            "4ad5ae1485c44f30a0038548c5e8aaea",
            "c1b1abc91342463ca43a2950efa11e12",
            "507d3ea2d6ea4cab9228c0811b0ef49f",
            "e6a7cd15cfa24a57ac8e305caf10d330",
            "b82800a426404d3da631c89282a4e0b7",
            "f277abeea882450f96c565b1944fc0ee",
            "180398ccaa334eb5995beef5361a495c",
            "7074e57b446c4d8fa4a5f28198387612",
            "26747a46f6114a23a0a576028e693dd3",
            "a20da542ce4c4f138937f4ca0251e149",
            "eeb34d6df5e948e5b5e134246080c09c",
            "baca9afb0fd64228ae0005c64ac9f065",
            "155a78d9a6604d20a68aad05b8195b3c",
            "8e793f4180ea46eda55a22ba7dc31284",
            "becfcb60ad444743abd58d38e410335d",
            "1aba2e261f7a42c09fb81514120c106a",
            "8a397c0984534990880b5b0ea4d82b84",
            "69fe0941512741bda5f3a83251949e0f",
            "90108f2409184d88b7b500d7b898e722",
            "59d5b92c0a8d411dbda83095b2ca87ee",
            "2f6a61f835114833a190dc6d3831c585"
          ]
        },
        "id": "6cff8211",
        "outputId": "ee924b09-7a66-4f82-a4f1-febe9b37add5"
      },
      "outputs": [
        {
          "output_type": "display_data",
          "data": {
            "text/plain": [
              "Saving the dataset (0/1 shards):   0%|          | 0/10995 [00:00<?, ? examples/s]"
            ],
            "application/vnd.jupyter.widget-view+json": {
              "version_major": 2,
              "version_minor": 0,
              "model_id": "407e4b3b864f4c9f8f87c4e20f5b29e5"
            }
          },
          "metadata": {}
        },
        {
          "output_type": "display_data",
          "data": {
            "text/plain": [
              "Saving the dataset (0/1 shards):   0%|          | 0/1074 [00:00<?, ? examples/s]"
            ],
            "application/vnd.jupyter.widget-view+json": {
              "version_major": 2,
              "version_minor": 0,
              "model_id": "eeb34d6df5e948e5b5e134246080c09c"
            }
          },
          "metadata": {}
        }
      ],
      "source": [
        "tokenized_dataset.save_to_disk(MODEL_PATH + \"/dataset\")"
      ]
    },
    {
      "cell_type": "markdown",
      "id": "a6c784f1",
      "metadata": {
        "id": "a6c784f1"
      },
      "source": [
        "### Load tokenized data"
      ]
    },
    {
      "cell_type": "code",
      "execution_count": 9,
      "id": "8bf33a40",
      "metadata": {
        "id": "8bf33a40"
      },
      "outputs": [],
      "source": [
        "tokenized_dataset = load_from_disk(MODEL_PATH + \"/dataset\")"
      ]
    },
    {
      "cell_type": "code",
      "source": [
        "# sanity check\n",
        "\n",
        "for example in tokenized_dataset[\"train\"]:\n",
        "    assert len(example[\"input_ids\"]) == 120\n",
        "    assert len(example[\"attention_mask\"]) == 120\n",
        "    assert len(example[\"labels\"]) == 120"
      ],
      "metadata": {
        "id": "DCsKekxsvns-"
      },
      "id": "DCsKekxsvns-",
      "execution_count": 10,
      "outputs": []
    },
    {
      "cell_type": "code",
      "execution_count": 11,
      "id": "5c02c54e",
      "metadata": {
        "colab": {
          "base_uri": "https://localhost:8080/"
        },
        "id": "5c02c54e",
        "outputId": "a0738cd6-a031-46ec-be02-04fb86144788"
      },
      "outputs": [
        {
          "output_type": "execute_result",
          "data": {
            "text/plain": [
              "DataCollatorForTokenClassification(tokenizer=DebertaV2TokenizerFast(name_or_path='microsoft/deberta-v3-base', vocab_size=128000, model_max_length=1000000000000000019884624838656, is_fast=True, padding_side='right', truncation_side='right', special_tokens={'bos_token': '[CLS]', 'eos_token': '[SEP]', 'unk_token': '[UNK]', 'sep_token': '[SEP]', 'pad_token': '[PAD]', 'cls_token': '[CLS]', 'mask_token': '[MASK]'}, clean_up_tokenization_spaces=True), padding=True, max_length=None, pad_to_multiple_of=None, label_pad_token_id=-100, return_tensors='pt')"
            ]
          },
          "metadata": {},
          "execution_count": 11
        }
      ],
      "source": [
        "# data_collator = DataCollatorForTokenClassification(tokenizer, padding=\"max_length\", max_length=3500)\n",
        "data_collator = DataCollatorForTokenClassification(tokenizer)\n",
        "data_collator"
      ]
    },
    {
      "cell_type": "markdown",
      "id": "0557d527",
      "metadata": {
        "id": "0557d527"
      },
      "source": [
        "### Initialize Model"
      ]
    },
    {
      "cell_type": "code",
      "execution_count": 12,
      "id": "889a19b2",
      "metadata": {
        "colab": {
          "base_uri": "https://localhost:8080/"
        },
        "id": "889a19b2",
        "outputId": "87efde35-1ad8-4e17-c3b7-56a2fa928b7c"
      },
      "outputs": [
        {
          "output_type": "execute_result",
          "data": {
            "text/plain": [
              "device(type='cuda')"
            ]
          },
          "metadata": {},
          "execution_count": 12
        }
      ],
      "source": [
        "# check if gpu is present\n",
        "device = torch.device('cuda') if torch.cuda.is_available() else torch.device('cpu')\n",
        "device"
      ]
    },
    {
      "cell_type": "code",
      "execution_count": 13,
      "id": "bb8de149",
      "metadata": {
        "id": "bb8de149"
      },
      "outputs": [],
      "source": [
        "def get_prepared_model():\n",
        "  \"\"\"Get a new non-finetuned Model\"\"\"\n",
        "  torch.cuda.empty_cache() # save GPU memory\n",
        "  model = AutoModelForTokenClassification.from_pretrained(model_name, num_labels=len(ner_labels))\n",
        "  model.to(device)\n",
        "  model.train() # fine tuned entire model rather than just the head\n",
        "  return model"
      ]
    },
    {
      "cell_type": "code",
      "execution_count": 14,
      "id": "8d0dece9",
      "metadata": {
        "id": "8d0dece9",
        "colab": {
          "base_uri": "https://localhost:8080/",
          "height": 0,
          "referenced_widgets": [
            "244ef4a0681e439996600053fb49b2a8",
            "8da80b427bc344fa9b5aac880ecb22a0",
            "8d66688b692546bca0673b71239b6425",
            "d768a5bb3e8f4305b26b1081360dacbf",
            "0b3dfd85d5604d1dbf2989dbdc744764",
            "62224b98ed4c488fb28249042ce89158",
            "1aedcfd538fb4521adf79a19f5563a05",
            "0c670505abcf44ff8782bca17fdb61aa",
            "86b9a82762ad43198989c9e5f1f0919e",
            "8b8b50f5745c4eeab4f7e62d591ad971",
            "4f5abe4e7655402792a8201ecbde2188"
          ]
        },
        "outputId": "e15aa901-4e5f-4d1e-d8b2-003f3beda698"
      },
      "outputs": [
        {
          "output_type": "display_data",
          "data": {
            "text/plain": [
              "Downloading builder script:   0%|          | 0.00/6.34k [00:00<?, ?B/s]"
            ],
            "application/vnd.jupyter.widget-view+json": {
              "version_major": 2,
              "version_minor": 0,
              "model_id": "244ef4a0681e439996600053fb49b2a8"
            }
          },
          "metadata": {}
        }
      ],
      "source": [
        "metric = load(\"seqeval\")\n",
        "\n",
        "def compute_metrics(p):\n",
        "    predictions, labels = p\n",
        "\n",
        "    #select predicted index with maximum logit for each token\n",
        "    predictions = np.argmax(predictions, axis=2)\n",
        "\n",
        "    # Remove ignored index (special tokens)\n",
        "    true_predictions = [\n",
        "        [label_encoder.inverse_transform([p])[0] for (p, l) in zip(prediction, label) if l != -100]\n",
        "        for prediction, label in zip(predictions, labels)\n",
        "    ]\n",
        "    true_labels = [\n",
        "        [label_encoder.inverse_transform([l])[0] for (p, l) in zip(prediction, label) if l != -100]\n",
        "        for prediction, label in zip(predictions, labels)\n",
        "    ]\n",
        "\n",
        "    results = metric.compute(predictions=true_predictions, references=true_labels)\n",
        "    return {\n",
        "        \"precision\": results[\"overall_precision\"],\n",
        "        \"recall\": results[\"overall_recall\"],\n",
        "        \"f1\": results[\"overall_f1\"],\n",
        "        \"accuracy\": results[\"overall_accuracy\"],\n",
        "    }\n"
      ]
    },
    {
      "cell_type": "markdown",
      "id": "2f9dd3fc",
      "metadata": {
        "id": "2f9dd3fc"
      },
      "source": [
        "### Fine tuning"
      ]
    },
    {
      "cell_type": "code",
      "execution_count": 15,
      "id": "a9298891",
      "metadata": {
        "id": "a9298891"
      },
      "outputs": [],
      "source": [
        "batch_size = 16\n",
        "logging_steps = len(tokenized_dataset['train']) // batch_size\n",
        "epochs = 10\n",
        "\n",
        "# model = get_prepared_model()\n",
        "\n",
        "# Training Args\n",
        "training_args = TrainingArguments(\n",
        "    output_dir = MODEL_PATH + '/',\n",
        "    num_train_epochs = epochs,\n",
        "    per_device_train_batch_size = batch_size,\n",
        "    per_device_eval_batch_size = batch_size,\n",
        "    evaluation_strategy = \"epoch\",\n",
        "    disable_tqdm = False,\n",
        "    save_strategy = \"no\",\n",
        "    logging_steps = logging_steps,\n",
        "    gradient_accumulation_steps=1,  # optimization\n",
        "    fp16=True) # optimization :  enable mixed precision training"
      ]
    },
    {
      "cell_type": "code",
      "execution_count": 16,
      "id": "bdf27bb4",
      "metadata": {
        "id": "bdf27bb4"
      },
      "outputs": [],
      "source": [
        "def get_trainer(train_data, val_data, model):\n",
        "  trainer = Trainer(\n",
        "      model = model,\n",
        "      args = training_args,\n",
        "      train_dataset = train_data,\n",
        "      eval_dataset = val_data,\n",
        "      data_collator = data_collator,\n",
        "      tokenizer = tokenizer,\n",
        "      compute_metrics = compute_metrics,\n",
        "      callbacks=[empty_cache_callback]  # Register the callback\n",
        "  )\n",
        "\n",
        "  return trainer"
      ]
    },
    {
      "cell_type": "code",
      "execution_count": 17,
      "id": "40652672",
      "metadata": {
        "id": "40652672"
      },
      "outputs": [],
      "source": [
        "# len(trainer.train_dataset[-1]['input_ids']), len(trainer.eval_dataset[100]['input_ids']), len(trainer.eval_dataset[5]['attention_mask'])"
      ]
    },
    {
      "cell_type": "code",
      "source": [
        "warnings.filterwarnings(\"ignore\", category=UserWarning) # Suppress the Seqeval warning"
      ],
      "metadata": {
        "id": "LKX1nFIPT46L"
      },
      "id": "LKX1nFIPT46L",
      "execution_count": 18,
      "outputs": []
    },
    {
      "cell_type": "code",
      "execution_count": 19,
      "id": "f307e1b1",
      "metadata": {
        "id": "f307e1b1"
      },
      "outputs": [],
      "source": [
        "# trainer.train()"
      ]
    },
    {
      "cell_type": "code",
      "source": [
        "# trainer.save_model(MODEL_PATH + '/trained_model')"
      ],
      "metadata": {
        "id": "s3xx1pM4iCiR"
      },
      "id": "s3xx1pM4iCiR",
      "execution_count": 20,
      "outputs": []
    },
    {
      "cell_type": "code",
      "source": [
        "# # Save the trainer's log_history\n",
        "# with open(MODEL_PATH + '/trainer_log_history.pkl', 'wb') as f:\n",
        "#     pickle.dump(trainer.state.log_history, f)"
      ],
      "metadata": {
        "id": "AscW-GLY5myO"
      },
      "id": "AscW-GLY5myO",
      "execution_count": 21,
      "outputs": []
    },
    {
      "cell_type": "markdown",
      "source": [
        "### Load model for inference"
      ],
      "metadata": {
        "id": "6B8SGL-WAqo5"
      },
      "id": "6B8SGL-WAqo5"
    },
    {
      "cell_type": "code",
      "source": [
        "# trained_model_path = MODEL_PATH + '/trained_model'\n",
        "# model_trained = AutoModelForTokenClassification.from_pretrained(trained_model_path)\n",
        "# tokenizer_trained = DebertaTokenizerFast.from_pretrained(trained_model_path)"
      ],
      "metadata": {
        "id": "Kspbt9wXGQUZ"
      },
      "id": "Kspbt9wXGQUZ",
      "execution_count": null,
      "outputs": []
    },
    {
      "cell_type": "code",
      "source": [
        "# trainer = Trainer(\n",
        "#     model = model_trained,\n",
        "#     args = training_args, #run training_args block\n",
        "#     train_dataset = tokenized_dataset[\"train\"], #run 'load tokenized data' block\n",
        "#     eval_dataset = tokenized_dataset[\"validation\"], #run 'load tokenized data' block\n",
        "#     data_collator = data_collator, #run 'load tokenized data' block\n",
        "#     tokenizer = tokenizer_trained,\n",
        "#     compute_metrics = compute_metrics,\n",
        "#     callbacks=[empty_cache_callback]  # Register the callback\n",
        "# )"
      ],
      "metadata": {
        "id": "9-UCQYX2BRQX"
      },
      "id": "9-UCQYX2BRQX",
      "execution_count": null,
      "outputs": []
    },
    {
      "cell_type": "code",
      "source": [
        "# Load the trainer's log_history\n",
        "with open(MODEL_PATH + '/trainer_log_history.pkl', 'rb') as f:\n",
        "    trainer_log_history = pickle.load(f)"
      ],
      "metadata": {
        "id": "zC4wLgoQBBHk"
      },
      "id": "zC4wLgoQBBHk",
      "execution_count": null,
      "outputs": []
    },
    {
      "cell_type": "code",
      "source": [
        "train_losses = []\n",
        "eval_losses = []\n",
        "f1_values = []\n",
        "# acc_values = []\n",
        "epoch_list = list(range(1, epochs+1))\n",
        "\n",
        "for entry in trainer_log_history:\n",
        "  # print(entry)\n",
        "  if 'loss' in entry:\n",
        "      train_losses.append(entry['loss'])\n",
        "  if 'eval_loss' in entry:\n",
        "      eval_losses.append(entry['eval_loss'])\n",
        "  if 'eval_f1' in entry:\n",
        "      f1_values.append(entry['eval_f1'])\n",
        "\n",
        "# Plot loss curve\n",
        "plt.plot(epoch_list, train_losses, label='Train Loss')\n",
        "plt.plot(epoch_list, eval_losses, label='Eval Loss')\n",
        "\n",
        "plt.xlabel('Epoch')\n",
        "plt.ylabel('Loss')\n",
        "plt.title('Loss Curve')\n",
        "plt.legend()\n",
        "plt.show()\n",
        "\n",
        "# Plot F1 score\n",
        "plt.plot(epoch_list, f1_values, label='F1 Score')\n",
        "plt.xlabel('Epoch')\n",
        "plt.ylabel('F1 Score')\n",
        "plt.title('F1 Score on Validation Set')\n",
        "plt.show()"
      ],
      "metadata": {
        "colab": {
          "base_uri": "https://localhost:8080/",
          "height": 927
        },
        "id": "l2rfJA7aAfLG",
        "outputId": "6c2f2bf1-c873-4f96-83b4-1b88f582ff00"
      },
      "id": "l2rfJA7aAfLG",
      "execution_count": null,
      "outputs": [
        {
          "output_type": "display_data",
          "data": {
            "text/plain": [
              "<Figure size 640x480 with 1 Axes>"
            ],
            "image/png": "[encoded data removed]"
          },
          "metadata": {}
        },
        {
          "output_type": "display_data",
          "data": {
            "text/plain": [
              "<Figure size 640x480 with 1 Axes>"
            ],
            "image/png": "[encoded data removed]"
          },
          "metadata": {}
        }
      ]
    },
    {
      "cell_type": "markdown",
      "id": "775755f3",
      "metadata": {
        "id": "775755f3"
      },
      "source": [
        "#### Evaluate on Val set"
      ]
    },
    {
      "cell_type": "code",
      "execution_count": null,
      "id": "e5d65cd5",
      "metadata": {
        "id": "e5d65cd5",
        "colab": {
          "base_uri": "https://localhost:8080/",
          "height": 203
        },
        "outputId": "e1b9f944-ad12-4d3a-b081-8e08cef2b084"
      },
      "outputs": [
        {
          "output_type": "display_data",
          "data": {
            "text/plain": [
              "<IPython.core.display.HTML object>"
            ],
            "text/html": [
              "\n",
              "    <div>\n",
              "      \n",
              "      <progress value='63' max='63' style='width:300px; height:20px; vertical-align: middle;'></progress>\n",
              "      [63/63 00:03]\n",
              "    </div>\n",
              "    "
            ]
          },
          "metadata": {}
        },
        {
          "output_type": "execute_result",
          "data": {
            "text/plain": [
              "{'eval_loss': 0.05109316110610962,\n",
              " 'eval_precision': 0.8596252129471891,\n",
              " 'eval_recall': 0.8766504517025713,\n",
              " 'eval_f1': 0.8680543609151901,\n",
              " 'eval_accuracy': 0.9922493825057491,\n",
              " 'eval_runtime': 22.1184,\n",
              " 'eval_samples_per_second': 44.985,\n",
              " 'eval_steps_per_second': 2.848,\n",
              " 'epoch': 15.0}"
            ]
          },
          "metadata": {},
          "execution_count": 40
        }
      ],
      "source": [
        "trainer.evaluate()"
      ]
    },
    {
      "cell_type": "markdown",
      "id": "ebe8cd8a",
      "metadata": {
        "id": "ebe8cd8a"
      },
      "source": [
        "#### Evaluate on Test set"
      ]
    },
    {
      "cell_type": "code",
      "execution_count": null,
      "id": "883e8fcf",
      "metadata": {
        "id": "883e8fcf",
        "colab": {
          "base_uri": "https://localhost:8080/",
          "height": 17
        },
        "outputId": "e097c819-5c4a-45bf-8e16-9c0fade89e3d"
      },
      "outputs": [
        {
          "output_type": "display_data",
          "data": {
            "text/plain": [
              "<IPython.core.display.HTML object>"
            ],
            "text/html": []
          },
          "metadata": {}
        }
      ],
      "source": [
        "predictions, labels, _ = trainer.predict(tokenized_dataset[\"test\"])\n",
        "predictions = np.argmax(predictions, axis=2)\n",
        "\n",
        "# Remove ignored index (special tokens)\n",
        "true_predictions = [\n",
        "    [label_encoder.inverse_transform([p])[0] for (p, l) in zip(prediction, label) if l != -100]\n",
        "    for prediction, label in zip(predictions, labels)\n",
        "]\n",
        "\n",
        "true_labels = [\n",
        "    [label_encoder.inverse_transform([l])[0] for (p, l) in zip(prediction, label) if l != -100]\n",
        "    for prediction, label in zip(predictions, labels)\n",
        "]"
      ]
    },
    {
      "cell_type": "code",
      "source": [
        "results = metric.compute(predictions=true_predictions, references=true_labels)\n",
        "\n",
        "results_dict = {\n",
        "    \"Label\": [],\n",
        "    \"Precision\": [],\n",
        "    \"Recall\": [],\n",
        "    \"F1-score\": [],\n",
        "    \"Number\": []\n",
        "}\n",
        "\n",
        "for label, metrics in results.items():\n",
        "    if label != \"overall_precision\" and label != \"overall_recall\" and label != \"overall_f1\" and label != \"overall_accuracy\":\n",
        "        results_dict[\"Label\"].append(label)\n",
        "        results_dict[\"Precision\"].append(metrics[\"precision\"])\n",
        "        results_dict[\"Recall\"].append(metrics[\"recall\"])\n",
        "        results_dict[\"F1-score\"].append(metrics[\"f1\"])\n",
        "        results_dict[\"Number\"].append(metrics[\"number\"])\n",
        "\n",
        "results_df = pd.DataFrame(results_dict)\n",
        "print(results_df)\n",
        "\n",
        "print(f\"\\nOverall Precision :{results['overall_precision']}\\nOverall Recall: {results['overall_recall']}\\nOverall F1 : {results['overall_f1']}\\nOverall Accuracy: {results['overall_accuracy']}\\n\")\n"
      ],
      "metadata": {
        "colab": {
          "base_uri": "https://localhost:8080/"
        },
        "id": "_4245TtoWzLj",
        "outputId": "a3c4799f-2663-4df2-cd6e-f73a9887fd81"
      },
      "id": "_4245TtoWzLj",
      "execution_count": null,
      "outputs": [
        {
          "output_type": "stream",
          "name": "stdout",
          "text": [
            "         Label  Precision    Recall  F1-score  Number\n",
            "0   ASE_NUMBER   0.647059  0.785714  0.709677      70\n",
            "1          ATE   0.931034  0.939130  0.935065     115\n",
            "2    ESPONDENT   0.500000  0.571429  0.533333       7\n",
            "3    ETITIONER   0.550000  0.687500  0.611111      16\n",
            "4       ITNESS   0.833333  0.975610  0.898876      41\n",
            "5         OURT   0.884422  0.936170  0.909561     188\n",
            "6        O_TAG   0.855010  0.879584  0.867123    2018\n",
            "7           PE   0.580000  0.644444  0.610526      45\n",
            "8     RECEDENT   0.591398  0.753425  0.662651      73\n",
            "9     ROVISION   0.851351  0.906475  0.878049     139\n",
            "10      TATUTE   0.878049  0.888889  0.883436     162\n",
            "11        UDGE   0.629630  0.894737  0.739130      19\n",
            "\n",
            "Overall Precision :0.8371786420566908\n",
            "Overall Recall: 0.8779813342550985\n",
            "Overall F1 : 0.8570946515943986\n",
            "Overall Accuracy: 0.9911624530505319\n",
            "\n"
          ]
        }
      ]
    },
    {
      "cell_type": "markdown",
      "id": "3b549951",
      "metadata": {
        "id": "3b549951"
      },
      "source": [
        "### K FOLD"
      ]
    },
    {
      "cell_type": "code",
      "source": [
        "kf = KFold(n_splits=10, shuffle=True, random_state=42)\n",
        "\n",
        "X_train = tokenized_dataset['train']['input_ids']  # Replace 'input_ids' with the appropriate feature name\n",
        "\n",
        "dataset_dict = tokenized_dataset['train']\n",
        "fold = 0\n",
        "for train_index, test_index in kf.split(X_train):\n",
        "    print(\"loop\")\n",
        "    torch.cuda.empty_cache()\n",
        "    # Split train and validation based on the train_index\n",
        "    train_split = {key: np.array(dataset_dict[key])[train_index] for key in dataset_dict.features}\n",
        "    validation_split = {key: np.array(dataset_dict[key])[test_index] for key in dataset_dict.features}\n",
        "\n",
        "    train_dataset = Dataset.from_dict(train_split)\n",
        "    val_dataset = Dataset.from_dict(validation_split)\n",
        "\n",
        "    model = get_prepared_model()\n",
        "    trainer = get_trainer(train_dataset, val_dataset, model)\n",
        "    print(\"train\")\n",
        "    trainer.train()\n",
        "    m_path = MODEL_PATH + \"/model_{}\".format(fold)\n",
        "    trainer.save_model(m_path)\n",
        "\n",
        "    print(\"predict\")\n",
        "    # Test set prediction\n",
        "    test_pred, labels, _ = trainer.predict(tokenized_dataset[\"test\"])\n",
        "    fname = MODEL_PATH + \"/fold_{}\".format(fold)\n",
        "    np.save(fname, np.array(test_pred))\n",
        "    fold += 1\n",
        "\n"
      ],
      "metadata": {
        "colab": {
          "base_uri": "https://localhost:8080/",
          "height": 1000
        },
        "id": "4Ks01ze14Gtl",
        "outputId": "73e9b0fc-6f3c-4ff4-92d4-a32cfc345c93"
      },
      "id": "4Ks01ze14Gtl",
      "execution_count": null,
      "outputs": [
        {
          "metadata": {
            "tags": null
          },
          "name": "stdout",
          "output_type": "stream",
          "text": [
            "loop\n"
          ]
        },
        {
          "metadata": {
            "tags": null
          },
          "name": "stderr",
          "output_type": "stream",
          "text": [
            "Some weights of the model checkpoint at microsoft/deberta-v3-base were not used when initializing DebertaV2ForTokenClassification: ['lm_predictions.lm_head.bias', 'mask_predictions.dense.weight', 'deberta.embeddings.position_embeddings.weight', 'mask_predictions.classifier.bias', 'mask_predictions.classifier.weight', 'lm_predictions.lm_head.LayerNorm.weight', 'lm_predictions.lm_head.LayerNorm.bias', 'mask_predictions.LayerNorm.bias', 'lm_predictions.lm_head.dense.bias', 'mask_predictions.LayerNorm.weight', 'lm_predictions.lm_head.dense.weight', 'mask_predictions.dense.bias']\n",
            "- This IS expected if you are initializing DebertaV2ForTokenClassification from the checkpoint of a model trained on another task or with another architecture (e.g. initializing a BertForSequenceClassification model from a BertForPreTraining model).\n",
            "- This IS NOT expected if you are initializing DebertaV2ForTokenClassification from the checkpoint of a model that you expect to be exactly identical (initializing a BertForSequenceClassification model from a BertForSequenceClassification model).\n",
            "Some weights of DebertaV2ForTokenClassification were not initialized from the model checkpoint at microsoft/deberta-v3-base and are newly initialized: ['classifier.weight', 'classifier.bias']\n",
            "You should probably TRAIN this model on a down-stream task to be able to use it for predictions and inference.\n"
          ]
        },
        {
          "metadata": {
            "tags": null
          },
          "name": "stdout",
          "output_type": "stream",
          "text": [
            "train\n"
          ]
        },
        {
          "metadata": {
            "tags": null
          },
          "name": "stderr",
          "output_type": "stream",
          "text": [
            "/usr/local/lib/python3.10/dist-packages/transformers/optimization.py:411: FutureWarning: This implementation of AdamW is deprecated and will be removed in a future version. Use the PyTorch implementation torch.optim.AdamW instead, or set `no_deprecation_warning=True` to disable this warning\n",
            "  warnings.warn(\n",
            "You're using a DebertaV2TokenizerFast tokenizer. Please note that with a fast tokenizer, using the `__call__` method is faster than using a method to encode the text followed by a call to the `pad` method to get a padded encoding.\n"
          ]
        },
        {
          "data": {
            "text/html": [
              "\n",
              "    <div>\n",
              "      \n",
              "      <progress value='6190' max='6190' style='width:300px; height:20px; vertical-align: middle;'></progress>\n",
              "      [6190/6190 27:42, Epoch 10/10]\n",
              "    </div>\n",
              "    <table border=\"1\" class=\"dataframe\">\n",
              "  <thead>\n",
              " <tr style=\"text-align: left;\">\n",
              "      <th>Epoch</th>\n",
              "      <th>Training Loss</th>\n",
              "      <th>Validation Loss</th>\n",
              "      <th>Precision</th>\n",
              "      <th>Recall</th>\n",
              "      <th>F1</th>\n",
              "      <th>Accuracy</th>\n",
              "    </tr>\n",
              "  </thead>\n",
              "  <tbody>\n",
              "    <tr>\n",
              "      <td>1</td>\n",
              "      <td>No log</td>\n",
              "      <td>0.031541</td>\n",
              "      <td>0.750297</td>\n",
              "      <td>0.808049</td>\n",
              "      <td>0.778102</td>\n",
              "      <td>0.989445</td>\n",
              "    </tr>\n",
              "    <tr>\n",
              "      <td>2</td>\n",
              "      <td>0.085800</td>\n",
              "      <td>0.029384</td>\n",
              "      <td>0.814780</td>\n",
              "      <td>0.827531</td>\n",
              "      <td>0.821106</td>\n",
              "      <td>0.990616</td>\n",
              "    </tr>\n",
              "    <tr>\n",
              "      <td>3</td>\n",
              "      <td>0.028600</td>\n",
              "      <td>0.028561</td>\n",
              "      <td>0.819389</td>\n",
              "      <td>0.847653</td>\n",
              "      <td>0.833281</td>\n",
              "      <td>0.991641</td>\n",
              "    </tr>\n",
              "    <tr>\n",
              "      <td>4</td>\n",
              "      <td>0.017900</td>\n",
              "      <td>0.030643</td>\n",
              "      <td>0.821934</td>\n",
              "      <td>0.871287</td>\n",
              "      <td>0.845891</td>\n",
              "      <td>0.991849</td>\n",
              "    </tr>\n",
              "    <tr>\n",
              "      <td>5</td>\n",
              "      <td>0.012700</td>\n",
              "      <td>0.030082</td>\n",
              "      <td>0.817153</td>\n",
              "      <td>0.876397</td>\n",
              "      <td>0.845739</td>\n",
              "      <td>0.991656</td>\n",
              "    </tr>\n",
              "    <tr>\n",
              "      <td>6</td>\n",
              "      <td>0.009100</td>\n",
              "      <td>0.032197</td>\n",
              "      <td>0.840553</td>\n",
              "      <td>0.873842</td>\n",
              "      <td>0.856874</td>\n",
              "      <td>0.991841</td>\n",
              "    </tr>\n",
              "    <tr>\n",
              "      <td>7</td>\n",
              "      <td>0.006000</td>\n",
              "      <td>0.032975</td>\n",
              "      <td>0.850170</td>\n",
              "      <td>0.878952</td>\n",
              "      <td>0.864322</td>\n",
              "      <td>0.991741</td>\n",
              "    </tr>\n",
              "    <tr>\n",
              "      <td>8</td>\n",
              "      <td>0.004200</td>\n",
              "      <td>0.035622</td>\n",
              "      <td>0.848140</td>\n",
              "      <td>0.881188</td>\n",
              "      <td>0.864348</td>\n",
              "      <td>0.992327</td>\n",
              "    </tr>\n",
              "    <tr>\n",
              "      <td>9</td>\n",
              "      <td>0.002500</td>\n",
              "      <td>0.038157</td>\n",
              "      <td>0.849138</td>\n",
              "      <td>0.880869</td>\n",
              "      <td>0.864712</td>\n",
              "      <td>0.992373</td>\n",
              "    </tr>\n",
              "    <tr>\n",
              "      <td>10</td>\n",
              "      <td>0.001900</td>\n",
              "      <td>0.038971</td>\n",
              "      <td>0.849109</td>\n",
              "      <td>0.882466</td>\n",
              "      <td>0.865466</td>\n",
              "      <td>0.992427</td>\n",
              "    </tr>\n",
              "  </tbody>\n",
              "</table><p>"
            ],
            "text/plain": [
              "<IPython.core.display.HTML object>"
            ]
          },
          "metadata": {},
          "output_type": "display_data"
        },
        {
          "metadata": {
            "tags": null
          },
          "name": "stdout",
          "output_type": "stream",
          "text": [
            "predict\n"
          ]
        },
        {
          "data": {
            "text/html": [],
            "text/plain": [
              "<IPython.core.display.HTML object>"
            ]
          },
          "metadata": {},
          "output_type": "display_data"
        },
        {
          "metadata": {
            "tags": null
          },
          "name": "stdout",
          "output_type": "stream",
          "text": [
            "loop\n"
          ]
        },
        {
          "metadata": {
            "tags": null
          },
          "name": "stderr",
          "output_type": "stream",
          "text": [
            "Some weights of the model checkpoint at microsoft/deberta-v3-base were not used when initializing DebertaV2ForTokenClassification: ['lm_predictions.lm_head.bias', 'mask_predictions.dense.weight', 'deberta.embeddings.position_embeddings.weight', 'mask_predictions.classifier.bias', 'mask_predictions.classifier.weight', 'lm_predictions.lm_head.LayerNorm.weight', 'lm_predictions.lm_head.LayerNorm.bias', 'mask_predictions.LayerNorm.bias', 'lm_predictions.lm_head.dense.bias', 'mask_predictions.LayerNorm.weight', 'lm_predictions.lm_head.dense.weight', 'mask_predictions.dense.bias']\n",
            "- This IS expected if you are initializing DebertaV2ForTokenClassification from the checkpoint of a model trained on another task or with another architecture (e.g. initializing a BertForSequenceClassification model from a BertForPreTraining model).\n",
            "- This IS NOT expected if you are initializing DebertaV2ForTokenClassification from the checkpoint of a model that you expect to be exactly identical (initializing a BertForSequenceClassification model from a BertForSequenceClassification model).\n",
            "Some weights of DebertaV2ForTokenClassification were not initialized from the model checkpoint at microsoft/deberta-v3-base and are newly initialized: ['classifier.weight', 'classifier.bias']\n",
            "You should probably TRAIN this model on a down-stream task to be able to use it for predictions and inference.\n"
          ]
        },
        {
          "metadata": {
            "tags": null
          },
          "name": "stdout",
          "output_type": "stream",
          "text": [
            "train\n"
          ]
        },
        {
          "metadata": {
            "tags": null
          },
          "name": "stderr",
          "output_type": "stream",
          "text": [
            "/usr/local/lib/python3.10/dist-packages/transformers/optimization.py:411: FutureWarning: This implementation of AdamW is deprecated and will be removed in a future version. Use the PyTorch implementation torch.optim.AdamW instead, or set `no_deprecation_warning=True` to disable this warning\n",
            "  warnings.warn(\n"
          ]
        },
        {
          "data": {
            "text/html": [
              "\n",
              "    <div>\n",
              "      \n",
              "      <progress value='1690' max='6190' style='width:300px; height:20px; vertical-align: middle;'></progress>\n",
              "      [1690/6190 07:11 < 19:09, 3.91 it/s, Epoch 2.73/10]\n",
              "    </div>\n",
              "    <table border=\"1\" class=\"dataframe\">\n",
              "  <thead>\n",
              " <tr style=\"text-align: left;\">\n",
              "      <th>Epoch</th>\n",
              "      <th>Training Loss</th>\n",
              "      <th>Validation Loss</th>\n",
              "      <th>Precision</th>\n",
              "      <th>Recall</th>\n",
              "      <th>F1</th>\n",
              "      <th>Accuracy</th>\n",
              "    </tr>\n",
              "  </thead>\n",
              "  <tbody>\n",
              "    <tr>\n",
              "      <td>1</td>\n",
              "      <td>No log</td>\n",
              "      <td>0.038532</td>\n",
              "      <td>0.716250</td>\n",
              "      <td>0.802279</td>\n",
              "      <td>0.756827</td>\n",
              "      <td>0.986757</td>\n",
              "    </tr>\n",
              "    <tr>\n",
              "      <td>2</td>\n",
              "      <td>0.082500</td>\n",
              "      <td>0.027879</td>\n",
              "      <td>0.783768</td>\n",
              "      <td>0.850631</td>\n",
              "      <td>0.815832</td>\n",
              "      <td>0.990300</td>\n",
              "    </tr>\n",
              "  </tbody>\n",
              "</table><p>"
            ],
            "text/plain": [
              "<IPython.core.display.HTML object>"
            ]
          },
          "metadata": {},
          "output_type": "display_data"
        },
        {
          "output_type": "display_data",
          "data": {
            "text/plain": [
              "<IPython.core.display.HTML object>"
            ],
            "text/html": [
              "\n",
              "    <div>\n",
              "      \n",
              "      <progress value='6190' max='6190' style='width:300px; height:20px; vertical-align: middle;'></progress>\n",
              "      [6190/6190 27:27, Epoch 10/10]\n",
              "    </div>\n",
              "    <table border=\"1\" class=\"dataframe\">\n",
              "  <thead>\n",
              " <tr style=\"text-align: left;\">\n",
              "      <th>Epoch</th>\n",
              "      <th>Training Loss</th>\n",
              "      <th>Validation Loss</th>\n",
              "      <th>Precision</th>\n",
              "      <th>Recall</th>\n",
              "      <th>F1</th>\n",
              "      <th>Accuracy</th>\n",
              "    </tr>\n",
              "  </thead>\n",
              "  <tbody>\n",
              "    <tr>\n",
              "      <td>1</td>\n",
              "      <td>No log</td>\n",
              "      <td>0.038532</td>\n",
              "      <td>0.716250</td>\n",
              "      <td>0.802279</td>\n",
              "      <td>0.756827</td>\n",
              "      <td>0.986757</td>\n",
              "    </tr>\n",
              "    <tr>\n",
              "      <td>2</td>\n",
              "      <td>0.082500</td>\n",
              "      <td>0.027879</td>\n",
              "      <td>0.783768</td>\n",
              "      <td>0.850631</td>\n",
              "      <td>0.815832</td>\n",
              "      <td>0.990300</td>\n",
              "    </tr>\n",
              "    <tr>\n",
              "      <td>3</td>\n",
              "      <td>0.029200</td>\n",
              "      <td>0.025099</td>\n",
              "      <td>0.811963</td>\n",
              "      <td>0.873730</td>\n",
              "      <td>0.841715</td>\n",
              "      <td>0.991857</td>\n",
              "    </tr>\n",
              "    <tr>\n",
              "      <td>4</td>\n",
              "      <td>0.020100</td>\n",
              "      <td>0.027236</td>\n",
              "      <td>0.827496</td>\n",
              "      <td>0.873114</td>\n",
              "      <td>0.849693</td>\n",
              "      <td>0.991949</td>\n",
              "    </tr>\n",
              "    <tr>\n",
              "      <td>5</td>\n",
              "      <td>0.013400</td>\n",
              "      <td>0.025955</td>\n",
              "      <td>0.853798</td>\n",
              "      <td>0.875885</td>\n",
              "      <td>0.864701</td>\n",
              "      <td>0.992881</td>\n",
              "    </tr>\n",
              "    <tr>\n",
              "      <td>6</td>\n",
              "      <td>0.010500</td>\n",
              "      <td>0.031132</td>\n",
              "      <td>0.841630</td>\n",
              "      <td>0.890360</td>\n",
              "      <td>0.865310</td>\n",
              "      <td>0.992542</td>\n",
              "    </tr>\n",
              "    <tr>\n",
              "      <td>7</td>\n",
              "      <td>0.006100</td>\n",
              "      <td>0.026723</td>\n",
              "      <td>0.865627</td>\n",
              "      <td>0.888820</td>\n",
              "      <td>0.877070</td>\n",
              "      <td>0.993112</td>\n",
              "    </tr>\n",
              "    <tr>\n",
              "      <td>8</td>\n",
              "      <td>0.004500</td>\n",
              "      <td>0.029060</td>\n",
              "      <td>0.867617</td>\n",
              "      <td>0.900216</td>\n",
              "      <td>0.883615</td>\n",
              "      <td>0.993891</td>\n",
              "    </tr>\n",
              "    <tr>\n",
              "      <td>9</td>\n",
              "      <td>0.002900</td>\n",
              "      <td>0.030915</td>\n",
              "      <td>0.859888</td>\n",
              "      <td>0.895904</td>\n",
              "      <td>0.877526</td>\n",
              "      <td>0.993513</td>\n",
              "    </tr>\n",
              "    <tr>\n",
              "      <td>10</td>\n",
              "      <td>0.002100</td>\n",
              "      <td>0.030861</td>\n",
              "      <td>0.862559</td>\n",
              "      <td>0.896828</td>\n",
              "      <td>0.879360</td>\n",
              "      <td>0.993860</td>\n",
              "    </tr>\n",
              "  </tbody>\n",
              "</table><p>"
            ]
          },
          "metadata": {}
        },
        {
          "output_type": "stream",
          "name": "stdout",
          "text": [
            "predict\n"
          ]
        },
        {
          "output_type": "display_data",
          "data": {
            "text/plain": [
              "<IPython.core.display.HTML object>"
            ],
            "text/html": []
          },
          "metadata": {}
        },
        {
          "output_type": "stream",
          "name": "stdout",
          "text": [
            "loop\n"
          ]
        },
        {
          "output_type": "stream",
          "name": "stderr",
          "text": [
            "Some weights of the model checkpoint at microsoft/deberta-v3-base were not used when initializing DebertaV2ForTokenClassification: ['lm_predictions.lm_head.bias', 'mask_predictions.dense.weight', 'deberta.embeddings.position_embeddings.weight', 'mask_predictions.classifier.bias', 'mask_predictions.classifier.weight', 'lm_predictions.lm_head.LayerNorm.weight', 'lm_predictions.lm_head.LayerNorm.bias', 'mask_predictions.LayerNorm.bias', 'lm_predictions.lm_head.dense.bias', 'mask_predictions.LayerNorm.weight', 'lm_predictions.lm_head.dense.weight', 'mask_predictions.dense.bias']\n",
            "- This IS expected if you are initializing DebertaV2ForTokenClassification from the checkpoint of a model trained on another task or with another architecture (e.g. initializing a BertForSequenceClassification model from a BertForPreTraining model).\n",
            "- This IS NOT expected if you are initializing DebertaV2ForTokenClassification from the checkpoint of a model that you expect to be exactly identical (initializing a BertForSequenceClassification model from a BertForSequenceClassification model).\n",
            "Some weights of DebertaV2ForTokenClassification were not initialized from the model checkpoint at microsoft/deberta-v3-base and are newly initialized: ['classifier.weight', 'classifier.bias']\n",
            "You should probably TRAIN this model on a down-stream task to be able to use it for predictions and inference.\n"
          ]
        },
        {
          "output_type": "stream",
          "name": "stdout",
          "text": [
            "train\n"
          ]
        },
        {
          "output_type": "stream",
          "name": "stderr",
          "text": [
            "/usr/local/lib/python3.10/dist-packages/transformers/optimization.py:411: FutureWarning: This implementation of AdamW is deprecated and will be removed in a future version. Use the PyTorch implementation torch.optim.AdamW instead, or set `no_deprecation_warning=True` to disable this warning\n",
            "  warnings.warn(\n"
          ]
        },
        {
          "output_type": "display_data",
          "data": {
            "text/plain": [
              "<IPython.core.display.HTML object>"
            ],
            "text/html": [
              "\n",
              "    <div>\n",
              "      \n",
              "      <progress value='6190' max='6190' style='width:300px; height:20px; vertical-align: middle;'></progress>\n",
              "      [6190/6190 27:37, Epoch 10/10]\n",
              "    </div>\n",
              "    <table border=\"1\" class=\"dataframe\">\n",
              "  <thead>\n",
              " <tr style=\"text-align: left;\">\n",
              "      <th>Epoch</th>\n",
              "      <th>Training Loss</th>\n",
              "      <th>Validation Loss</th>\n",
              "      <th>Precision</th>\n",
              "      <th>Recall</th>\n",
              "      <th>F1</th>\n",
              "      <th>Accuracy</th>\n",
              "    </tr>\n",
              "  </thead>\n",
              "  <tbody>\n",
              "    <tr>\n",
              "      <td>1</td>\n",
              "      <td>No log</td>\n",
              "      <td>0.036561</td>\n",
              "      <td>0.763714</td>\n",
              "      <td>0.801499</td>\n",
              "      <td>0.782151</td>\n",
              "      <td>0.988074</td>\n",
              "    </tr>\n",
              "    <tr>\n",
              "      <td>2</td>\n",
              "      <td>0.081100</td>\n",
              "      <td>0.031919</td>\n",
              "      <td>0.791841</td>\n",
              "      <td>0.849775</td>\n",
              "      <td>0.819786</td>\n",
              "      <td>0.990031</td>\n",
              "    </tr>\n",
              "    <tr>\n",
              "      <td>3</td>\n",
              "      <td>0.027800</td>\n",
              "      <td>0.030792</td>\n",
              "      <td>0.808340</td>\n",
              "      <td>0.877661</td>\n",
              "      <td>0.841576</td>\n",
              "      <td>0.990015</td>\n",
              "    </tr>\n",
              "    <tr>\n",
              "      <td>4</td>\n",
              "      <td>0.019100</td>\n",
              "      <td>0.034153</td>\n",
              "      <td>0.831294</td>\n",
              "      <td>0.855472</td>\n",
              "      <td>0.843210</td>\n",
              "      <td>0.990894</td>\n",
              "    </tr>\n",
              "    <tr>\n",
              "      <td>5</td>\n",
              "      <td>0.012900</td>\n",
              "      <td>0.032970</td>\n",
              "      <td>0.843387</td>\n",
              "      <td>0.871964</td>\n",
              "      <td>0.857438</td>\n",
              "      <td>0.991148</td>\n",
              "    </tr>\n",
              "    <tr>\n",
              "      <td>6</td>\n",
              "      <td>0.008500</td>\n",
              "      <td>0.041113</td>\n",
              "      <td>0.851588</td>\n",
              "      <td>0.860270</td>\n",
              "      <td>0.855907</td>\n",
              "      <td>0.990277</td>\n",
              "    </tr>\n",
              "    <tr>\n",
              "      <td>7</td>\n",
              "      <td>0.006400</td>\n",
              "      <td>0.038136</td>\n",
              "      <td>0.835425</td>\n",
              "      <td>0.878261</td>\n",
              "      <td>0.856308</td>\n",
              "      <td>0.991233</td>\n",
              "    </tr>\n",
              "    <tr>\n",
              "      <td>8</td>\n",
              "      <td>0.003900</td>\n",
              "      <td>0.039474</td>\n",
              "      <td>0.843103</td>\n",
              "      <td>0.879760</td>\n",
              "      <td>0.861042</td>\n",
              "      <td>0.991633</td>\n",
              "    </tr>\n",
              "    <tr>\n",
              "      <td>9</td>\n",
              "      <td>0.002800</td>\n",
              "      <td>0.041447</td>\n",
              "      <td>0.851540</td>\n",
              "      <td>0.878861</td>\n",
              "      <td>0.864985</td>\n",
              "      <td>0.991479</td>\n",
              "    </tr>\n",
              "    <tr>\n",
              "      <td>10</td>\n",
              "      <td>0.002000</td>\n",
              "      <td>0.042798</td>\n",
              "      <td>0.845757</td>\n",
              "      <td>0.884558</td>\n",
              "      <td>0.864722</td>\n",
              "      <td>0.991787</td>\n",
              "    </tr>\n",
              "  </tbody>\n",
              "</table><p>"
            ]
          },
          "metadata": {}
        },
        {
          "output_type": "stream",
          "name": "stdout",
          "text": [
            "predict\n"
          ]
        },
        {
          "output_type": "display_data",
          "data": {
            "text/plain": [
              "<IPython.core.display.HTML object>"
            ],
            "text/html": []
          },
          "metadata": {}
        },
        {
          "output_type": "stream",
          "name": "stdout",
          "text": [
            "loop\n"
          ]
        },
        {
          "output_type": "stream",
          "name": "stderr",
          "text": [
            "Some weights of the model checkpoint at microsoft/deberta-v3-base were not used when initializing DebertaV2ForTokenClassification: ['lm_predictions.lm_head.bias', 'mask_predictions.dense.weight', 'deberta.embeddings.position_embeddings.weight', 'mask_predictions.classifier.bias', 'mask_predictions.classifier.weight', 'lm_predictions.lm_head.LayerNorm.weight', 'lm_predictions.lm_head.LayerNorm.bias', 'mask_predictions.LayerNorm.bias', 'lm_predictions.lm_head.dense.bias', 'mask_predictions.LayerNorm.weight', 'lm_predictions.lm_head.dense.weight', 'mask_predictions.dense.bias']\n",
            "- This IS expected if you are initializing DebertaV2ForTokenClassification from the checkpoint of a model trained on another task or with another architecture (e.g. initializing a BertForSequenceClassification model from a BertForPreTraining model).\n",
            "- This IS NOT expected if you are initializing DebertaV2ForTokenClassification from the checkpoint of a model that you expect to be exactly identical (initializing a BertForSequenceClassification model from a BertForSequenceClassification model).\n",
            "Some weights of DebertaV2ForTokenClassification were not initialized from the model checkpoint at microsoft/deberta-v3-base and are newly initialized: ['classifier.weight', 'classifier.bias']\n",
            "You should probably TRAIN this model on a down-stream task to be able to use it for predictions and inference.\n"
          ]
        },
        {
          "output_type": "stream",
          "name": "stdout",
          "text": [
            "train\n"
          ]
        },
        {
          "output_type": "stream",
          "name": "stderr",
          "text": [
            "/usr/local/lib/python3.10/dist-packages/transformers/optimization.py:411: FutureWarning: This implementation of AdamW is deprecated and will be removed in a future version. Use the PyTorch implementation torch.optim.AdamW instead, or set `no_deprecation_warning=True` to disable this warning\n",
            "  warnings.warn(\n"
          ]
        },
        {
          "output_type": "display_data",
          "data": {
            "text/plain": [
              "<IPython.core.display.HTML object>"
            ],
            "text/html": [
              "\n",
              "    <div>\n",
              "      \n",
              "      <progress value='6190' max='6190' style='width:300px; height:20px; vertical-align: middle;'></progress>\n",
              "      [6190/6190 27:31, Epoch 10/10]\n",
              "    </div>\n",
              "    <table border=\"1\" class=\"dataframe\">\n",
              "  <thead>\n",
              " <tr style=\"text-align: left;\">\n",
              "      <th>Epoch</th>\n",
              "      <th>Training Loss</th>\n",
              "      <th>Validation Loss</th>\n",
              "      <th>Precision</th>\n",
              "      <th>Recall</th>\n",
              "      <th>F1</th>\n",
              "      <th>Accuracy</th>\n",
              "    </tr>\n",
              "  </thead>\n",
              "  <tbody>\n",
              "    <tr>\n",
              "      <td>1</td>\n",
              "      <td>No log</td>\n",
              "      <td>0.037271</td>\n",
              "      <td>0.724068</td>\n",
              "      <td>0.791285</td>\n",
              "      <td>0.756186</td>\n",
              "      <td>0.988089</td>\n",
              "    </tr>\n",
              "    <tr>\n",
              "      <td>2</td>\n",
              "      <td>0.081800</td>\n",
              "      <td>0.034131</td>\n",
              "      <td>0.705882</td>\n",
              "      <td>0.829807</td>\n",
              "      <td>0.762845</td>\n",
              "      <td>0.987712</td>\n",
              "    </tr>\n",
              "    <tr>\n",
              "      <td>3</td>\n",
              "      <td>0.028500</td>\n",
              "      <td>0.029923</td>\n",
              "      <td>0.779310</td>\n",
              "      <td>0.856331</td>\n",
              "      <td>0.816007</td>\n",
              "      <td>0.990424</td>\n",
              "    </tr>\n",
              "    <tr>\n",
              "      <td>4</td>\n",
              "      <td>0.019900</td>\n",
              "      <td>0.030145</td>\n",
              "      <td>0.813711</td>\n",
              "      <td>0.862015</td>\n",
              "      <td>0.837167</td>\n",
              "      <td>0.991718</td>\n",
              "    </tr>\n",
              "    <tr>\n",
              "      <td>5</td>\n",
              "      <td>0.013300</td>\n",
              "      <td>0.032605</td>\n",
              "      <td>0.807074</td>\n",
              "      <td>0.871803</td>\n",
              "      <td>0.838191</td>\n",
              "      <td>0.991125</td>\n",
              "    </tr>\n",
              "    <tr>\n",
              "      <td>6</td>\n",
              "      <td>0.010300</td>\n",
              "      <td>0.031697</td>\n",
              "      <td>0.820851</td>\n",
              "      <td>0.865172</td>\n",
              "      <td>0.842429</td>\n",
              "      <td>0.991880</td>\n",
              "    </tr>\n",
              "    <tr>\n",
              "      <td>7</td>\n",
              "      <td>0.006800</td>\n",
              "      <td>0.036549</td>\n",
              "      <td>0.815511</td>\n",
              "      <td>0.876539</td>\n",
              "      <td>0.844925</td>\n",
              "      <td>0.990724</td>\n",
              "    </tr>\n",
              "    <tr>\n",
              "      <td>8</td>\n",
              "      <td>0.004800</td>\n",
              "      <td>0.039557</td>\n",
              "      <td>0.804821</td>\n",
              "      <td>0.874961</td>\n",
              "      <td>0.838427</td>\n",
              "      <td>0.990578</td>\n",
              "    </tr>\n",
              "    <tr>\n",
              "      <td>9</td>\n",
              "      <td>0.003200</td>\n",
              "      <td>0.040104</td>\n",
              "      <td>0.821019</td>\n",
              "      <td>0.880644</td>\n",
              "      <td>0.849787</td>\n",
              "      <td>0.991564</td>\n",
              "    </tr>\n",
              "    <tr>\n",
              "      <td>10</td>\n",
              "      <td>0.002300</td>\n",
              "      <td>0.037376</td>\n",
              "      <td>0.828622</td>\n",
              "      <td>0.879381</td>\n",
              "      <td>0.853248</td>\n",
              "      <td>0.991965</td>\n",
              "    </tr>\n",
              "  </tbody>\n",
              "</table><p>"
            ]
          },
          "metadata": {}
        },
        {
          "output_type": "stream",
          "name": "stdout",
          "text": [
            "predict\n"
          ]
        },
        {
          "output_type": "display_data",
          "data": {
            "text/plain": [
              "<IPython.core.display.HTML object>"
            ],
            "text/html": []
          },
          "metadata": {}
        },
        {
          "output_type": "stream",
          "name": "stdout",
          "text": [
            "loop\n"
          ]
        },
        {
          "output_type": "stream",
          "name": "stderr",
          "text": [
            "Some weights of the model checkpoint at microsoft/deberta-v3-base were not used when initializing DebertaV2ForTokenClassification: ['lm_predictions.lm_head.bias', 'mask_predictions.dense.weight', 'deberta.embeddings.position_embeddings.weight', 'mask_predictions.classifier.bias', 'mask_predictions.classifier.weight', 'lm_predictions.lm_head.LayerNorm.weight', 'lm_predictions.lm_head.LayerNorm.bias', 'mask_predictions.LayerNorm.bias', 'lm_predictions.lm_head.dense.bias', 'mask_predictions.LayerNorm.weight', 'lm_predictions.lm_head.dense.weight', 'mask_predictions.dense.bias']\n",
            "- This IS expected if you are initializing DebertaV2ForTokenClassification from the checkpoint of a model trained on another task or with another architecture (e.g. initializing a BertForSequenceClassification model from a BertForPreTraining model).\n",
            "- This IS NOT expected if you are initializing DebertaV2ForTokenClassification from the checkpoint of a model that you expect to be exactly identical (initializing a BertForSequenceClassification model from a BertForSequenceClassification model).\n",
            "Some weights of DebertaV2ForTokenClassification were not initialized from the model checkpoint at microsoft/deberta-v3-base and are newly initialized: ['classifier.weight', 'classifier.bias']\n",
            "You should probably TRAIN this model on a down-stream task to be able to use it for predictions and inference.\n"
          ]
        },
        {
          "output_type": "stream",
          "name": "stdout",
          "text": [
            "train\n"
          ]
        },
        {
          "output_type": "stream",
          "name": "stderr",
          "text": [
            "/usr/local/lib/python3.10/dist-packages/transformers/optimization.py:411: FutureWarning: This implementation of AdamW is deprecated and will be removed in a future version. Use the PyTorch implementation torch.optim.AdamW instead, or set `no_deprecation_warning=True` to disable this warning\n",
            "  warnings.warn(\n"
          ]
        },
        {
          "output_type": "display_data",
          "data": {
            "text/plain": [
              "<IPython.core.display.HTML object>"
            ],
            "text/html": [
              "\n",
              "    <div>\n",
              "      \n",
              "      <progress value='4132' max='6190' style='width:300px; height:20px; vertical-align: middle;'></progress>\n",
              "      [4132/6190 18:05 < 09:01, 3.80 it/s, Epoch 6.67/10]\n",
              "    </div>\n",
              "    <table border=\"1\" class=\"dataframe\">\n",
              "  <thead>\n",
              " <tr style=\"text-align: left;\">\n",
              "      <th>Epoch</th>\n",
              "      <th>Training Loss</th>\n",
              "      <th>Validation Loss</th>\n",
              "      <th>Precision</th>\n",
              "      <th>Recall</th>\n",
              "      <th>F1</th>\n",
              "      <th>Accuracy</th>\n",
              "    </tr>\n",
              "  </thead>\n",
              "  <tbody>\n",
              "    <tr>\n",
              "      <td>1</td>\n",
              "      <td>No log</td>\n",
              "      <td>0.036949</td>\n",
              "      <td>0.705706</td>\n",
              "      <td>0.806552</td>\n",
              "      <td>0.752766</td>\n",
              "      <td>0.986703</td>\n",
              "    </tr>\n",
              "    <tr>\n",
              "      <td>2</td>\n",
              "      <td>0.080200</td>\n",
              "      <td>0.042740</td>\n",
              "      <td>0.697819</td>\n",
              "      <td>0.838690</td>\n",
              "      <td>0.761797</td>\n",
              "      <td>0.985763</td>\n",
              "    </tr>\n",
              "    <tr>\n",
              "      <td>3</td>\n",
              "      <td>0.027500</td>\n",
              "      <td>0.039315</td>\n",
              "      <td>0.805895</td>\n",
              "      <td>0.801872</td>\n",
              "      <td>0.803879</td>\n",
              "      <td>0.987681</td>\n",
              "    </tr>\n",
              "    <tr>\n",
              "      <td>4</td>\n",
              "      <td>0.019000</td>\n",
              "      <td>0.032946</td>\n",
              "      <td>0.815259</td>\n",
              "      <td>0.870203</td>\n",
              "      <td>0.841835</td>\n",
              "      <td>0.990616</td>\n",
              "    </tr>\n",
              "    <tr>\n",
              "      <td>5</td>\n",
              "      <td>0.013400</td>\n",
              "      <td>0.036291</td>\n",
              "      <td>0.824828</td>\n",
              "      <td>0.862402</td>\n",
              "      <td>0.843197</td>\n",
              "      <td>0.990316</td>\n",
              "    </tr>\n",
              "    <tr>\n",
              "      <td>6</td>\n",
              "      <td>0.009300</td>\n",
              "      <td>0.038816</td>\n",
              "      <td>0.819118</td>\n",
              "      <td>0.868955</td>\n",
              "      <td>0.843301</td>\n",
              "      <td>0.990462</td>\n",
              "    </tr>\n",
              "  </tbody>\n",
              "</table><p>"
            ]
          },
          "metadata": {}
        }
      ]
    },
    {
      "cell_type": "markdown",
      "source": [
        "#### Second run"
      ],
      "metadata": {
        "id": "C5SBc0AA_WJi"
      },
      "id": "C5SBc0AA_WJi"
    },
    {
      "cell_type": "code",
      "source": [
        "kf = KFold(n_splits=10, shuffle=True, random_state=42)\n",
        "X_train = tokenized_dataset['train']['input_ids']  # Replace 'input_ids' with the appropriate feature name\n",
        "\n",
        "dataset_dict = tokenized_dataset['train']\n",
        "fold = 0\n",
        "for train_index, test_index in kf.split(X_train):\n",
        "    if fold<4:\n",
        "      fold+=1\n",
        "      continue\n",
        "\n",
        "    print(f\"Fold : {fold}\")\n",
        "\n",
        "    torch.cuda.empty_cache()\n",
        "    # Split train and validation based on the train_index\n",
        "    train_split = {key: np.array(dataset_dict[key])[train_index] for key in dataset_dict.features}\n",
        "    validation_split = {key: np.array(dataset_dict[key])[test_index] for key in dataset_dict.features}\n",
        "\n",
        "    train_dataset = Dataset.from_dict(train_split)\n",
        "    val_dataset = Dataset.from_dict(validation_split)\n",
        "\n",
        "    model = get_prepared_model()\n",
        "    trainer = get_trainer(train_dataset, val_dataset, model)\n",
        "\n",
        "    trainer.train()\n",
        "    m_path = MODEL_PATH + \"/model_{}\".format(fold)\n",
        "    trainer.save_model(m_path)\n",
        "\n",
        "\n",
        "    # Test set prediction\n",
        "    test_pred, labels, _ = trainer.predict(tokenized_dataset[\"test\"])\n",
        "    fname = MODEL_PATH + \"/fold_{}\".format(fold)\n",
        "    np.save(fname, np.array(test_pred))\n",
        "    fold += 1\n"
      ],
      "metadata": {
        "colab": {
          "base_uri": "https://localhost:8080/",
          "height": 1000,
          "referenced_widgets": [
            "337875a0cd6c4028a3fad560cccec8e9",
            "32d75e643dfb41e3abfd8cd0ff9b06d4",
            "f915bfcceab7457a81024ac244480bee",
            "0c76d50e2db94d3c8b530c9ef0fa0ad7",
            "75700cf1c6fd44d98be99e70b29eff4c",
            "727c2d433fb144f79a7615c1c1121e37",
            "1f6c20ea4465401cb729aecff3991adb",
            "f42e49ac92854b8a9678f3147b47a304",
            "a5407d0e2abf43079534782a2488fddb",
            "735dca6ed67046f587fb18e8787c5b76",
            "66f430bc51f449c2bc01ef917f3e2a12"
          ]
        },
        "id": "8W67yHz48ne8",
        "outputId": "49f7aa0b-43cc-43b6-f672-e5aaae0332e7"
      },
      "id": "8W67yHz48ne8",
      "execution_count": 24,
      "outputs": [
        {
          "output_type": "stream",
          "name": "stdout",
          "text": [
            "Fold : 4\n"
          ]
        },
        {
          "output_type": "display_data",
          "data": {
            "text/plain": [
              "Downloading pytorch_model.bin:   0%|          | 0.00/371M [00:00<?, ?B/s]"
            ],
            "application/vnd.jupyter.widget-view+json": {
              "version_major": 2,
              "version_minor": 0,
              "model_id": "337875a0cd6c4028a3fad560cccec8e9"
            }
          },
          "metadata": {}
        },
        {
          "output_type": "stream",
          "name": "stderr",
          "text": [
            "Some weights of the model checkpoint at microsoft/deberta-v3-base were not used when initializing DebertaV2ForTokenClassification: ['mask_predictions.classifier.weight', 'mask_predictions.LayerNorm.bias', 'lm_predictions.lm_head.dense.weight', 'lm_predictions.lm_head.bias', 'deberta.embeddings.position_embeddings.weight', 'mask_predictions.LayerNorm.weight', 'lm_predictions.lm_head.LayerNorm.bias', 'lm_predictions.lm_head.dense.bias', 'lm_predictions.lm_head.LayerNorm.weight', 'mask_predictions.dense.bias', 'mask_predictions.classifier.bias', 'mask_predictions.dense.weight']\n",
            "- This IS expected if you are initializing DebertaV2ForTokenClassification from the checkpoint of a model trained on another task or with another architecture (e.g. initializing a BertForSequenceClassification model from a BertForPreTraining model).\n",
            "- This IS NOT expected if you are initializing DebertaV2ForTokenClassification from the checkpoint of a model that you expect to be exactly identical (initializing a BertForSequenceClassification model from a BertForSequenceClassification model).\n",
            "Some weights of DebertaV2ForTokenClassification were not initialized from the model checkpoint at microsoft/deberta-v3-base and are newly initialized: ['classifier.weight', 'classifier.bias']\n",
            "You should probably TRAIN this model on a down-stream task to be able to use it for predictions and inference.\n",
            "/usr/local/lib/python3.10/dist-packages/transformers/optimization.py:411: FutureWarning: This implementation of AdamW is deprecated and will be removed in a future version. Use the PyTorch implementation torch.optim.AdamW instead, or set `no_deprecation_warning=True` to disable this warning\n",
            "  warnings.warn(\n",
            "You're using a DebertaV2TokenizerFast tokenizer. Please note that with a fast tokenizer, using the `__call__` method is faster than using a method to encode the text followed by a call to the `pad` method to get a padded encoding.\n"
          ]
        },
        {
          "output_type": "display_data",
          "data": {
            "text/plain": [
              "<IPython.core.display.HTML object>"
            ],
            "text/html": [
              "\n",
              "    <div>\n",
              "      \n",
              "      <progress value='6190' max='6190' style='width:300px; height:20px; vertical-align: middle;'></progress>\n",
              "      [6190/6190 27:35, Epoch 10/10]\n",
              "    </div>\n",
              "    <table border=\"1\" class=\"dataframe\">\n",
              "  <thead>\n",
              " <tr style=\"text-align: left;\">\n",
              "      <th>Epoch</th>\n",
              "      <th>Training Loss</th>\n",
              "      <th>Validation Loss</th>\n",
              "      <th>Precision</th>\n",
              "      <th>Recall</th>\n",
              "      <th>F1</th>\n",
              "      <th>Accuracy</th>\n",
              "    </tr>\n",
              "  </thead>\n",
              "  <tbody>\n",
              "    <tr>\n",
              "      <td>1</td>\n",
              "      <td>No log</td>\n",
              "      <td>0.038151</td>\n",
              "      <td>0.720167</td>\n",
              "      <td>0.807800</td>\n",
              "      <td>0.761471</td>\n",
              "      <td>0.986055</td>\n",
              "    </tr>\n",
              "    <tr>\n",
              "      <td>2</td>\n",
              "      <td>0.087900</td>\n",
              "      <td>0.039831</td>\n",
              "      <td>0.725209</td>\n",
              "      <td>0.837441</td>\n",
              "      <td>0.777295</td>\n",
              "      <td>0.986980</td>\n",
              "    </tr>\n",
              "    <tr>\n",
              "      <td>3</td>\n",
              "      <td>0.026400</td>\n",
              "      <td>0.042427</td>\n",
              "      <td>0.808805</td>\n",
              "      <td>0.785335</td>\n",
              "      <td>0.796897</td>\n",
              "      <td>0.986841</td>\n",
              "    </tr>\n",
              "    <tr>\n",
              "      <td>4</td>\n",
              "      <td>0.018600</td>\n",
              "      <td>0.033438</td>\n",
              "      <td>0.820636</td>\n",
              "      <td>0.853666</td>\n",
              "      <td>0.836825</td>\n",
              "      <td>0.990347</td>\n",
              "    </tr>\n",
              "    <tr>\n",
              "      <td>5</td>\n",
              "      <td>0.013000</td>\n",
              "      <td>0.037131</td>\n",
              "      <td>0.806982</td>\n",
              "      <td>0.872699</td>\n",
              "      <td>0.838555</td>\n",
              "      <td>0.990077</td>\n",
              "    </tr>\n",
              "    <tr>\n",
              "      <td>6</td>\n",
              "      <td>0.008900</td>\n",
              "      <td>0.035165</td>\n",
              "      <td>0.827321</td>\n",
              "      <td>0.873011</td>\n",
              "      <td>0.849552</td>\n",
              "      <td>0.990416</td>\n",
              "    </tr>\n",
              "    <tr>\n",
              "      <td>7</td>\n",
              "      <td>0.006500</td>\n",
              "      <td>0.040048</td>\n",
              "      <td>0.807981</td>\n",
              "      <td>0.871763</td>\n",
              "      <td>0.838661</td>\n",
              "      <td>0.989892</td>\n",
              "    </tr>\n",
              "    <tr>\n",
              "      <td>8</td>\n",
              "      <td>0.004200</td>\n",
              "      <td>0.039748</td>\n",
              "      <td>0.816049</td>\n",
              "      <td>0.878939</td>\n",
              "      <td>0.846327</td>\n",
              "      <td>0.990262</td>\n",
              "    </tr>\n",
              "    <tr>\n",
              "      <td>9</td>\n",
              "      <td>0.003000</td>\n",
              "      <td>0.042201</td>\n",
              "      <td>0.832937</td>\n",
              "      <td>0.874259</td>\n",
              "      <td>0.853098</td>\n",
              "      <td>0.990994</td>\n",
              "    </tr>\n",
              "    <tr>\n",
              "      <td>10</td>\n",
              "      <td>0.002100</td>\n",
              "      <td>0.043782</td>\n",
              "      <td>0.831598</td>\n",
              "      <td>0.872075</td>\n",
              "      <td>0.851355</td>\n",
              "      <td>0.991063</td>\n",
              "    </tr>\n",
              "  </tbody>\n",
              "</table><p>"
            ]
          },
          "metadata": {}
        },
        {
          "output_type": "display_data",
          "data": {
            "text/plain": [
              "<IPython.core.display.HTML object>"
            ],
            "text/html": []
          },
          "metadata": {}
        },
        {
          "output_type": "stream",
          "name": "stdout",
          "text": [
            "Fold : 5\n"
          ]
        },
        {
          "output_type": "stream",
          "name": "stderr",
          "text": [
            "Some weights of the model checkpoint at microsoft/deberta-v3-base were not used when initializing DebertaV2ForTokenClassification: ['mask_predictions.classifier.weight', 'mask_predictions.LayerNorm.bias', 'lm_predictions.lm_head.dense.weight', 'lm_predictions.lm_head.bias', 'deberta.embeddings.position_embeddings.weight', 'mask_predictions.LayerNorm.weight', 'lm_predictions.lm_head.LayerNorm.bias', 'lm_predictions.lm_head.dense.bias', 'lm_predictions.lm_head.LayerNorm.weight', 'mask_predictions.dense.bias', 'mask_predictions.classifier.bias', 'mask_predictions.dense.weight']\n",
            "- This IS expected if you are initializing DebertaV2ForTokenClassification from the checkpoint of a model trained on another task or with another architecture (e.g. initializing a BertForSequenceClassification model from a BertForPreTraining model).\n",
            "- This IS NOT expected if you are initializing DebertaV2ForTokenClassification from the checkpoint of a model that you expect to be exactly identical (initializing a BertForSequenceClassification model from a BertForSequenceClassification model).\n",
            "Some weights of DebertaV2ForTokenClassification were not initialized from the model checkpoint at microsoft/deberta-v3-base and are newly initialized: ['classifier.weight', 'classifier.bias']\n",
            "You should probably TRAIN this model on a down-stream task to be able to use it for predictions and inference.\n",
            "/usr/local/lib/python3.10/dist-packages/transformers/optimization.py:411: FutureWarning: This implementation of AdamW is deprecated and will be removed in a future version. Use the PyTorch implementation torch.optim.AdamW instead, or set `no_deprecation_warning=True` to disable this warning\n",
            "  warnings.warn(\n"
          ]
        },
        {
          "output_type": "display_data",
          "data": {
            "text/plain": [
              "<IPython.core.display.HTML object>"
            ],
            "text/html": [
              "\n",
              "    <div>\n",
              "      \n",
              "      <progress value='6190' max='6190' style='width:300px; height:20px; vertical-align: middle;'></progress>\n",
              "      [6190/6190 27:29, Epoch 10/10]\n",
              "    </div>\n",
              "    <table border=\"1\" class=\"dataframe\">\n",
              "  <thead>\n",
              " <tr style=\"text-align: left;\">\n",
              "      <th>Epoch</th>\n",
              "      <th>Training Loss</th>\n",
              "      <th>Validation Loss</th>\n",
              "      <th>Precision</th>\n",
              "      <th>Recall</th>\n",
              "      <th>F1</th>\n",
              "      <th>Accuracy</th>\n",
              "    </tr>\n",
              "  </thead>\n",
              "  <tbody>\n",
              "    <tr>\n",
              "      <td>1</td>\n",
              "      <td>No log</td>\n",
              "      <td>0.044833</td>\n",
              "      <td>0.657631</td>\n",
              "      <td>0.821037</td>\n",
              "      <td>0.730305</td>\n",
              "      <td>0.984508</td>\n",
              "    </tr>\n",
              "    <tr>\n",
              "      <td>2</td>\n",
              "      <td>0.081800</td>\n",
              "      <td>0.030705</td>\n",
              "      <td>0.803152</td>\n",
              "      <td>0.854573</td>\n",
              "      <td>0.828065</td>\n",
              "      <td>0.989736</td>\n",
              "    </tr>\n",
              "    <tr>\n",
              "      <td>3</td>\n",
              "      <td>0.029600</td>\n",
              "      <td>0.028778</td>\n",
              "      <td>0.823272</td>\n",
              "      <td>0.860671</td>\n",
              "      <td>0.841556</td>\n",
              "      <td>0.990616</td>\n",
              "    </tr>\n",
              "    <tr>\n",
              "      <td>4</td>\n",
              "      <td>0.019600</td>\n",
              "      <td>0.030601</td>\n",
              "      <td>0.824715</td>\n",
              "      <td>0.860671</td>\n",
              "      <td>0.842309</td>\n",
              "      <td>0.991379</td>\n",
              "    </tr>\n",
              "    <tr>\n",
              "      <td>5</td>\n",
              "      <td>0.013600</td>\n",
              "      <td>0.032433</td>\n",
              "      <td>0.849534</td>\n",
              "      <td>0.860671</td>\n",
              "      <td>0.855066</td>\n",
              "      <td>0.991194</td>\n",
              "    </tr>\n",
              "    <tr>\n",
              "      <td>6</td>\n",
              "      <td>0.009900</td>\n",
              "      <td>0.035705</td>\n",
              "      <td>0.817537</td>\n",
              "      <td>0.878354</td>\n",
              "      <td>0.846855</td>\n",
              "      <td>0.991209</td>\n",
              "    </tr>\n",
              "    <tr>\n",
              "      <td>7</td>\n",
              "      <td>0.006400</td>\n",
              "      <td>0.033652</td>\n",
              "      <td>0.863826</td>\n",
              "      <td>0.883841</td>\n",
              "      <td>0.873719</td>\n",
              "      <td>0.992212</td>\n",
              "    </tr>\n",
              "    <tr>\n",
              "      <td>8</td>\n",
              "      <td>0.004700</td>\n",
              "      <td>0.037385</td>\n",
              "      <td>0.853262</td>\n",
              "      <td>0.881098</td>\n",
              "      <td>0.866957</td>\n",
              "      <td>0.991780</td>\n",
              "    </tr>\n",
              "    <tr>\n",
              "      <td>9</td>\n",
              "      <td>0.003200</td>\n",
              "      <td>0.040876</td>\n",
              "      <td>0.841439</td>\n",
              "      <td>0.891463</td>\n",
              "      <td>0.865729</td>\n",
              "      <td>0.991518</td>\n",
              "    </tr>\n",
              "    <tr>\n",
              "      <td>10</td>\n",
              "      <td>0.002300</td>\n",
              "      <td>0.040887</td>\n",
              "      <td>0.853552</td>\n",
              "      <td>0.890244</td>\n",
              "      <td>0.871512</td>\n",
              "      <td>0.992073</td>\n",
              "    </tr>\n",
              "  </tbody>\n",
              "</table><p>"
            ]
          },
          "metadata": {}
        },
        {
          "output_type": "display_data",
          "data": {
            "text/plain": [
              "<IPython.core.display.HTML object>"
            ],
            "text/html": []
          },
          "metadata": {}
        },
        {
          "output_type": "stream",
          "name": "stdout",
          "text": [
            "Fold : 6\n"
          ]
        },
        {
          "output_type": "stream",
          "name": "stderr",
          "text": [
            "Some weights of the model checkpoint at microsoft/deberta-v3-base were not used when initializing DebertaV2ForTokenClassification: ['mask_predictions.classifier.weight', 'mask_predictions.LayerNorm.bias', 'lm_predictions.lm_head.dense.weight', 'lm_predictions.lm_head.bias', 'deberta.embeddings.position_embeddings.weight', 'mask_predictions.LayerNorm.weight', 'lm_predictions.lm_head.LayerNorm.bias', 'lm_predictions.lm_head.dense.bias', 'lm_predictions.lm_head.LayerNorm.weight', 'mask_predictions.dense.bias', 'mask_predictions.classifier.bias', 'mask_predictions.dense.weight']\n",
            "- This IS expected if you are initializing DebertaV2ForTokenClassification from the checkpoint of a model trained on another task or with another architecture (e.g. initializing a BertForSequenceClassification model from a BertForPreTraining model).\n",
            "- This IS NOT expected if you are initializing DebertaV2ForTokenClassification from the checkpoint of a model that you expect to be exactly identical (initializing a BertForSequenceClassification model from a BertForSequenceClassification model).\n",
            "Some weights of DebertaV2ForTokenClassification were not initialized from the model checkpoint at microsoft/deberta-v3-base and are newly initialized: ['classifier.weight', 'classifier.bias']\n",
            "You should probably TRAIN this model on a down-stream task to be able to use it for predictions and inference.\n",
            "/usr/local/lib/python3.10/dist-packages/transformers/optimization.py:411: FutureWarning: This implementation of AdamW is deprecated and will be removed in a future version. Use the PyTorch implementation torch.optim.AdamW instead, or set `no_deprecation_warning=True` to disable this warning\n",
            "  warnings.warn(\n"
          ]
        },
        {
          "output_type": "display_data",
          "data": {
            "text/plain": [
              "<IPython.core.display.HTML object>"
            ],
            "text/html": [
              "\n",
              "    <div>\n",
              "      \n",
              "      <progress value='6190' max='6190' style='width:300px; height:20px; vertical-align: middle;'></progress>\n",
              "      [6190/6190 27:31, Epoch 10/10]\n",
              "    </div>\n",
              "    <table border=\"1\" class=\"dataframe\">\n",
              "  <thead>\n",
              " <tr style=\"text-align: left;\">\n",
              "      <th>Epoch</th>\n",
              "      <th>Training Loss</th>\n",
              "      <th>Validation Loss</th>\n",
              "      <th>Precision</th>\n",
              "      <th>Recall</th>\n",
              "      <th>F1</th>\n",
              "      <th>Accuracy</th>\n",
              "    </tr>\n",
              "  </thead>\n",
              "  <tbody>\n",
              "    <tr>\n",
              "      <td>1</td>\n",
              "      <td>No log</td>\n",
              "      <td>0.033059</td>\n",
              "      <td>0.764230</td>\n",
              "      <td>0.791499</td>\n",
              "      <td>0.777625</td>\n",
              "      <td>0.988071</td>\n",
              "    </tr>\n",
              "    <tr>\n",
              "      <td>2</td>\n",
              "      <td>0.081900</td>\n",
              "      <td>0.026244</td>\n",
              "      <td>0.786484</td>\n",
              "      <td>0.837729</td>\n",
              "      <td>0.811298</td>\n",
              "      <td>0.990747</td>\n",
              "    </tr>\n",
              "    <tr>\n",
              "      <td>3</td>\n",
              "      <td>0.028100</td>\n",
              "      <td>0.029503</td>\n",
              "      <td>0.780188</td>\n",
              "      <td>0.847968</td>\n",
              "      <td>0.812667</td>\n",
              "      <td>0.989721</td>\n",
              "    </tr>\n",
              "    <tr>\n",
              "      <td>4</td>\n",
              "      <td>0.019400</td>\n",
              "      <td>0.031004</td>\n",
              "      <td>0.827248</td>\n",
              "      <td>0.864722</td>\n",
              "      <td>0.845570</td>\n",
              "      <td>0.991302</td>\n",
              "    </tr>\n",
              "    <tr>\n",
              "      <td>5</td>\n",
              "      <td>0.013600</td>\n",
              "      <td>0.030968</td>\n",
              "      <td>0.825771</td>\n",
              "      <td>0.880856</td>\n",
              "      <td>0.852425</td>\n",
              "      <td>0.992019</td>\n",
              "    </tr>\n",
              "    <tr>\n",
              "      <td>6</td>\n",
              "      <td>0.008600</td>\n",
              "      <td>0.033689</td>\n",
              "      <td>0.851976</td>\n",
              "      <td>0.869687</td>\n",
              "      <td>0.860740</td>\n",
              "      <td>0.992096</td>\n",
              "    </tr>\n",
              "    <tr>\n",
              "      <td>7</td>\n",
              "      <td>0.006400</td>\n",
              "      <td>0.032748</td>\n",
              "      <td>0.841610</td>\n",
              "      <td>0.888613</td>\n",
              "      <td>0.864473</td>\n",
              "      <td>0.991950</td>\n",
              "    </tr>\n",
              "    <tr>\n",
              "      <td>8</td>\n",
              "      <td>0.004500</td>\n",
              "      <td>0.035918</td>\n",
              "      <td>0.832215</td>\n",
              "      <td>0.884890</td>\n",
              "      <td>0.857744</td>\n",
              "      <td>0.992374</td>\n",
              "    </tr>\n",
              "    <tr>\n",
              "      <td>9</td>\n",
              "      <td>0.002900</td>\n",
              "      <td>0.036640</td>\n",
              "      <td>0.843907</td>\n",
              "      <td>0.887372</td>\n",
              "      <td>0.865094</td>\n",
              "      <td>0.992713</td>\n",
              "    </tr>\n",
              "    <tr>\n",
              "      <td>10</td>\n",
              "      <td>0.002200</td>\n",
              "      <td>0.037533</td>\n",
              "      <td>0.846381</td>\n",
              "      <td>0.888923</td>\n",
              "      <td>0.867131</td>\n",
              "      <td>0.992775</td>\n",
              "    </tr>\n",
              "  </tbody>\n",
              "</table><p>"
            ]
          },
          "metadata": {}
        },
        {
          "output_type": "display_data",
          "data": {
            "text/plain": [
              "<IPython.core.display.HTML object>"
            ],
            "text/html": []
          },
          "metadata": {}
        },
        {
          "output_type": "stream",
          "name": "stdout",
          "text": [
            "Fold : 7\n"
          ]
        },
        {
          "output_type": "stream",
          "name": "stderr",
          "text": [
            "Some weights of the model checkpoint at microsoft/deberta-v3-base were not used when initializing DebertaV2ForTokenClassification: ['mask_predictions.classifier.weight', 'mask_predictions.LayerNorm.bias', 'lm_predictions.lm_head.dense.weight', 'lm_predictions.lm_head.bias', 'deberta.embeddings.position_embeddings.weight', 'mask_predictions.LayerNorm.weight', 'lm_predictions.lm_head.LayerNorm.bias', 'lm_predictions.lm_head.dense.bias', 'lm_predictions.lm_head.LayerNorm.weight', 'mask_predictions.dense.bias', 'mask_predictions.classifier.bias', 'mask_predictions.dense.weight']\n",
            "- This IS expected if you are initializing DebertaV2ForTokenClassification from the checkpoint of a model trained on another task or with another architecture (e.g. initializing a BertForSequenceClassification model from a BertForPreTraining model).\n",
            "- This IS NOT expected if you are initializing DebertaV2ForTokenClassification from the checkpoint of a model that you expect to be exactly identical (initializing a BertForSequenceClassification model from a BertForSequenceClassification model).\n",
            "Some weights of DebertaV2ForTokenClassification were not initialized from the model checkpoint at microsoft/deberta-v3-base and are newly initialized: ['classifier.weight', 'classifier.bias']\n",
            "You should probably TRAIN this model on a down-stream task to be able to use it for predictions and inference.\n",
            "/usr/local/lib/python3.10/dist-packages/transformers/optimization.py:411: FutureWarning: This implementation of AdamW is deprecated and will be removed in a future version. Use the PyTorch implementation torch.optim.AdamW instead, or set `no_deprecation_warning=True` to disable this warning\n",
            "  warnings.warn(\n"
          ]
        },
        {
          "output_type": "display_data",
          "data": {
            "text/plain": [
              "<IPython.core.display.HTML object>"
            ],
            "text/html": [
              "\n",
              "    <div>\n",
              "      \n",
              "      <progress value='6190' max='6190' style='width:300px; height:20px; vertical-align: middle;'></progress>\n",
              "      [6190/6190 27:25, Epoch 10/10]\n",
              "    </div>\n",
              "    <table border=\"1\" class=\"dataframe\">\n",
              "  <thead>\n",
              " <tr style=\"text-align: left;\">\n",
              "      <th>Epoch</th>\n",
              "      <th>Training Loss</th>\n",
              "      <th>Validation Loss</th>\n",
              "      <th>Precision</th>\n",
              "      <th>Recall</th>\n",
              "      <th>F1</th>\n",
              "      <th>Accuracy</th>\n",
              "    </tr>\n",
              "  </thead>\n",
              "  <tbody>\n",
              "    <tr>\n",
              "      <td>1</td>\n",
              "      <td>No log</td>\n",
              "      <td>0.047385</td>\n",
              "      <td>0.648025</td>\n",
              "      <td>0.791850</td>\n",
              "      <td>0.712754</td>\n",
              "      <td>0.983868</td>\n",
              "    </tr>\n",
              "    <tr>\n",
              "      <td>2</td>\n",
              "      <td>0.080800</td>\n",
              "      <td>0.030791</td>\n",
              "      <td>0.810974</td>\n",
              "      <td>0.843260</td>\n",
              "      <td>0.826802</td>\n",
              "      <td>0.990454</td>\n",
              "    </tr>\n",
              "    <tr>\n",
              "      <td>3</td>\n",
              "      <td>0.027100</td>\n",
              "      <td>0.033596</td>\n",
              "      <td>0.785450</td>\n",
              "      <td>0.866458</td>\n",
              "      <td>0.823968</td>\n",
              "      <td>0.989667</td>\n",
              "    </tr>\n",
              "    <tr>\n",
              "      <td>4</td>\n",
              "      <td>0.019000</td>\n",
              "      <td>0.032669</td>\n",
              "      <td>0.791773</td>\n",
              "      <td>0.874922</td>\n",
              "      <td>0.831273</td>\n",
              "      <td>0.990353</td>\n",
              "    </tr>\n",
              "    <tr>\n",
              "      <td>5</td>\n",
              "      <td>0.012900</td>\n",
              "      <td>0.036302</td>\n",
              "      <td>0.783784</td>\n",
              "      <td>0.872727</td>\n",
              "      <td>0.825868</td>\n",
              "      <td>0.989906</td>\n",
              "    </tr>\n",
              "    <tr>\n",
              "      <td>6</td>\n",
              "      <td>0.008900</td>\n",
              "      <td>0.039389</td>\n",
              "      <td>0.782804</td>\n",
              "      <td>0.873354</td>\n",
              "      <td>0.825604</td>\n",
              "      <td>0.990338</td>\n",
              "    </tr>\n",
              "    <tr>\n",
              "      <td>7</td>\n",
              "      <td>0.006600</td>\n",
              "      <td>0.036900</td>\n",
              "      <td>0.816458</td>\n",
              "      <td>0.877116</td>\n",
              "      <td>0.845700</td>\n",
              "      <td>0.991464</td>\n",
              "    </tr>\n",
              "    <tr>\n",
              "      <td>8</td>\n",
              "      <td>0.004200</td>\n",
              "      <td>0.040091</td>\n",
              "      <td>0.824237</td>\n",
              "      <td>0.880564</td>\n",
              "      <td>0.851470</td>\n",
              "      <td>0.991649</td>\n",
              "    </tr>\n",
              "    <tr>\n",
              "      <td>9</td>\n",
              "      <td>0.002700</td>\n",
              "      <td>0.042120</td>\n",
              "      <td>0.830133</td>\n",
              "      <td>0.880878</td>\n",
              "      <td>0.854753</td>\n",
              "      <td>0.991772</td>\n",
              "    </tr>\n",
              "    <tr>\n",
              "      <td>10</td>\n",
              "      <td>0.002000</td>\n",
              "      <td>0.042184</td>\n",
              "      <td>0.831461</td>\n",
              "      <td>0.881505</td>\n",
              "      <td>0.855752</td>\n",
              "      <td>0.991965</td>\n",
              "    </tr>\n",
              "  </tbody>\n",
              "</table><p>"
            ]
          },
          "metadata": {}
        },
        {
          "output_type": "display_data",
          "data": {
            "text/plain": [
              "<IPython.core.display.HTML object>"
            ],
            "text/html": []
          },
          "metadata": {}
        },
        {
          "output_type": "stream",
          "name": "stdout",
          "text": [
            "Fold : 8\n"
          ]
        },
        {
          "output_type": "stream",
          "name": "stderr",
          "text": [
            "Some weights of the model checkpoint at microsoft/deberta-v3-base were not used when initializing DebertaV2ForTokenClassification: ['mask_predictions.classifier.weight', 'mask_predictions.LayerNorm.bias', 'lm_predictions.lm_head.dense.weight', 'lm_predictions.lm_head.bias', 'deberta.embeddings.position_embeddings.weight', 'mask_predictions.LayerNorm.weight', 'lm_predictions.lm_head.LayerNorm.bias', 'lm_predictions.lm_head.dense.bias', 'lm_predictions.lm_head.LayerNorm.weight', 'mask_predictions.dense.bias', 'mask_predictions.classifier.bias', 'mask_predictions.dense.weight']\n",
            "- This IS expected if you are initializing DebertaV2ForTokenClassification from the checkpoint of a model trained on another task or with another architecture (e.g. initializing a BertForSequenceClassification model from a BertForPreTraining model).\n",
            "- This IS NOT expected if you are initializing DebertaV2ForTokenClassification from the checkpoint of a model that you expect to be exactly identical (initializing a BertForSequenceClassification model from a BertForSequenceClassification model).\n",
            "Some weights of DebertaV2ForTokenClassification were not initialized from the model checkpoint at microsoft/deberta-v3-base and are newly initialized: ['classifier.weight', 'classifier.bias']\n",
            "You should probably TRAIN this model on a down-stream task to be able to use it for predictions and inference.\n",
            "/usr/local/lib/python3.10/dist-packages/transformers/optimization.py:411: FutureWarning: This implementation of AdamW is deprecated and will be removed in a future version. Use the PyTorch implementation torch.optim.AdamW instead, or set `no_deprecation_warning=True` to disable this warning\n",
            "  warnings.warn(\n"
          ]
        },
        {
          "output_type": "display_data",
          "data": {
            "text/plain": [
              "<IPython.core.display.HTML object>"
            ],
            "text/html": [
              "\n",
              "    <div>\n",
              "      \n",
              "      <progress value='6190' max='6190' style='width:300px; height:20px; vertical-align: middle;'></progress>\n",
              "      [6190/6190 27:19, Epoch 10/10]\n",
              "    </div>\n",
              "    <table border=\"1\" class=\"dataframe\">\n",
              "  <thead>\n",
              " <tr style=\"text-align: left;\">\n",
              "      <th>Epoch</th>\n",
              "      <th>Training Loss</th>\n",
              "      <th>Validation Loss</th>\n",
              "      <th>Precision</th>\n",
              "      <th>Recall</th>\n",
              "      <th>F1</th>\n",
              "      <th>Accuracy</th>\n",
              "    </tr>\n",
              "  </thead>\n",
              "  <tbody>\n",
              "    <tr>\n",
              "      <td>1</td>\n",
              "      <td>No log</td>\n",
              "      <td>0.046851</td>\n",
              "      <td>0.650409</td>\n",
              "      <td>0.786354</td>\n",
              "      <td>0.711950</td>\n",
              "      <td>0.982573</td>\n",
              "    </tr>\n",
              "    <tr>\n",
              "      <td>2</td>\n",
              "      <td>0.082300</td>\n",
              "      <td>0.036436</td>\n",
              "      <td>0.750983</td>\n",
              "      <td>0.825872</td>\n",
              "      <td>0.786649</td>\n",
              "      <td>0.987732</td>\n",
              "    </tr>\n",
              "    <tr>\n",
              "      <td>3</td>\n",
              "      <td>0.027900</td>\n",
              "      <td>0.034099</td>\n",
              "      <td>0.775416</td>\n",
              "      <td>0.833591</td>\n",
              "      <td>0.803452</td>\n",
              "      <td>0.988433</td>\n",
              "    </tr>\n",
              "    <tr>\n",
              "      <td>4</td>\n",
              "      <td>0.018900</td>\n",
              "      <td>0.037496</td>\n",
              "      <td>0.787955</td>\n",
              "      <td>0.868478</td>\n",
              "      <td>0.826259</td>\n",
              "      <td>0.989150</td>\n",
              "    </tr>\n",
              "    <tr>\n",
              "      <td>5</td>\n",
              "      <td>0.013300</td>\n",
              "      <td>0.041497</td>\n",
              "      <td>0.812408</td>\n",
              "      <td>0.849027</td>\n",
              "      <td>0.830314</td>\n",
              "      <td>0.990014</td>\n",
              "    </tr>\n",
              "    <tr>\n",
              "      <td>6</td>\n",
              "      <td>0.009100</td>\n",
              "      <td>0.044609</td>\n",
              "      <td>0.807648</td>\n",
              "      <td>0.860759</td>\n",
              "      <td>0.833358</td>\n",
              "      <td>0.990091</td>\n",
              "    </tr>\n",
              "    <tr>\n",
              "      <td>7</td>\n",
              "      <td>0.006000</td>\n",
              "      <td>0.048793</td>\n",
              "      <td>0.823249</td>\n",
              "      <td>0.852732</td>\n",
              "      <td>0.837731</td>\n",
              "      <td>0.989844</td>\n",
              "    </tr>\n",
              "    <tr>\n",
              "      <td>8</td>\n",
              "      <td>0.004100</td>\n",
              "      <td>0.048096</td>\n",
              "      <td>0.825339</td>\n",
              "      <td>0.844705</td>\n",
              "      <td>0.834910</td>\n",
              "      <td>0.990685</td>\n",
              "    </tr>\n",
              "    <tr>\n",
              "      <td>9</td>\n",
              "      <td>0.002700</td>\n",
              "      <td>0.049389</td>\n",
              "      <td>0.832050</td>\n",
              "      <td>0.867243</td>\n",
              "      <td>0.849282</td>\n",
              "      <td>0.990924</td>\n",
              "    </tr>\n",
              "    <tr>\n",
              "      <td>10</td>\n",
              "      <td>0.001800</td>\n",
              "      <td>0.050870</td>\n",
              "      <td>0.825360</td>\n",
              "      <td>0.868169</td>\n",
              "      <td>0.846223</td>\n",
              "      <td>0.991055</td>\n",
              "    </tr>\n",
              "  </tbody>\n",
              "</table><p>"
            ]
          },
          "metadata": {}
        },
        {
          "output_type": "display_data",
          "data": {
            "text/plain": [
              "<IPython.core.display.HTML object>"
            ],
            "text/html": []
          },
          "metadata": {}
        },
        {
          "output_type": "stream",
          "name": "stdout",
          "text": [
            "Fold : 9\n"
          ]
        },
        {
          "output_type": "stream",
          "name": "stderr",
          "text": [
            "Some weights of the model checkpoint at microsoft/deberta-v3-base were not used when initializing DebertaV2ForTokenClassification: ['mask_predictions.classifier.weight', 'mask_predictions.LayerNorm.bias', 'lm_predictions.lm_head.dense.weight', 'lm_predictions.lm_head.bias', 'deberta.embeddings.position_embeddings.weight', 'mask_predictions.LayerNorm.weight', 'lm_predictions.lm_head.LayerNorm.bias', 'lm_predictions.lm_head.dense.bias', 'lm_predictions.lm_head.LayerNorm.weight', 'mask_predictions.dense.bias', 'mask_predictions.classifier.bias', 'mask_predictions.dense.weight']\n",
            "- This IS expected if you are initializing DebertaV2ForTokenClassification from the checkpoint of a model trained on another task or with another architecture (e.g. initializing a BertForSequenceClassification model from a BertForPreTraining model).\n",
            "- This IS NOT expected if you are initializing DebertaV2ForTokenClassification from the checkpoint of a model that you expect to be exactly identical (initializing a BertForSequenceClassification model from a BertForSequenceClassification model).\n",
            "Some weights of DebertaV2ForTokenClassification were not initialized from the model checkpoint at microsoft/deberta-v3-base and are newly initialized: ['classifier.weight', 'classifier.bias']\n",
            "You should probably TRAIN this model on a down-stream task to be able to use it for predictions and inference.\n",
            "/usr/local/lib/python3.10/dist-packages/transformers/optimization.py:411: FutureWarning: This implementation of AdamW is deprecated and will be removed in a future version. Use the PyTorch implementation torch.optim.AdamW instead, or set `no_deprecation_warning=True` to disable this warning\n",
            "  warnings.warn(\n"
          ]
        },
        {
          "output_type": "display_data",
          "data": {
            "text/plain": [
              "<IPython.core.display.HTML object>"
            ],
            "text/html": [
              "\n",
              "    <div>\n",
              "      \n",
              "      <progress value='6190' max='6190' style='width:300px; height:20px; vertical-align: middle;'></progress>\n",
              "      [6190/6190 27:40, Epoch 10/10]\n",
              "    </div>\n",
              "    <table border=\"1\" class=\"dataframe\">\n",
              "  <thead>\n",
              " <tr style=\"text-align: left;\">\n",
              "      <th>Epoch</th>\n",
              "      <th>Training Loss</th>\n",
              "      <th>Validation Loss</th>\n",
              "      <th>Precision</th>\n",
              "      <th>Recall</th>\n",
              "      <th>F1</th>\n",
              "      <th>Accuracy</th>\n",
              "    </tr>\n",
              "  </thead>\n",
              "  <tbody>\n",
              "    <tr>\n",
              "      <td>1</td>\n",
              "      <td>No log</td>\n",
              "      <td>0.036730</td>\n",
              "      <td>0.695010</td>\n",
              "      <td>0.803157</td>\n",
              "      <td>0.745180</td>\n",
              "      <td>0.986367</td>\n",
              "    </tr>\n",
              "    <tr>\n",
              "      <td>2</td>\n",
              "      <td>0.081600</td>\n",
              "      <td>0.031859</td>\n",
              "      <td>0.768670</td>\n",
              "      <td>0.815722</td>\n",
              "      <td>0.791497</td>\n",
              "      <td>0.989521</td>\n",
              "    </tr>\n",
              "    <tr>\n",
              "      <td>3</td>\n",
              "      <td>0.028100</td>\n",
              "      <td>0.031214</td>\n",
              "      <td>0.777268</td>\n",
              "      <td>0.872423</td>\n",
              "      <td>0.822101</td>\n",
              "      <td>0.989883</td>\n",
              "    </tr>\n",
              "    <tr>\n",
              "      <td>4</td>\n",
              "      <td>0.019500</td>\n",
              "      <td>0.030135</td>\n",
              "      <td>0.795322</td>\n",
              "      <td>0.876289</td>\n",
              "      <td>0.833844</td>\n",
              "      <td>0.990731</td>\n",
              "    </tr>\n",
              "    <tr>\n",
              "      <td>5</td>\n",
              "      <td>0.012700</td>\n",
              "      <td>0.028664</td>\n",
              "      <td>0.831641</td>\n",
              "      <td>0.870490</td>\n",
              "      <td>0.850622</td>\n",
              "      <td>0.992297</td>\n",
              "    </tr>\n",
              "    <tr>\n",
              "      <td>6</td>\n",
              "      <td>0.009300</td>\n",
              "      <td>0.033364</td>\n",
              "      <td>0.825023</td>\n",
              "      <td>0.868879</td>\n",
              "      <td>0.846383</td>\n",
              "      <td>0.991657</td>\n",
              "    </tr>\n",
              "    <tr>\n",
              "      <td>7</td>\n",
              "      <td>0.006500</td>\n",
              "      <td>0.033574</td>\n",
              "      <td>0.838530</td>\n",
              "      <td>0.875000</td>\n",
              "      <td>0.856377</td>\n",
              "      <td>0.992219</td>\n",
              "    </tr>\n",
              "    <tr>\n",
              "      <td>8</td>\n",
              "      <td>0.004500</td>\n",
              "      <td>0.040058</td>\n",
              "      <td>0.833032</td>\n",
              "      <td>0.890464</td>\n",
              "      <td>0.860791</td>\n",
              "      <td>0.991834</td>\n",
              "    </tr>\n",
              "    <tr>\n",
              "      <td>9</td>\n",
              "      <td>0.002900</td>\n",
              "      <td>0.039068</td>\n",
              "      <td>0.852602</td>\n",
              "      <td>0.881443</td>\n",
              "      <td>0.866783</td>\n",
              "      <td>0.992443</td>\n",
              "    </tr>\n",
              "    <tr>\n",
              "      <td>10</td>\n",
              "      <td>0.002100</td>\n",
              "      <td>0.041294</td>\n",
              "      <td>0.848457</td>\n",
              "      <td>0.885631</td>\n",
              "      <td>0.866646</td>\n",
              "      <td>0.992304</td>\n",
              "    </tr>\n",
              "  </tbody>\n",
              "</table><p>"
            ]
          },
          "metadata": {}
        },
        {
          "output_type": "display_data",
          "data": {
            "text/plain": [
              "<IPython.core.display.HTML object>"
            ],
            "text/html": []
          },
          "metadata": {}
        }
      ]
    },
    {
      "cell_type": "markdown",
      "source": [
        "### Ensembling"
      ],
      "metadata": {
        "id": "aX8brmFlodWJ"
      },
      "id": "aX8brmFlodWJ"
    },
    {
      "cell_type": "code",
      "source": [
        "num_folds = 10\n",
        "model_logits = []\n",
        "\n",
        "# Load the model logits for each fold\n",
        "for fold in range(num_folds):\n",
        "    fname = MODEL_PATH + \"/fold_{}\".format(fold)\n",
        "    fold_logits = np.load(fname + \".npy\")\n",
        "    model_logits.append(fold_logits)\n",
        "\n",
        "\n",
        "softmaxed_pred = [softmax(f, axis = -1) for f in model_logits] # confidence for each prediction\n",
        "avg_pred = sum(softmaxed_pred)/len(softmaxed_pred) # mean confidence\n",
        "test_predictions = np.argmax(avg_pred, -1)"
      ],
      "metadata": {
        "id": "hExRMCoCyn3Y"
      },
      "id": "hExRMCoCyn3Y",
      "execution_count": 36,
      "outputs": []
    },
    {
      "cell_type": "code",
      "source": [
        "len(model_logits), fold_logits.shape, len(softmaxed_pred), len(softmaxed_pred[0]), test_predictions.shape, labels.shape"
      ],
      "metadata": {
        "colab": {
          "base_uri": "https://localhost:8080/"
        },
        "id": "kBw9sTV0qy2o",
        "outputId": "440e531e-6286-4f88-be27-ea433bb98033"
      },
      "id": "kBw9sTV0qy2o",
      "execution_count": 37,
      "outputs": [
        {
          "output_type": "execute_result",
          "data": {
            "text/plain": [
              "(10, (1074, 120, 15), 10, 1074, (1074, 120), (1074, 120))"
            ]
          },
          "metadata": {},
          "execution_count": 37
        }
      ]
    },
    {
      "cell_type": "code",
      "source": [
        "# Remove ignored index (special tokens)\n",
        "true_predictions = [\n",
        "    [label_encoder.inverse_transform([p])[0] for (p, l) in zip(prediction, label) if l != -100]\n",
        "    for prediction, label in zip(test_predictions, labels)\n",
        "]\n",
        "\n",
        "true_labels = [\n",
        "    [label_encoder.inverse_transform([l])[0] for (p, l) in zip(prediction, label) if l != -100]\n",
        "    for prediction, label in zip(test_predictions, labels)\n",
        "]"
      ],
      "metadata": {
        "id": "9YbDbUUB7AuR"
      },
      "id": "9YbDbUUB7AuR",
      "execution_count": 38,
      "outputs": []
    },
    {
      "cell_type": "code",
      "source": [
        "results = metric.compute(predictions=true_predictions, references=true_labels)\n",
        "\n",
        "results_dict = {\n",
        "    \"Label\": [],\n",
        "    \"Precision\": [],\n",
        "    \"Recall\": [],\n",
        "    \"F1-score\": [],\n",
        "    \"Number\": []\n",
        "}\n",
        "\n",
        "for label, metrics in results.items():\n",
        "    if label != \"overall_precision\" and label != \"overall_recall\" and label != \"overall_f1\" and label != \"overall_accuracy\":\n",
        "        results_dict[\"Label\"].append(label)\n",
        "        results_dict[\"Precision\"].append(metrics[\"precision\"])\n",
        "        results_dict[\"Recall\"].append(metrics[\"recall\"])\n",
        "        results_dict[\"F1-score\"].append(metrics[\"f1\"])\n",
        "        results_dict[\"Number\"].append(metrics[\"number\"])\n",
        "\n",
        "results_df = pd.DataFrame(results_dict)\n",
        "print(results_df)\n",
        "\n",
        "print(f\"\\nOverall Precision :{results['overall_precision']}\\nOverall Recall: {results['overall_recall']}\\nOverall F1 : {results['overall_f1']}\\nOverall Accuracy: {results['overall_accuracy']}\\n\")"
      ],
      "metadata": {
        "colab": {
          "base_uri": "https://localhost:8080/"
        },
        "id": "5MVp1bEHqnn4",
        "outputId": "bc12437c-4541-4cbd-f5ab-9ca4700a6913"
      },
      "id": "5MVp1bEHqnn4",
      "execution_count": 39,
      "outputs": [
        {
          "output_type": "stream",
          "name": "stdout",
          "text": [
            "         Label  Precision    Recall  F1-score  Number\n",
            "0   ASE_NUMBER   0.731707  0.857143  0.789474      70\n",
            "1          ATE   0.923729  0.947826  0.935622     115\n",
            "2    ESPONDENT   0.571429  0.571429  0.571429       7\n",
            "3    ETITIONER   0.600000  0.750000  0.666667      16\n",
            "4       ITNESS   0.866667  0.951220  0.906977      41\n",
            "5         OURT   0.906736  0.930851  0.918635     188\n",
            "6        O_TAG   0.869817  0.893954  0.881720    2018\n",
            "7           PE   0.632653  0.688889  0.659574      45\n",
            "8     RECEDENT   0.652632  0.849315  0.738095      73\n",
            "9     ROVISION   0.919708  0.906475  0.913043     139\n",
            "10      TATUTE   0.894444  0.993827  0.941520     162\n",
            "11        UDGE   0.607143  0.894737  0.723404      19\n",
            "\n",
            "Overall Precision :0.8586525759577279\n",
            "Overall Recall: 0.8987210508123056\n",
            "Overall F1 : 0.8782300287113664\n",
            "Overall Accuracy: 0.9925985544298204\n",
            "\n"
          ]
        }
      ]
    },
    {
      "cell_type": "code",
      "source": [],
      "metadata": {
        "id": "CKKVLED0rXJZ"
      },
      "id": "CKKVLED0rXJZ",
      "execution_count": null,
      "outputs": []
    }
  ],
  "metadata": {
    "kernelspec": {
      "display_name": "Python 3",
      "name": "python3"
    },
    "language_info": {
      "codemirror_mode": {
        "name": "ipython",
        "version": 3
      },
      "file_extension": ".py",
      "mimetype": "text/x-python",
      "name": "python",
      "nbconvert_exporter": "python",
      "pygments_lexer": "ipython3",
      "version": "3.9.5"
    },
    "colab": {
      "provenance": [],
      "gpuType": "T4",
      "collapsed_sections": [
        "90638300",
        "bccead0b",
        "6e5603c6",
        "D911TlIev-7c",
        "a6c784f1",
        "0557d527",
        "2f9dd3fc",
        "775755f3",
        "ebe8cd8a"
      ]
    },
    "accelerator": "GPU",
    "widgets": {
      "application/vnd.jupyter.widget-state+json": {
        "407e4b3b864f4c9f8f87c4e20f5b29e5": {
          "model_module": "@jupyter-widgets/controls",
          "model_name": "HBoxModel",
          "model_module_version": "1.5.0",
          "state": {
            "_dom_classes": [],
            "_model_module": "@jupyter-widgets/controls",
            "_model_module_version": "1.5.0",
            "_model_name": "HBoxModel",
            "_view_count": null,
            "_view_module": "@jupyter-widgets/controls",
            "_view_module_version": "1.5.0",
            "_view_name": "HBoxView",
            "box_style": "",
            "children": [
              "IPY_MODEL_4ad5ae1485c44f30a0038548c5e8aaea",
              "IPY_MODEL_c1b1abc91342463ca43a2950efa11e12",
              "IPY_MODEL_507d3ea2d6ea4cab9228c0811b0ef49f"
            ],
            "layout": "IPY_MODEL_e6a7cd15cfa24a57ac8e305caf10d330"
          }
        },
        "4ad5ae1485c44f30a0038548c5e8aaea": {
          "model_module": "@jupyter-widgets/controls",
          "model_name": "HTMLModel",
          "model_module_version": "1.5.0",
          "state": {
            "_dom_classes": [],
            "_model_module": "@jupyter-widgets/controls",
            "_model_module_version": "1.5.0",
            "_model_name": "HTMLModel",
            "_view_count": null,
            "_view_module": "@jupyter-widgets/controls",
            "_view_module_version": "1.5.0",
            "_view_name": "HTMLView",
            "description": "",
            "description_tooltip": null,
            "layout": "IPY_MODEL_b82800a426404d3da631c89282a4e0b7",
            "placeholder": "​",
            "style": "IPY_MODEL_f277abeea882450f96c565b1944fc0ee",
            "value": "Saving the dataset (1/1 shards): 100%"
          }
        },
        "c1b1abc91342463ca43a2950efa11e12": {
          "model_module": "@jupyter-widgets/controls",
          "model_name": "FloatProgressModel",
          "model_module_version": "1.5.0",
          "state": {
            "_dom_classes": [],
            "_model_module": "@jupyter-widgets/controls",
            "_model_module_version": "1.5.0",
            "_model_name": "FloatProgressModel",
            "_view_count": null,
            "_view_module": "@jupyter-widgets/controls",
            "_view_module_version": "1.5.0",
            "_view_name": "ProgressView",
            "bar_style": "",
            "description": "",
            "description_tooltip": null,
            "layout": "IPY_MODEL_180398ccaa334eb5995beef5361a495c",
            "max": 10995,
            "min": 0,
            "orientation": "horizontal",
            "style": "IPY_MODEL_7074e57b446c4d8fa4a5f28198387612",
            "value": 10995
          }
        },
        "507d3ea2d6ea4cab9228c0811b0ef49f": {
          "model_module": "@jupyter-widgets/controls",
          "model_name": "HTMLModel",
          "model_module_version": "1.5.0",
          "state": {
            "_dom_classes": [],
            "_model_module": "@jupyter-widgets/controls",
            "_model_module_version": "1.5.0",
            "_model_name": "HTMLModel",
            "_view_count": null,
            "_view_module": "@jupyter-widgets/controls",
            "_view_module_version": "1.5.0",
            "_view_name": "HTMLView",
            "description": "",
            "description_tooltip": null,
            "layout": "IPY_MODEL_26747a46f6114a23a0a576028e693dd3",
            "placeholder": "​",
            "style": "IPY_MODEL_a20da542ce4c4f138937f4ca0251e149",
            "value": " 10995/10995 [00:00&lt;00:00, 47856.80 examples/s]"
          }
        },
        "e6a7cd15cfa24a57ac8e305caf10d330": {
          "model_module": "@jupyter-widgets/base",
          "model_name": "LayoutModel",
          "model_module_version": "1.2.0",
          "state": {
            "_model_module": "@jupyter-widgets/base",
            "_model_module_version": "1.2.0",
            "_model_name": "LayoutModel",
            "_view_count": null,
            "_view_module": "@jupyter-widgets/base",
            "_view_module_version": "1.2.0",
            "_view_name": "LayoutView",
            "align_content": null,
            "align_items": null,
            "align_self": null,
            "border": null,
            "bottom": null,
            "display": null,
            "flex": null,
            "flex_flow": null,
            "grid_area": null,
            "grid_auto_columns": null,
            "grid_auto_flow": null,
            "grid_auto_rows": null,
            "grid_column": null,
            "grid_gap": null,
            "grid_row": null,
            "grid_template_areas": null,
            "grid_template_columns": null,
            "grid_template_rows": null,
            "height": null,
            "justify_content": null,
            "justify_items": null,
            "left": null,
            "margin": null,
            "max_height": null,
            "max_width": null,
            "min_height": null,
            "min_width": null,
            "object_fit": null,
            "object_position": null,
            "order": null,
            "overflow": null,
            "overflow_x": null,
            "overflow_y": null,
            "padding": null,
            "right": null,
            "top": null,
            "visibility": "hidden",
            "width": null
          }
        },
        "b82800a426404d3da631c89282a4e0b7": {
          "model_module": "@jupyter-widgets/base",
          "model_name": "LayoutModel",
          "model_module_version": "1.2.0",
          "state": {
            "_model_module": "@jupyter-widgets/base",
            "_model_module_version": "1.2.0",
            "_model_name": "LayoutModel",
            "_view_count": null,
            "_view_module": "@jupyter-widgets/base",
            "_view_module_version": "1.2.0",
            "_view_name": "LayoutView",
            "align_content": null,
            "align_items": null,
            "align_self": null,
            "border": null,
            "bottom": null,
            "display": null,
            "flex": null,
            "flex_flow": null,
            "grid_area": null,
            "grid_auto_columns": null,
            "grid_auto_flow": null,
            "grid_auto_rows": null,
            "grid_column": null,
            "grid_gap": null,
            "grid_row": null,
            "grid_template_areas": null,
            "grid_template_columns": null,
            "grid_template_rows": null,
            "height": null,
            "justify_content": null,
            "justify_items": null,
            "left": null,
            "margin": null,
            "max_height": null,
            "max_width": null,
            "min_height": null,
            "min_width": null,
            "object_fit": null,
            "object_position": null,
            "order": null,
            "overflow": null,
            "overflow_x": null,
            "overflow_y": null,
            "padding": null,
            "right": null,
            "top": null,
            "visibility": null,
            "width": null
          }
        },
        "f277abeea882450f96c565b1944fc0ee": {
          "model_module": "@jupyter-widgets/controls",
          "model_name": "DescriptionStyleModel",
          "model_module_version": "1.5.0",
          "state": {
            "_model_module": "@jupyter-widgets/controls",
            "_model_module_version": "1.5.0",
            "_model_name": "DescriptionStyleModel",
            "_view_count": null,
            "_view_module": "@jupyter-widgets/base",
            "_view_module_version": "1.2.0",
            "_view_name": "StyleView",
            "description_width": ""
          }
        },
        "180398ccaa334eb5995beef5361a495c": {
          "model_module": "@jupyter-widgets/base",
          "model_name": "LayoutModel",
          "model_module_version": "1.2.0",
          "state": {
            "_model_module": "@jupyter-widgets/base",
            "_model_module_version": "1.2.0",
            "_model_name": "LayoutModel",
            "_view_count": null,
            "_view_module": "@jupyter-widgets/base",
            "_view_module_version": "1.2.0",
            "_view_name": "LayoutView",
            "align_content": null,
            "align_items": null,
            "align_self": null,
            "border": null,
            "bottom": null,
            "display": null,
            "flex": null,
            "flex_flow": null,
            "grid_area": null,
            "grid_auto_columns": null,
            "grid_auto_flow": null,
            "grid_auto_rows": null,
            "grid_column": null,
            "grid_gap": null,
            "grid_row": null,
            "grid_template_areas": null,
            "grid_template_columns": null,
            "grid_template_rows": null,
            "height": null,
            "justify_content": null,
            "justify_items": null,
            "left": null,
            "margin": null,
            "max_height": null,
            "max_width": null,
            "min_height": null,
            "min_width": null,
            "object_fit": null,
            "object_position": null,
            "order": null,
            "overflow": null,
            "overflow_x": null,
            "overflow_y": null,
            "padding": null,
            "right": null,
            "top": null,
            "visibility": null,
            "width": null
          }
        },
        "7074e57b446c4d8fa4a5f28198387612": {
          "model_module": "@jupyter-widgets/controls",
          "model_name": "ProgressStyleModel",
          "model_module_version": "1.5.0",
          "state": {
            "_model_module": "@jupyter-widgets/controls",
            "_model_module_version": "1.5.0",
            "_model_name": "ProgressStyleModel",
            "_view_count": null,
            "_view_module": "@jupyter-widgets/base",
            "_view_module_version": "1.2.0",
            "_view_name": "StyleView",
            "bar_color": null,
            "description_width": ""
          }
        },
        "26747a46f6114a23a0a576028e693dd3": {
          "model_module": "@jupyter-widgets/base",
          "model_name": "LayoutModel",
          "model_module_version": "1.2.0",
          "state": {
            "_model_module": "@jupyter-widgets/base",
            "_model_module_version": "1.2.0",
            "_model_name": "LayoutModel",
            "_view_count": null,
            "_view_module": "@jupyter-widgets/base",
            "_view_module_version": "1.2.0",
            "_view_name": "LayoutView",
            "align_content": null,
            "align_items": null,
            "align_self": null,
            "border": null,
            "bottom": null,
            "display": null,
            "flex": null,
            "flex_flow": null,
            "grid_area": null,
            "grid_auto_columns": null,
            "grid_auto_flow": null,
            "grid_auto_rows": null,
            "grid_column": null,
            "grid_gap": null,
            "grid_row": null,
            "grid_template_areas": null,
            "grid_template_columns": null,
            "grid_template_rows": null,
            "height": null,
            "justify_content": null,
            "justify_items": null,
            "left": null,
            "margin": null,
            "max_height": null,
            "max_width": null,
            "min_height": null,
            "min_width": null,
            "object_fit": null,
            "object_position": null,
            "order": null,
            "overflow": null,
            "overflow_x": null,
            "overflow_y": null,
            "padding": null,
            "right": null,
            "top": null,
            "visibility": null,
            "width": null
          }
        },
        "a20da542ce4c4f138937f4ca0251e149": {
          "model_module": "@jupyter-widgets/controls",
          "model_name": "DescriptionStyleModel",
          "model_module_version": "1.5.0",
          "state": {
            "_model_module": "@jupyter-widgets/controls",
            "_model_module_version": "1.5.0",
            "_model_name": "DescriptionStyleModel",
            "_view_count": null,
            "_view_module": "@jupyter-widgets/base",
            "_view_module_version": "1.2.0",
            "_view_name": "StyleView",
            "description_width": ""
          }
        },
        "eeb34d6df5e948e5b5e134246080c09c": {
          "model_module": "@jupyter-widgets/controls",
          "model_name": "HBoxModel",
          "model_module_version": "1.5.0",
          "state": {
            "_dom_classes": [],
            "_model_module": "@jupyter-widgets/controls",
            "_model_module_version": "1.5.0",
            "_model_name": "HBoxModel",
            "_view_count": null,
            "_view_module": "@jupyter-widgets/controls",
            "_view_module_version": "1.5.0",
            "_view_name": "HBoxView",
            "box_style": "",
            "children": [
              "IPY_MODEL_baca9afb0fd64228ae0005c64ac9f065",
              "IPY_MODEL_155a78d9a6604d20a68aad05b8195b3c",
              "IPY_MODEL_8e793f4180ea46eda55a22ba7dc31284"
            ],
            "layout": "IPY_MODEL_becfcb60ad444743abd58d38e410335d"
          }
        },
        "baca9afb0fd64228ae0005c64ac9f065": {
          "model_module": "@jupyter-widgets/controls",
          "model_name": "HTMLModel",
          "model_module_version": "1.5.0",
          "state": {
            "_dom_classes": [],
            "_model_module": "@jupyter-widgets/controls",
            "_model_module_version": "1.5.0",
            "_model_name": "HTMLModel",
            "_view_count": null,
            "_view_module": "@jupyter-widgets/controls",
            "_view_module_version": "1.5.0",
            "_view_name": "HTMLView",
            "description": "",
            "description_tooltip": null,
            "layout": "IPY_MODEL_1aba2e261f7a42c09fb81514120c106a",
            "placeholder": "​",
            "style": "IPY_MODEL_8a397c0984534990880b5b0ea4d82b84",
            "value": "Saving the dataset (1/1 shards): 100%"
          }
        },
        "155a78d9a6604d20a68aad05b8195b3c": {
          "model_module": "@jupyter-widgets/controls",
          "model_name": "FloatProgressModel",
          "model_module_version": "1.5.0",
          "state": {
            "_dom_classes": [],
            "_model_module": "@jupyter-widgets/controls",
            "_model_module_version": "1.5.0",
            "_model_name": "FloatProgressModel",
            "_view_count": null,
            "_view_module": "@jupyter-widgets/controls",
            "_view_module_version": "1.5.0",
            "_view_name": "ProgressView",
            "bar_style": "",
            "description": "",
            "description_tooltip": null,
            "layout": "IPY_MODEL_69fe0941512741bda5f3a83251949e0f",
            "max": 1074,
            "min": 0,
            "orientation": "horizontal",
            "style": "IPY_MODEL_90108f2409184d88b7b500d7b898e722",
            "value": 1074
          }
        },
        "8e793f4180ea46eda55a22ba7dc31284": {
          "model_module": "@jupyter-widgets/controls",
          "model_name": "HTMLModel",
          "model_module_version": "1.5.0",
          "state": {
            "_dom_classes": [],
            "_model_module": "@jupyter-widgets/controls",
            "_model_module_version": "1.5.0",
            "_model_name": "HTMLModel",
            "_view_count": null,
            "_view_module": "@jupyter-widgets/controls",
            "_view_module_version": "1.5.0",
            "_view_name": "HTMLView",
            "description": "",
            "description_tooltip": null,
            "layout": "IPY_MODEL_59d5b92c0a8d411dbda83095b2ca87ee",
            "placeholder": "​",
            "style": "IPY_MODEL_2f6a61f835114833a190dc6d3831c585",
            "value": " 1074/1074 [00:00&lt;00:00, 13244.27 examples/s]"
          }
        },
        "becfcb60ad444743abd58d38e410335d": {
          "model_module": "@jupyter-widgets/base",
          "model_name": "LayoutModel",
          "model_module_version": "1.2.0",
          "state": {
            "_model_module": "@jupyter-widgets/base",
            "_model_module_version": "1.2.0",
            "_model_name": "LayoutModel",
            "_view_count": null,
            "_view_module": "@jupyter-widgets/base",
            "_view_module_version": "1.2.0",
            "_view_name": "LayoutView",
            "align_content": null,
            "align_items": null,
            "align_self": null,
            "border": null,
            "bottom": null,
            "display": null,
            "flex": null,
            "flex_flow": null,
            "grid_area": null,
            "grid_auto_columns": null,
            "grid_auto_flow": null,
            "grid_auto_rows": null,
            "grid_column": null,
            "grid_gap": null,
            "grid_row": null,
            "grid_template_areas": null,
            "grid_template_columns": null,
            "grid_template_rows": null,
            "height": null,
            "justify_content": null,
            "justify_items": null,
            "left": null,
            "margin": null,
            "max_height": null,
            "max_width": null,
            "min_height": null,
            "min_width": null,
            "object_fit": null,
            "object_position": null,
            "order": null,
            "overflow": null,
            "overflow_x": null,
            "overflow_y": null,
            "padding": null,
            "right": null,
            "top": null,
            "visibility": "hidden",
            "width": null
          }
        },
        "1aba2e261f7a42c09fb81514120c106a": {
          "model_module": "@jupyter-widgets/base",
          "model_name": "LayoutModel",
          "model_module_version": "1.2.0",
          "state": {
            "_model_module": "@jupyter-widgets/base",
            "_model_module_version": "1.2.0",
            "_model_name": "LayoutModel",
            "_view_count": null,
            "_view_module": "@jupyter-widgets/base",
            "_view_module_version": "1.2.0",
            "_view_name": "LayoutView",
            "align_content": null,
            "align_items": null,
            "align_self": null,
            "border": null,
            "bottom": null,
            "display": null,
            "flex": null,
            "flex_flow": null,
            "grid_area": null,
            "grid_auto_columns": null,
            "grid_auto_flow": null,
            "grid_auto_rows": null,
            "grid_column": null,
            "grid_gap": null,
            "grid_row": null,
            "grid_template_areas": null,
            "grid_template_columns": null,
            "grid_template_rows": null,
            "height": null,
            "justify_content": null,
            "justify_items": null,
            "left": null,
            "margin": null,
            "max_height": null,
            "max_width": null,
            "min_height": null,
            "min_width": null,
            "object_fit": null,
            "object_position": null,
            "order": null,
            "overflow": null,
            "overflow_x": null,
            "overflow_y": null,
            "padding": null,
            "right": null,
            "top": null,
            "visibility": null,
            "width": null
          }
        },
        "8a397c0984534990880b5b0ea4d82b84": {
          "model_module": "@jupyter-widgets/controls",
          "model_name": "DescriptionStyleModel",
          "model_module_version": "1.5.0",
          "state": {
            "_model_module": "@jupyter-widgets/controls",
            "_model_module_version": "1.5.0",
            "_model_name": "DescriptionStyleModel",
            "_view_count": null,
            "_view_module": "@jupyter-widgets/base",
            "_view_module_version": "1.2.0",
            "_view_name": "StyleView",
            "description_width": ""
          }
        },
        "69fe0941512741bda5f3a83251949e0f": {
          "model_module": "@jupyter-widgets/base",
          "model_name": "LayoutModel",
          "model_module_version": "1.2.0",
          "state": {
            "_model_module": "@jupyter-widgets/base",
            "_model_module_version": "1.2.0",
            "_model_name": "LayoutModel",
            "_view_count": null,
            "_view_module": "@jupyter-widgets/base",
            "_view_module_version": "1.2.0",
            "_view_name": "LayoutView",
            "align_content": null,
            "align_items": null,
            "align_self": null,
            "border": null,
            "bottom": null,
            "display": null,
            "flex": null,
            "flex_flow": null,
            "grid_area": null,
            "grid_auto_columns": null,
            "grid_auto_flow": null,
            "grid_auto_rows": null,
            "grid_column": null,
            "grid_gap": null,
            "grid_row": null,
            "grid_template_areas": null,
            "grid_template_columns": null,
            "grid_template_rows": null,
            "height": null,
            "justify_content": null,
            "justify_items": null,
            "left": null,
            "margin": null,
            "max_height": null,
            "max_width": null,
            "min_height": null,
            "min_width": null,
            "object_fit": null,
            "object_position": null,
            "order": null,
            "overflow": null,
            "overflow_x": null,
            "overflow_y": null,
            "padding": null,
            "right": null,
            "top": null,
            "visibility": null,
            "width": null
          }
        },
        "90108f2409184d88b7b500d7b898e722": {
          "model_module": "@jupyter-widgets/controls",
          "model_name": "ProgressStyleModel",
          "model_module_version": "1.5.0",
          "state": {
            "_model_module": "@jupyter-widgets/controls",
            "_model_module_version": "1.5.0",
            "_model_name": "ProgressStyleModel",
            "_view_count": null,
            "_view_module": "@jupyter-widgets/base",
            "_view_module_version": "1.2.0",
            "_view_name": "StyleView",
            "bar_color": null,
            "description_width": ""
          }
        },
        "59d5b92c0a8d411dbda83095b2ca87ee": {
          "model_module": "@jupyter-widgets/base",
          "model_name": "LayoutModel",
          "model_module_version": "1.2.0",
          "state": {
            "_model_module": "@jupyter-widgets/base",
            "_model_module_version": "1.2.0",
            "_model_name": "LayoutModel",
            "_view_count": null,
            "_view_module": "@jupyter-widgets/base",
            "_view_module_version": "1.2.0",
            "_view_name": "LayoutView",
            "align_content": null,
            "align_items": null,
            "align_self": null,
            "border": null,
            "bottom": null,
            "display": null,
            "flex": null,
            "flex_flow": null,
            "grid_area": null,
            "grid_auto_columns": null,
            "grid_auto_flow": null,
            "grid_auto_rows": null,
            "grid_column": null,
            "grid_gap": null,
            "grid_row": null,
            "grid_template_areas": null,
            "grid_template_columns": null,
            "grid_template_rows": null,
            "height": null,
            "justify_content": null,
            "justify_items": null,
            "left": null,
            "margin": null,
            "max_height": null,
            "max_width": null,
            "min_height": null,
            "min_width": null,
            "object_fit": null,
            "object_position": null,
            "order": null,
            "overflow": null,
            "overflow_x": null,
            "overflow_y": null,
            "padding": null,
            "right": null,
            "top": null,
            "visibility": null,
            "width": null
          }
        },
        "2f6a61f835114833a190dc6d3831c585": {
          "model_module": "@jupyter-widgets/controls",
          "model_name": "DescriptionStyleModel",
          "model_module_version": "1.5.0",
          "state": {
            "_model_module": "@jupyter-widgets/controls",
            "_model_module_version": "1.5.0",
            "_model_name": "DescriptionStyleModel",
            "_view_count": null,
            "_view_module": "@jupyter-widgets/base",
            "_view_module_version": "1.2.0",
            "_view_name": "StyleView",
            "description_width": ""
          }
        },
        "1aa47f3e76f94658b60baf28d2e91bba": {
          "model_module": "@jupyter-widgets/controls",
          "model_name": "HBoxModel",
          "model_module_version": "1.5.0",
          "state": {
            "_dom_classes": [],
            "_model_module": "@jupyter-widgets/controls",
            "_model_module_version": "1.5.0",
            "_model_name": "HBoxModel",
            "_view_count": null,
            "_view_module": "@jupyter-widgets/controls",
            "_view_module_version": "1.5.0",
            "_view_name": "HBoxView",
            "box_style": "",
            "children": [
              "IPY_MODEL_acd54e6a140c47a4accfb071864cce96",
              "IPY_MODEL_d37cdab2884047b2be5a700d96ad4696",
              "IPY_MODEL_3abc1caf41cd4f018237bcb98b166ea2"
            ],
            "layout": "IPY_MODEL_6ba88d9c5f684d6f9b5d24b010d0976c"
          }
        },
        "acd54e6a140c47a4accfb071864cce96": {
          "model_module": "@jupyter-widgets/controls",
          "model_name": "HTMLModel",
          "model_module_version": "1.5.0",
          "state": {
            "_dom_classes": [],
            "_model_module": "@jupyter-widgets/controls",
            "_model_module_version": "1.5.0",
            "_model_name": "HTMLModel",
            "_view_count": null,
            "_view_module": "@jupyter-widgets/controls",
            "_view_module_version": "1.5.0",
            "_view_name": "HTMLView",
            "description": "",
            "description_tooltip": null,
            "layout": "IPY_MODEL_dda8f8049395412099199e5f2409832e",
            "placeholder": "​",
            "style": "IPY_MODEL_ed9266449d5f467394202bbb541c8426",
            "value": "Downloading (…)okenizer_config.json: 100%"
          }
        },
        "d37cdab2884047b2be5a700d96ad4696": {
          "model_module": "@jupyter-widgets/controls",
          "model_name": "FloatProgressModel",
          "model_module_version": "1.5.0",
          "state": {
            "_dom_classes": [],
            "_model_module": "@jupyter-widgets/controls",
            "_model_module_version": "1.5.0",
            "_model_name": "FloatProgressModel",
            "_view_count": null,
            "_view_module": "@jupyter-widgets/controls",
            "_view_module_version": "1.5.0",
            "_view_name": "ProgressView",
            "bar_style": "success",
            "description": "",
            "description_tooltip": null,
            "layout": "IPY_MODEL_e9210338df1d43edb2cbb1e2ea0b6879",
            "max": 52,
            "min": 0,
            "orientation": "horizontal",
            "style": "IPY_MODEL_25122c75026244d49056fc49ed4517ec",
            "value": 52
          }
        },
        "3abc1caf41cd4f018237bcb98b166ea2": {
          "model_module": "@jupyter-widgets/controls",
          "model_name": "HTMLModel",
          "model_module_version": "1.5.0",
          "state": {
            "_dom_classes": [],
            "_model_module": "@jupyter-widgets/controls",
            "_model_module_version": "1.5.0",
            "_model_name": "HTMLModel",
            "_view_count": null,
            "_view_module": "@jupyter-widgets/controls",
            "_view_module_version": "1.5.0",
            "_view_name": "HTMLView",
            "description": "",
            "description_tooltip": null,
            "layout": "IPY_MODEL_faa19b29f33d49008818aca408b527c6",
            "placeholder": "​",
            "style": "IPY_MODEL_cd8a55b4da164abda352f49337b8db5a",
            "value": " 52.0/52.0 [00:00&lt;00:00, 2.80kB/s]"
          }
        },
        "6ba88d9c5f684d6f9b5d24b010d0976c": {
          "model_module": "@jupyter-widgets/base",
          "model_name": "LayoutModel",
          "model_module_version": "1.2.0",
          "state": {
            "_model_module": "@jupyter-widgets/base",
            "_model_module_version": "1.2.0",
            "_model_name": "LayoutModel",
            "_view_count": null,
            "_view_module": "@jupyter-widgets/base",
            "_view_module_version": "1.2.0",
            "_view_name": "LayoutView",
            "align_content": null,
            "align_items": null,
            "align_self": null,
            "border": null,
            "bottom": null,
            "display": null,
            "flex": null,
            "flex_flow": null,
            "grid_area": null,
            "grid_auto_columns": null,
            "grid_auto_flow": null,
            "grid_auto_rows": null,
            "grid_column": null,
            "grid_gap": null,
            "grid_row": null,
            "grid_template_areas": null,
            "grid_template_columns": null,
            "grid_template_rows": null,
            "height": null,
            "justify_content": null,
            "justify_items": null,
            "left": null,
            "margin": null,
            "max_height": null,
            "max_width": null,
            "min_height": null,
            "min_width": null,
            "object_fit": null,
            "object_position": null,
            "order": null,
            "overflow": null,
            "overflow_x": null,
            "overflow_y": null,
            "padding": null,
            "right": null,
            "top": null,
            "visibility": null,
            "width": null
          }
        },
        "dda8f8049395412099199e5f2409832e": {
          "model_module": "@jupyter-widgets/base",
          "model_name": "LayoutModel",
          "model_module_version": "1.2.0",
          "state": {
            "_model_module": "@jupyter-widgets/base",
            "_model_module_version": "1.2.0",
            "_model_name": "LayoutModel",
            "_view_count": null,
            "_view_module": "@jupyter-widgets/base",
            "_view_module_version": "1.2.0",
            "_view_name": "LayoutView",
            "align_content": null,
            "align_items": null,
            "align_self": null,
            "border": null,
            "bottom": null,
            "display": null,
            "flex": null,
            "flex_flow": null,
            "grid_area": null,
            "grid_auto_columns": null,
            "grid_auto_flow": null,
            "grid_auto_rows": null,
            "grid_column": null,
            "grid_gap": null,
            "grid_row": null,
            "grid_template_areas": null,
            "grid_template_columns": null,
            "grid_template_rows": null,
            "height": null,
            "justify_content": null,
            "justify_items": null,
            "left": null,
            "margin": null,
            "max_height": null,
            "max_width": null,
            "min_height": null,
            "min_width": null,
            "object_fit": null,
            "object_position": null,
            "order": null,
            "overflow": null,
            "overflow_x": null,
            "overflow_y": null,
            "padding": null,
            "right": null,
            "top": null,
            "visibility": null,
            "width": null
          }
        },
        "ed9266449d5f467394202bbb541c8426": {
          "model_module": "@jupyter-widgets/controls",
          "model_name": "DescriptionStyleModel",
          "model_module_version": "1.5.0",
          "state": {
            "_model_module": "@jupyter-widgets/controls",
            "_model_module_version": "1.5.0",
            "_model_name": "DescriptionStyleModel",
            "_view_count": null,
            "_view_module": "@jupyter-widgets/base",
            "_view_module_version": "1.2.0",
            "_view_name": "StyleView",
            "description_width": ""
          }
        },
        "e9210338df1d43edb2cbb1e2ea0b6879": {
          "model_module": "@jupyter-widgets/base",
          "model_name": "LayoutModel",
          "model_module_version": "1.2.0",
          "state": {
            "_model_module": "@jupyter-widgets/base",
            "_model_module_version": "1.2.0",
            "_model_name": "LayoutModel",
            "_view_count": null,
            "_view_module": "@jupyter-widgets/base",
            "_view_module_version": "1.2.0",
            "_view_name": "LayoutView",
            "align_content": null,
            "align_items": null,
            "align_self": null,
            "border": null,
            "bottom": null,
            "display": null,
            "flex": null,
            "flex_flow": null,
            "grid_area": null,
            "grid_auto_columns": null,
            "grid_auto_flow": null,
            "grid_auto_rows": null,
            "grid_column": null,
            "grid_gap": null,
            "grid_row": null,
            "grid_template_areas": null,
            "grid_template_columns": null,
            "grid_template_rows": null,
            "height": null,
            "justify_content": null,
            "justify_items": null,
            "left": null,
            "margin": null,
            "max_height": null,
            "max_width": null,
            "min_height": null,
            "min_width": null,
            "object_fit": null,
            "object_position": null,
            "order": null,
            "overflow": null,
            "overflow_x": null,
            "overflow_y": null,
            "padding": null,
            "right": null,
            "top": null,
            "visibility": null,
            "width": null
          }
        },
        "25122c75026244d49056fc49ed4517ec": {
          "model_module": "@jupyter-widgets/controls",
          "model_name": "ProgressStyleModel",
          "model_module_version": "1.5.0",
          "state": {
            "_model_module": "@jupyter-widgets/controls",
            "_model_module_version": "1.5.0",
            "_model_name": "ProgressStyleModel",
            "_view_count": null,
            "_view_module": "@jupyter-widgets/base",
            "_view_module_version": "1.2.0",
            "_view_name": "StyleView",
            "bar_color": null,
            "description_width": ""
          }
        },
        "faa19b29f33d49008818aca408b527c6": {
          "model_module": "@jupyter-widgets/base",
          "model_name": "LayoutModel",
          "model_module_version": "1.2.0",
          "state": {
            "_model_module": "@jupyter-widgets/base",
            "_model_module_version": "1.2.0",
            "_model_name": "LayoutModel",
            "_view_count": null,
            "_view_module": "@jupyter-widgets/base",
            "_view_module_version": "1.2.0",
            "_view_name": "LayoutView",
            "align_content": null,
            "align_items": null,
            "align_self": null,
            "border": null,
            "bottom": null,
            "display": null,
            "flex": null,
            "flex_flow": null,
            "grid_area": null,
            "grid_auto_columns": null,
            "grid_auto_flow": null,
            "grid_auto_rows": null,
            "grid_column": null,
            "grid_gap": null,
            "grid_row": null,
            "grid_template_areas": null,
            "grid_template_columns": null,
            "grid_template_rows": null,
            "height": null,
            "justify_content": null,
            "justify_items": null,
            "left": null,
            "margin": null,
            "max_height": null,
            "max_width": null,
            "min_height": null,
            "min_width": null,
            "object_fit": null,
            "object_position": null,
            "order": null,
            "overflow": null,
            "overflow_x": null,
            "overflow_y": null,
            "padding": null,
            "right": null,
            "top": null,
            "visibility": null,
            "width": null
          }
        },
        "cd8a55b4da164abda352f49337b8db5a": {
          "model_module": "@jupyter-widgets/controls",
          "model_name": "DescriptionStyleModel",
          "model_module_version": "1.5.0",
          "state": {
            "_model_module": "@jupyter-widgets/controls",
            "_model_module_version": "1.5.0",
            "_model_name": "DescriptionStyleModel",
            "_view_count": null,
            "_view_module": "@jupyter-widgets/base",
            "_view_module_version": "1.2.0",
            "_view_name": "StyleView",
            "description_width": ""
          }
        },
        "a168c2d9e11542b98079348e006da862": {
          "model_module": "@jupyter-widgets/controls",
          "model_name": "HBoxModel",
          "model_module_version": "1.5.0",
          "state": {
            "_dom_classes": [],
            "_model_module": "@jupyter-widgets/controls",
            "_model_module_version": "1.5.0",
            "_model_name": "HBoxModel",
            "_view_count": null,
            "_view_module": "@jupyter-widgets/controls",
            "_view_module_version": "1.5.0",
            "_view_name": "HBoxView",
            "box_style": "",
            "children": [
              "IPY_MODEL_5fb84be8cb5445389d75170a1caff715",
              "IPY_MODEL_dd1f613cbf5d4fcc8ec0523e8edd53fb",
              "IPY_MODEL_02dad82da824439bb400e02301cbdebd"
            ],
            "layout": "IPY_MODEL_b583e788825349a5985a20605c7490df"
          }
        },
        "5fb84be8cb5445389d75170a1caff715": {
          "model_module": "@jupyter-widgets/controls",
          "model_name": "HTMLModel",
          "model_module_version": "1.5.0",
          "state": {
            "_dom_classes": [],
            "_model_module": "@jupyter-widgets/controls",
            "_model_module_version": "1.5.0",
            "_model_name": "HTMLModel",
            "_view_count": null,
            "_view_module": "@jupyter-widgets/controls",
            "_view_module_version": "1.5.0",
            "_view_name": "HTMLView",
            "description": "",
            "description_tooltip": null,
            "layout": "IPY_MODEL_511fe1e95aa948a781ba40200355f3b8",
            "placeholder": "​",
            "style": "IPY_MODEL_59db348628a140349f08638fc7c07d91",
            "value": "Downloading (…)lve/main/config.json: 100%"
          }
        },
        "dd1f613cbf5d4fcc8ec0523e8edd53fb": {
          "model_module": "@jupyter-widgets/controls",
          "model_name": "FloatProgressModel",
          "model_module_version": "1.5.0",
          "state": {
            "_dom_classes": [],
            "_model_module": "@jupyter-widgets/controls",
            "_model_module_version": "1.5.0",
            "_model_name": "FloatProgressModel",
            "_view_count": null,
            "_view_module": "@jupyter-widgets/controls",
            "_view_module_version": "1.5.0",
            "_view_name": "ProgressView",
            "bar_style": "success",
            "description": "",
            "description_tooltip": null,
            "layout": "IPY_MODEL_09665f9f86b34c7290d0787c541e512c",
            "max": 579,
            "min": 0,
            "orientation": "horizontal",
            "style": "IPY_MODEL_a2d7d8c7d8e9408da7762b9a652956cb",
            "value": 579
          }
        },
        "02dad82da824439bb400e02301cbdebd": {
          "model_module": "@jupyter-widgets/controls",
          "model_name": "HTMLModel",
          "model_module_version": "1.5.0",
          "state": {
            "_dom_classes": [],
            "_model_module": "@jupyter-widgets/controls",
            "_model_module_version": "1.5.0",
            "_model_name": "HTMLModel",
            "_view_count": null,
            "_view_module": "@jupyter-widgets/controls",
            "_view_module_version": "1.5.0",
            "_view_name": "HTMLView",
            "description": "",
            "description_tooltip": null,
            "layout": "IPY_MODEL_414aa3c911f04979beee060a2125bf0d",
            "placeholder": "​",
            "style": "IPY_MODEL_d4c25a65b6d14c2f845ebc3aadde71f4",
            "value": " 579/579 [00:00&lt;00:00, 32.2kB/s]"
          }
        },
        "b583e788825349a5985a20605c7490df": {
          "model_module": "@jupyter-widgets/base",
          "model_name": "LayoutModel",
          "model_module_version": "1.2.0",
          "state": {
            "_model_module": "@jupyter-widgets/base",
            "_model_module_version": "1.2.0",
            "_model_name": "LayoutModel",
            "_view_count": null,
            "_view_module": "@jupyter-widgets/base",
            "_view_module_version": "1.2.0",
            "_view_name": "LayoutView",
            "align_content": null,
            "align_items": null,
            "align_self": null,
            "border": null,
            "bottom": null,
            "display": null,
            "flex": null,
            "flex_flow": null,
            "grid_area": null,
            "grid_auto_columns": null,
            "grid_auto_flow": null,
            "grid_auto_rows": null,
            "grid_column": null,
            "grid_gap": null,
            "grid_row": null,
            "grid_template_areas": null,
            "grid_template_columns": null,
            "grid_template_rows": null,
            "height": null,
            "justify_content": null,
            "justify_items": null,
            "left": null,
            "margin": null,
            "max_height": null,
            "max_width": null,
            "min_height": null,
            "min_width": null,
            "object_fit": null,
            "object_position": null,
            "order": null,
            "overflow": null,
            "overflow_x": null,
            "overflow_y": null,
            "padding": null,
            "right": null,
            "top": null,
            "visibility": null,
            "width": null
          }
        },
        "511fe1e95aa948a781ba40200355f3b8": {
          "model_module": "@jupyter-widgets/base",
          "model_name": "LayoutModel",
          "model_module_version": "1.2.0",
          "state": {
            "_model_module": "@jupyter-widgets/base",
            "_model_module_version": "1.2.0",
            "_model_name": "LayoutModel",
            "_view_count": null,
            "_view_module": "@jupyter-widgets/base",
            "_view_module_version": "1.2.0",
            "_view_name": "LayoutView",
            "align_content": null,
            "align_items": null,
            "align_self": null,
            "border": null,
            "bottom": null,
            "display": null,
            "flex": null,
            "flex_flow": null,
            "grid_area": null,
            "grid_auto_columns": null,
            "grid_auto_flow": null,
            "grid_auto_rows": null,
            "grid_column": null,
            "grid_gap": null,
            "grid_row": null,
            "grid_template_areas": null,
            "grid_template_columns": null,
            "grid_template_rows": null,
            "height": null,
            "justify_content": null,
            "justify_items": null,
            "left": null,
            "margin": null,
            "max_height": null,
            "max_width": null,
            "min_height": null,
            "min_width": null,
            "object_fit": null,
            "object_position": null,
            "order": null,
            "overflow": null,
            "overflow_x": null,
            "overflow_y": null,
            "padding": null,
            "right": null,
            "top": null,
            "visibility": null,
            "width": null
          }
        },
        "59db348628a140349f08638fc7c07d91": {
          "model_module": "@jupyter-widgets/controls",
          "model_name": "DescriptionStyleModel",
          "model_module_version": "1.5.0",
          "state": {
            "_model_module": "@jupyter-widgets/controls",
            "_model_module_version": "1.5.0",
            "_model_name": "DescriptionStyleModel",
            "_view_count": null,
            "_view_module": "@jupyter-widgets/base",
            "_view_module_version": "1.2.0",
            "_view_name": "StyleView",
            "description_width": ""
          }
        },
        "09665f9f86b34c7290d0787c541e512c": {
          "model_module": "@jupyter-widgets/base",
          "model_name": "LayoutModel",
          "model_module_version": "1.2.0",
          "state": {
            "_model_module": "@jupyter-widgets/base",
            "_model_module_version": "1.2.0",
            "_model_name": "LayoutModel",
            "_view_count": null,
            "_view_module": "@jupyter-widgets/base",
            "_view_module_version": "1.2.0",
            "_view_name": "LayoutView",
            "align_content": null,
            "align_items": null,
            "align_self": null,
            "border": null,
            "bottom": null,
            "display": null,
            "flex": null,
            "flex_flow": null,
            "grid_area": null,
            "grid_auto_columns": null,
            "grid_auto_flow": null,
            "grid_auto_rows": null,
            "grid_column": null,
            "grid_gap": null,
            "grid_row": null,
            "grid_template_areas": null,
            "grid_template_columns": null,
            "grid_template_rows": null,
            "height": null,
            "justify_content": null,
            "justify_items": null,
            "left": null,
            "margin": null,
            "max_height": null,
            "max_width": null,
            "min_height": null,
            "min_width": null,
            "object_fit": null,
            "object_position": null,
            "order": null,
            "overflow": null,
            "overflow_x": null,
            "overflow_y": null,
            "padding": null,
            "right": null,
            "top": null,
            "visibility": null,
            "width": null
          }
        },
        "a2d7d8c7d8e9408da7762b9a652956cb": {
          "model_module": "@jupyter-widgets/controls",
          "model_name": "ProgressStyleModel",
          "model_module_version": "1.5.0",
          "state": {
            "_model_module": "@jupyter-widgets/controls",
            "_model_module_version": "1.5.0",
            "_model_name": "ProgressStyleModel",
            "_view_count": null,
            "_view_module": "@jupyter-widgets/base",
            "_view_module_version": "1.2.0",
            "_view_name": "StyleView",
            "bar_color": null,
            "description_width": ""
          }
        },
        "414aa3c911f04979beee060a2125bf0d": {
          "model_module": "@jupyter-widgets/base",
          "model_name": "LayoutModel",
          "model_module_version": "1.2.0",
          "state": {
            "_model_module": "@jupyter-widgets/base",
            "_model_module_version": "1.2.0",
            "_model_name": "LayoutModel",
            "_view_count": null,
            "_view_module": "@jupyter-widgets/base",
            "_view_module_version": "1.2.0",
            "_view_name": "LayoutView",
            "align_content": null,
            "align_items": null,
            "align_self": null,
            "border": null,
            "bottom": null,
            "display": null,
            "flex": null,
            "flex_flow": null,
            "grid_area": null,
            "grid_auto_columns": null,
            "grid_auto_flow": null,
            "grid_auto_rows": null,
            "grid_column": null,
            "grid_gap": null,
            "grid_row": null,
            "grid_template_areas": null,
            "grid_template_columns": null,
            "grid_template_rows": null,
            "height": null,
            "justify_content": null,
            "justify_items": null,
            "left": null,
            "margin": null,
            "max_height": null,
            "max_width": null,
            "min_height": null,
            "min_width": null,
            "object_fit": null,
            "object_position": null,
            "order": null,
            "overflow": null,
            "overflow_x": null,
            "overflow_y": null,
            "padding": null,
            "right": null,
            "top": null,
            "visibility": null,
            "width": null
          }
        },
        "d4c25a65b6d14c2f845ebc3aadde71f4": {
          "model_module": "@jupyter-widgets/controls",
          "model_name": "DescriptionStyleModel",
          "model_module_version": "1.5.0",
          "state": {
            "_model_module": "@jupyter-widgets/controls",
            "_model_module_version": "1.5.0",
            "_model_name": "DescriptionStyleModel",
            "_view_count": null,
            "_view_module": "@jupyter-widgets/base",
            "_view_module_version": "1.2.0",
            "_view_name": "StyleView",
            "description_width": ""
          }
        },
        "423a3d393bad494d8dab78334f67c8f1": {
          "model_module": "@jupyter-widgets/controls",
          "model_name": "HBoxModel",
          "model_module_version": "1.5.0",
          "state": {
            "_dom_classes": [],
            "_model_module": "@jupyter-widgets/controls",
            "_model_module_version": "1.5.0",
            "_model_name": "HBoxModel",
            "_view_count": null,
            "_view_module": "@jupyter-widgets/controls",
            "_view_module_version": "1.5.0",
            "_view_name": "HBoxView",
            "box_style": "",
            "children": [
              "IPY_MODEL_8935a8f0a3964e9abfc239f246e75379",
              "IPY_MODEL_479072943e6b4152a4dc00f3f52aac54",
              "IPY_MODEL_2d75f7cb5fdd470f91e375a2a23f95f4"
            ],
            "layout": "IPY_MODEL_6ed017d3c07942e19a0947055fbbfc52"
          }
        },
        "8935a8f0a3964e9abfc239f246e75379": {
          "model_module": "@jupyter-widgets/controls",
          "model_name": "HTMLModel",
          "model_module_version": "1.5.0",
          "state": {
            "_dom_classes": [],
            "_model_module": "@jupyter-widgets/controls",
            "_model_module_version": "1.5.0",
            "_model_name": "HTMLModel",
            "_view_count": null,
            "_view_module": "@jupyter-widgets/controls",
            "_view_module_version": "1.5.0",
            "_view_name": "HTMLView",
            "description": "",
            "description_tooltip": null,
            "layout": "IPY_MODEL_c411200fe03648b59cf3fed1bdd85ac2",
            "placeholder": "​",
            "style": "IPY_MODEL_7357f7b945e344be963b406dcca3e0fc",
            "value": "Downloading spm.model: 100%"
          }
        },
        "479072943e6b4152a4dc00f3f52aac54": {
          "model_module": "@jupyter-widgets/controls",
          "model_name": "FloatProgressModel",
          "model_module_version": "1.5.0",
          "state": {
            "_dom_classes": [],
            "_model_module": "@jupyter-widgets/controls",
            "_model_module_version": "1.5.0",
            "_model_name": "FloatProgressModel",
            "_view_count": null,
            "_view_module": "@jupyter-widgets/controls",
            "_view_module_version": "1.5.0",
            "_view_name": "ProgressView",
            "bar_style": "success",
            "description": "",
            "description_tooltip": null,
            "layout": "IPY_MODEL_82ed71fdc4ed47cfb9178e86c4ea05a9",
            "max": 2464616,
            "min": 0,
            "orientation": "horizontal",
            "style": "IPY_MODEL_0cc5d8140e70406695d3c4eb25e2b7c5",
            "value": 2464616
          }
        },
        "2d75f7cb5fdd470f91e375a2a23f95f4": {
          "model_module": "@jupyter-widgets/controls",
          "model_name": "HTMLModel",
          "model_module_version": "1.5.0",
          "state": {
            "_dom_classes": [],
            "_model_module": "@jupyter-widgets/controls",
            "_model_module_version": "1.5.0",
            "_model_name": "HTMLModel",
            "_view_count": null,
            "_view_module": "@jupyter-widgets/controls",
            "_view_module_version": "1.5.0",
            "_view_name": "HTMLView",
            "description": "",
            "description_tooltip": null,
            "layout": "IPY_MODEL_bf80faee126a49f697aa799d1f3d9325",
            "placeholder": "​",
            "style": "IPY_MODEL_664669de2ced4660a5609a35c1a2c050",
            "value": " 2.46M/2.46M [00:00&lt;00:00, 33.3MB/s]"
          }
        },
        "6ed017d3c07942e19a0947055fbbfc52": {
          "model_module": "@jupyter-widgets/base",
          "model_name": "LayoutModel",
          "model_module_version": "1.2.0",
          "state": {
            "_model_module": "@jupyter-widgets/base",
            "_model_module_version": "1.2.0",
            "_model_name": "LayoutModel",
            "_view_count": null,
            "_view_module": "@jupyter-widgets/base",
            "_view_module_version": "1.2.0",
            "_view_name": "LayoutView",
            "align_content": null,
            "align_items": null,
            "align_self": null,
            "border": null,
            "bottom": null,
            "display": null,
            "flex": null,
            "flex_flow": null,
            "grid_area": null,
            "grid_auto_columns": null,
            "grid_auto_flow": null,
            "grid_auto_rows": null,
            "grid_column": null,
            "grid_gap": null,
            "grid_row": null,
            "grid_template_areas": null,
            "grid_template_columns": null,
            "grid_template_rows": null,
            "height": null,
            "justify_content": null,
            "justify_items": null,
            "left": null,
            "margin": null,
            "max_height": null,
            "max_width": null,
            "min_height": null,
            "min_width": null,
            "object_fit": null,
            "object_position": null,
            "order": null,
            "overflow": null,
            "overflow_x": null,
            "overflow_y": null,
            "padding": null,
            "right": null,
            "top": null,
            "visibility": null,
            "width": null
          }
        },
        "c411200fe03648b59cf3fed1bdd85ac2": {
          "model_module": "@jupyter-widgets/base",
          "model_name": "LayoutModel",
          "model_module_version": "1.2.0",
          "state": {
            "_model_module": "@jupyter-widgets/base",
            "_model_module_version": "1.2.0",
            "_model_name": "LayoutModel",
            "_view_count": null,
            "_view_module": "@jupyter-widgets/base",
            "_view_module_version": "1.2.0",
            "_view_name": "LayoutView",
            "align_content": null,
            "align_items": null,
            "align_self": null,
            "border": null,
            "bottom": null,
            "display": null,
            "flex": null,
            "flex_flow": null,
            "grid_area": null,
            "grid_auto_columns": null,
            "grid_auto_flow": null,
            "grid_auto_rows": null,
            "grid_column": null,
            "grid_gap": null,
            "grid_row": null,
            "grid_template_areas": null,
            "grid_template_columns": null,
            "grid_template_rows": null,
            "height": null,
            "justify_content": null,
            "justify_items": null,
            "left": null,
            "margin": null,
            "max_height": null,
            "max_width": null,
            "min_height": null,
            "min_width": null,
            "object_fit": null,
            "object_position": null,
            "order": null,
            "overflow": null,
            "overflow_x": null,
            "overflow_y": null,
            "padding": null,
            "right": null,
            "top": null,
            "visibility": null,
            "width": null
          }
        },
        "7357f7b945e344be963b406dcca3e0fc": {
          "model_module": "@jupyter-widgets/controls",
          "model_name": "DescriptionStyleModel",
          "model_module_version": "1.5.0",
          "state": {
            "_model_module": "@jupyter-widgets/controls",
            "_model_module_version": "1.5.0",
            "_model_name": "DescriptionStyleModel",
            "_view_count": null,
            "_view_module": "@jupyter-widgets/base",
            "_view_module_version": "1.2.0",
            "_view_name": "StyleView",
            "description_width": ""
          }
        },
        "82ed71fdc4ed47cfb9178e86c4ea05a9": {
          "model_module": "@jupyter-widgets/base",
          "model_name": "LayoutModel",
          "model_module_version": "1.2.0",
          "state": {
            "_model_module": "@jupyter-widgets/base",
            "_model_module_version": "1.2.0",
            "_model_name": "LayoutModel",
            "_view_count": null,
            "_view_module": "@jupyter-widgets/base",
            "_view_module_version": "1.2.0",
            "_view_name": "LayoutView",
            "align_content": null,
            "align_items": null,
            "align_self": null,
            "border": null,
            "bottom": null,
            "display": null,
            "flex": null,
            "flex_flow": null,
            "grid_area": null,
            "grid_auto_columns": null,
            "grid_auto_flow": null,
            "grid_auto_rows": null,
            "grid_column": null,
            "grid_gap": null,
            "grid_row": null,
            "grid_template_areas": null,
            "grid_template_columns": null,
            "grid_template_rows": null,
            "height": null,
            "justify_content": null,
            "justify_items": null,
            "left": null,
            "margin": null,
            "max_height": null,
            "max_width": null,
            "min_height": null,
            "min_width": null,
            "object_fit": null,
            "object_position": null,
            "order": null,
            "overflow": null,
            "overflow_x": null,
            "overflow_y": null,
            "padding": null,
            "right": null,
            "top": null,
            "visibility": null,
            "width": null
          }
        },
        "0cc5d8140e70406695d3c4eb25e2b7c5": {
          "model_module": "@jupyter-widgets/controls",
          "model_name": "ProgressStyleModel",
          "model_module_version": "1.5.0",
          "state": {
            "_model_module": "@jupyter-widgets/controls",
            "_model_module_version": "1.5.0",
            "_model_name": "ProgressStyleModel",
            "_view_count": null,
            "_view_module": "@jupyter-widgets/base",
            "_view_module_version": "1.2.0",
            "_view_name": "StyleView",
            "bar_color": null,
            "description_width": ""
          }
        },
        "bf80faee126a49f697aa799d1f3d9325": {
          "model_module": "@jupyter-widgets/base",
          "model_name": "LayoutModel",
          "model_module_version": "1.2.0",
          "state": {
            "_model_module": "@jupyter-widgets/base",
            "_model_module_version": "1.2.0",
            "_model_name": "LayoutModel",
            "_view_count": null,
            "_view_module": "@jupyter-widgets/base",
            "_view_module_version": "1.2.0",
            "_view_name": "LayoutView",
            "align_content": null,
            "align_items": null,
            "align_self": null,
            "border": null,
            "bottom": null,
            "display": null,
            "flex": null,
            "flex_flow": null,
            "grid_area": null,
            "grid_auto_columns": null,
            "grid_auto_flow": null,
            "grid_auto_rows": null,
            "grid_column": null,
            "grid_gap": null,
            "grid_row": null,
            "grid_template_areas": null,
            "grid_template_columns": null,
            "grid_template_rows": null,
            "height": null,
            "justify_content": null,
            "justify_items": null,
            "left": null,
            "margin": null,
            "max_height": null,
            "max_width": null,
            "min_height": null,
            "min_width": null,
            "object_fit": null,
            "object_position": null,
            "order": null,
            "overflow": null,
            "overflow_x": null,
            "overflow_y": null,
            "padding": null,
            "right": null,
            "top": null,
            "visibility": null,
            "width": null
          }
        },
        "664669de2ced4660a5609a35c1a2c050": {
          "model_module": "@jupyter-widgets/controls",
          "model_name": "DescriptionStyleModel",
          "model_module_version": "1.5.0",
          "state": {
            "_model_module": "@jupyter-widgets/controls",
            "_model_module_version": "1.5.0",
            "_model_name": "DescriptionStyleModel",
            "_view_count": null,
            "_view_module": "@jupyter-widgets/base",
            "_view_module_version": "1.2.0",
            "_view_name": "StyleView",
            "description_width": ""
          }
        },
        "244ef4a0681e439996600053fb49b2a8": {
          "model_module": "@jupyter-widgets/controls",
          "model_name": "HBoxModel",
          "model_module_version": "1.5.0",
          "state": {
            "_dom_classes": [],
            "_model_module": "@jupyter-widgets/controls",
            "_model_module_version": "1.5.0",
            "_model_name": "HBoxModel",
            "_view_count": null,
            "_view_module": "@jupyter-widgets/controls",
            "_view_module_version": "1.5.0",
            "_view_name": "HBoxView",
            "box_style": "",
            "children": [
              "IPY_MODEL_8da80b427bc344fa9b5aac880ecb22a0",
              "IPY_MODEL_8d66688b692546bca0673b71239b6425",
              "IPY_MODEL_d768a5bb3e8f4305b26b1081360dacbf"
            ],
            "layout": "IPY_MODEL_0b3dfd85d5604d1dbf2989dbdc744764"
          }
        },
        "8da80b427bc344fa9b5aac880ecb22a0": {
          "model_module": "@jupyter-widgets/controls",
          "model_name": "HTMLModel",
          "model_module_version": "1.5.0",
          "state": {
            "_dom_classes": [],
            "_model_module": "@jupyter-widgets/controls",
            "_model_module_version": "1.5.0",
            "_model_name": "HTMLModel",
            "_view_count": null,
            "_view_module": "@jupyter-widgets/controls",
            "_view_module_version": "1.5.0",
            "_view_name": "HTMLView",
            "description": "",
            "description_tooltip": null,
            "layout": "IPY_MODEL_62224b98ed4c488fb28249042ce89158",
            "placeholder": "​",
            "style": "IPY_MODEL_1aedcfd538fb4521adf79a19f5563a05",
            "value": "Downloading builder script: 100%"
          }
        },
        "8d66688b692546bca0673b71239b6425": {
          "model_module": "@jupyter-widgets/controls",
          "model_name": "FloatProgressModel",
          "model_module_version": "1.5.0",
          "state": {
            "_dom_classes": [],
            "_model_module": "@jupyter-widgets/controls",
            "_model_module_version": "1.5.0",
            "_model_name": "FloatProgressModel",
            "_view_count": null,
            "_view_module": "@jupyter-widgets/controls",
            "_view_module_version": "1.5.0",
            "_view_name": "ProgressView",
            "bar_style": "success",
            "description": "",
            "description_tooltip": null,
            "layout": "IPY_MODEL_0c670505abcf44ff8782bca17fdb61aa",
            "max": 6338,
            "min": 0,
            "orientation": "horizontal",
            "style": "IPY_MODEL_86b9a82762ad43198989c9e5f1f0919e",
            "value": 6338
          }
        },
        "d768a5bb3e8f4305b26b1081360dacbf": {
          "model_module": "@jupyter-widgets/controls",
          "model_name": "HTMLModel",
          "model_module_version": "1.5.0",
          "state": {
            "_dom_classes": [],
            "_model_module": "@jupyter-widgets/controls",
            "_model_module_version": "1.5.0",
            "_model_name": "HTMLModel",
            "_view_count": null,
            "_view_module": "@jupyter-widgets/controls",
            "_view_module_version": "1.5.0",
            "_view_name": "HTMLView",
            "description": "",
            "description_tooltip": null,
            "layout": "IPY_MODEL_8b8b50f5745c4eeab4f7e62d591ad971",
            "placeholder": "​",
            "style": "IPY_MODEL_4f5abe4e7655402792a8201ecbde2188",
            "value": " 6.34k/6.34k [00:00&lt;00:00, 203kB/s]"
          }
        },
        "0b3dfd85d5604d1dbf2989dbdc744764": {
          "model_module": "@jupyter-widgets/base",
          "model_name": "LayoutModel",
          "model_module_version": "1.2.0",
          "state": {
            "_model_module": "@jupyter-widgets/base",
            "_model_module_version": "1.2.0",
            "_model_name": "LayoutModel",
            "_view_count": null,
            "_view_module": "@jupyter-widgets/base",
            "_view_module_version": "1.2.0",
            "_view_name": "LayoutView",
            "align_content": null,
            "align_items": null,
            "align_self": null,
            "border": null,
            "bottom": null,
            "display": null,
            "flex": null,
            "flex_flow": null,
            "grid_area": null,
            "grid_auto_columns": null,
            "grid_auto_flow": null,
            "grid_auto_rows": null,
            "grid_column": null,
            "grid_gap": null,
            "grid_row": null,
            "grid_template_areas": null,
            "grid_template_columns": null,
            "grid_template_rows": null,
            "height": null,
            "justify_content": null,
            "justify_items": null,
            "left": null,
            "margin": null,
            "max_height": null,
            "max_width": null,
            "min_height": null,
            "min_width": null,
            "object_fit": null,
            "object_position": null,
            "order": null,
            "overflow": null,
            "overflow_x": null,
            "overflow_y": null,
            "padding": null,
            "right": null,
            "top": null,
            "visibility": null,
            "width": null
          }
        },
        "62224b98ed4c488fb28249042ce89158": {
          "model_module": "@jupyter-widgets/base",
          "model_name": "LayoutModel",
          "model_module_version": "1.2.0",
          "state": {
            "_model_module": "@jupyter-widgets/base",
            "_model_module_version": "1.2.0",
            "_model_name": "LayoutModel",
            "_view_count": null,
            "_view_module": "@jupyter-widgets/base",
            "_view_module_version": "1.2.0",
            "_view_name": "LayoutView",
            "align_content": null,
            "align_items": null,
            "align_self": null,
            "border": null,
            "bottom": null,
            "display": null,
            "flex": null,
            "flex_flow": null,
            "grid_area": null,
            "grid_auto_columns": null,
            "grid_auto_flow": null,
            "grid_auto_rows": null,
            "grid_column": null,
            "grid_gap": null,
            "grid_row": null,
            "grid_template_areas": null,
            "grid_template_columns": null,
            "grid_template_rows": null,
            "height": null,
            "justify_content": null,
            "justify_items": null,
            "left": null,
            "margin": null,
            "max_height": null,
            "max_width": null,
            "min_height": null,
            "min_width": null,
            "object_fit": null,
            "object_position": null,
            "order": null,
            "overflow": null,
            "overflow_x": null,
            "overflow_y": null,
            "padding": null,
            "right": null,
            "top": null,
            "visibility": null,
            "width": null
          }
        },
        "1aedcfd538fb4521adf79a19f5563a05": {
          "model_module": "@jupyter-widgets/controls",
          "model_name": "DescriptionStyleModel",
          "model_module_version": "1.5.0",
          "state": {
            "_model_module": "@jupyter-widgets/controls",
            "_model_module_version": "1.5.0",
            "_model_name": "DescriptionStyleModel",
            "_view_count": null,
            "_view_module": "@jupyter-widgets/base",
            "_view_module_version": "1.2.0",
            "_view_name": "StyleView",
            "description_width": ""
          }
        },
        "0c670505abcf44ff8782bca17fdb61aa": {
          "model_module": "@jupyter-widgets/base",
          "model_name": "LayoutModel",
          "model_module_version": "1.2.0",
          "state": {
            "_model_module": "@jupyter-widgets/base",
            "_model_module_version": "1.2.0",
            "_model_name": "LayoutModel",
            "_view_count": null,
            "_view_module": "@jupyter-widgets/base",
            "_view_module_version": "1.2.0",
            "_view_name": "LayoutView",
            "align_content": null,
            "align_items": null,
            "align_self": null,
            "border": null,
            "bottom": null,
            "display": null,
            "flex": null,
            "flex_flow": null,
            "grid_area": null,
            "grid_auto_columns": null,
            "grid_auto_flow": null,
            "grid_auto_rows": null,
            "grid_column": null,
            "grid_gap": null,
            "grid_row": null,
            "grid_template_areas": null,
            "grid_template_columns": null,
            "grid_template_rows": null,
            "height": null,
            "justify_content": null,
            "justify_items": null,
            "left": null,
            "margin": null,
            "max_height": null,
            "max_width": null,
            "min_height": null,
            "min_width": null,
            "object_fit": null,
            "object_position": null,
            "order": null,
            "overflow": null,
            "overflow_x": null,
            "overflow_y": null,
            "padding": null,
            "right": null,
            "top": null,
            "visibility": null,
            "width": null
          }
        },
        "86b9a82762ad43198989c9e5f1f0919e": {
          "model_module": "@jupyter-widgets/controls",
          "model_name": "ProgressStyleModel",
          "model_module_version": "1.5.0",
          "state": {
            "_model_module": "@jupyter-widgets/controls",
            "_model_module_version": "1.5.0",
            "_model_name": "ProgressStyleModel",
            "_view_count": null,
            "_view_module": "@jupyter-widgets/base",
            "_view_module_version": "1.2.0",
            "_view_name": "StyleView",
            "bar_color": null,
            "description_width": ""
          }
        },
        "8b8b50f5745c4eeab4f7e62d591ad971": {
          "model_module": "@jupyter-widgets/base",
          "model_name": "LayoutModel",
          "model_module_version": "1.2.0",
          "state": {
            "_model_module": "@jupyter-widgets/base",
            "_model_module_version": "1.2.0",
            "_model_name": "LayoutModel",
            "_view_count": null,
            "_view_module": "@jupyter-widgets/base",
            "_view_module_version": "1.2.0",
            "_view_name": "LayoutView",
            "align_content": null,
            "align_items": null,
            "align_self": null,
            "border": null,
            "bottom": null,
            "display": null,
            "flex": null,
            "flex_flow": null,
            "grid_area": null,
            "grid_auto_columns": null,
            "grid_auto_flow": null,
            "grid_auto_rows": null,
            "grid_column": null,
            "grid_gap": null,
            "grid_row": null,
            "grid_template_areas": null,
            "grid_template_columns": null,
            "grid_template_rows": null,
            "height": null,
            "justify_content": null,
            "justify_items": null,
            "left": null,
            "margin": null,
            "max_height": null,
            "max_width": null,
            "min_height": null,
            "min_width": null,
            "object_fit": null,
            "object_position": null,
            "order": null,
            "overflow": null,
            "overflow_x": null,
            "overflow_y": null,
            "padding": null,
            "right": null,
            "top": null,
            "visibility": null,
            "width": null
          }
        },
        "4f5abe4e7655402792a8201ecbde2188": {
          "model_module": "@jupyter-widgets/controls",
          "model_name": "DescriptionStyleModel",
          "model_module_version": "1.5.0",
          "state": {
            "_model_module": "@jupyter-widgets/controls",
            "_model_module_version": "1.5.0",
            "_model_name": "DescriptionStyleModel",
            "_view_count": null,
            "_view_module": "@jupyter-widgets/base",
            "_view_module_version": "1.2.0",
            "_view_name": "StyleView",
            "description_width": ""
          }
        },
        "337875a0cd6c4028a3fad560cccec8e9": {
          "model_module": "@jupyter-widgets/controls",
          "model_name": "HBoxModel",
          "model_module_version": "1.5.0",
          "state": {
            "_dom_classes": [],
            "_model_module": "@jupyter-widgets/controls",
            "_model_module_version": "1.5.0",
            "_model_name": "HBoxModel",
            "_view_count": null,
            "_view_module": "@jupyter-widgets/controls",
            "_view_module_version": "1.5.0",
            "_view_name": "HBoxView",
            "box_style": "",
            "children": [
              "IPY_MODEL_32d75e643dfb41e3abfd8cd0ff9b06d4",
              "IPY_MODEL_f915bfcceab7457a81024ac244480bee",
              "IPY_MODEL_0c76d50e2db94d3c8b530c9ef0fa0ad7"
            ],
            "layout": "IPY_MODEL_75700cf1c6fd44d98be99e70b29eff4c"
          }
        },
        "32d75e643dfb41e3abfd8cd0ff9b06d4": {
          "model_module": "@jupyter-widgets/controls",
          "model_name": "HTMLModel",
          "model_module_version": "1.5.0",
          "state": {
            "_dom_classes": [],
            "_model_module": "@jupyter-widgets/controls",
            "_model_module_version": "1.5.0",
            "_model_name": "HTMLModel",
            "_view_count": null,
            "_view_module": "@jupyter-widgets/controls",
            "_view_module_version": "1.5.0",
            "_view_name": "HTMLView",
            "description": "",
            "description_tooltip": null,
            "layout": "IPY_MODEL_727c2d433fb144f79a7615c1c1121e37",
            "placeholder": "​",
            "style": "IPY_MODEL_1f6c20ea4465401cb729aecff3991adb",
            "value": "Downloading pytorch_model.bin: 100%"
          }
        },
        "f915bfcceab7457a81024ac244480bee": {
          "model_module": "@jupyter-widgets/controls",
          "model_name": "FloatProgressModel",
          "model_module_version": "1.5.0",
          "state": {
            "_dom_classes": [],
            "_model_module": "@jupyter-widgets/controls",
            "_model_module_version": "1.5.0",
            "_model_name": "FloatProgressModel",
            "_view_count": null,
            "_view_module": "@jupyter-widgets/controls",
            "_view_module_version": "1.5.0",
            "_view_name": "ProgressView",
            "bar_style": "success",
            "description": "",
            "description_tooltip": null,
            "layout": "IPY_MODEL_f42e49ac92854b8a9678f3147b47a304",
            "max": 371146213,
            "min": 0,
            "orientation": "horizontal",
            "style": "IPY_MODEL_a5407d0e2abf43079534782a2488fddb",
            "value": 371146213
          }
        },
        "0c76d50e2db94d3c8b530c9ef0fa0ad7": {
          "model_module": "@jupyter-widgets/controls",
          "model_name": "HTMLModel",
          "model_module_version": "1.5.0",
          "state": {
            "_dom_classes": [],
            "_model_module": "@jupyter-widgets/controls",
            "_model_module_version": "1.5.0",
            "_model_name": "HTMLModel",
            "_view_count": null,
            "_view_module": "@jupyter-widgets/controls",
            "_view_module_version": "1.5.0",
            "_view_name": "HTMLView",
            "description": "",
            "description_tooltip": null,
            "layout": "IPY_MODEL_735dca6ed67046f587fb18e8787c5b76",
            "placeholder": "​",
            "style": "IPY_MODEL_66f430bc51f449c2bc01ef917f3e2a12",
            "value": " 371M/371M [00:04&lt;00:00, 108MB/s]"
          }
        },
        "75700cf1c6fd44d98be99e70b29eff4c": {
          "model_module": "@jupyter-widgets/base",
          "model_name": "LayoutModel",
          "model_module_version": "1.2.0",
          "state": {
            "_model_module": "@jupyter-widgets/base",
            "_model_module_version": "1.2.0",
            "_model_name": "LayoutModel",
            "_view_count": null,
            "_view_module": "@jupyter-widgets/base",
            "_view_module_version": "1.2.0",
            "_view_name": "LayoutView",
            "align_content": null,
            "align_items": null,
            "align_self": null,
            "border": null,
            "bottom": null,
            "display": null,
            "flex": null,
            "flex_flow": null,
            "grid_area": null,
            "grid_auto_columns": null,
            "grid_auto_flow": null,
            "grid_auto_rows": null,
            "grid_column": null,
            "grid_gap": null,
            "grid_row": null,
            "grid_template_areas": null,
            "grid_template_columns": null,
            "grid_template_rows": null,
            "height": null,
            "justify_content": null,
            "justify_items": null,
            "left": null,
            "margin": null,
            "max_height": null,
            "max_width": null,
            "min_height": null,
            "min_width": null,
            "object_fit": null,
            "object_position": null,
            "order": null,
            "overflow": null,
            "overflow_x": null,
            "overflow_y": null,
            "padding": null,
            "right": null,
            "top": null,
            "visibility": null,
            "width": null
          }
        },
        "727c2d433fb144f79a7615c1c1121e37": {
          "model_module": "@jupyter-widgets/base",
          "model_name": "LayoutModel",
          "model_module_version": "1.2.0",
          "state": {
            "_model_module": "@jupyter-widgets/base",
            "_model_module_version": "1.2.0",
            "_model_name": "LayoutModel",
            "_view_count": null,
            "_view_module": "@jupyter-widgets/base",
            "_view_module_version": "1.2.0",
            "_view_name": "LayoutView",
            "align_content": null,
            "align_items": null,
            "align_self": null,
            "border": null,
            "bottom": null,
            "display": null,
            "flex": null,
            "flex_flow": null,
            "grid_area": null,
            "grid_auto_columns": null,
            "grid_auto_flow": null,
            "grid_auto_rows": null,
            "grid_column": null,
            "grid_gap": null,
            "grid_row": null,
            "grid_template_areas": null,
            "grid_template_columns": null,
            "grid_template_rows": null,
            "height": null,
            "justify_content": null,
            "justify_items": null,
            "left": null,
            "margin": null,
            "max_height": null,
            "max_width": null,
            "min_height": null,
            "min_width": null,
            "object_fit": null,
            "object_position": null,
            "order": null,
            "overflow": null,
            "overflow_x": null,
            "overflow_y": null,
            "padding": null,
            "right": null,
            "top": null,
            "visibility": null,
            "width": null
          }
        },
        "1f6c20ea4465401cb729aecff3991adb": {
          "model_module": "@jupyter-widgets/controls",
          "model_name": "DescriptionStyleModel",
          "model_module_version": "1.5.0",
          "state": {
            "_model_module": "@jupyter-widgets/controls",
            "_model_module_version": "1.5.0",
            "_model_name": "DescriptionStyleModel",
            "_view_count": null,
            "_view_module": "@jupyter-widgets/base",
            "_view_module_version": "1.2.0",
            "_view_name": "StyleView",
            "description_width": ""
          }
        },
        "f42e49ac92854b8a9678f3147b47a304": {
          "model_module": "@jupyter-widgets/base",
          "model_name": "LayoutModel",
          "model_module_version": "1.2.0",
          "state": {
            "_model_module": "@jupyter-widgets/base",
            "_model_module_version": "1.2.0",
            "_model_name": "LayoutModel",
            "_view_count": null,
            "_view_module": "@jupyter-widgets/base",
            "_view_module_version": "1.2.0",
            "_view_name": "LayoutView",
            "align_content": null,
            "align_items": null,
            "align_self": null,
            "border": null,
            "bottom": null,
            "display": null,
            "flex": null,
            "flex_flow": null,
            "grid_area": null,
            "grid_auto_columns": null,
            "grid_auto_flow": null,
            "grid_auto_rows": null,
            "grid_column": null,
            "grid_gap": null,
            "grid_row": null,
            "grid_template_areas": null,
            "grid_template_columns": null,
            "grid_template_rows": null,
            "height": null,
            "justify_content": null,
            "justify_items": null,
            "left": null,
            "margin": null,
            "max_height": null,
            "max_width": null,
            "min_height": null,
            "min_width": null,
            "object_fit": null,
            "object_position": null,
            "order": null,
            "overflow": null,
            "overflow_x": null,
            "overflow_y": null,
            "padding": null,
            "right": null,
            "top": null,
            "visibility": null,
            "width": null
          }
        },
        "a5407d0e2abf43079534782a2488fddb": {
          "model_module": "@jupyter-widgets/controls",
          "model_name": "ProgressStyleModel",
          "model_module_version": "1.5.0",
          "state": {
            "_model_module": "@jupyter-widgets/controls",
            "_model_module_version": "1.5.0",
            "_model_name": "ProgressStyleModel",
            "_view_count": null,
            "_view_module": "@jupyter-widgets/base",
            "_view_module_version": "1.2.0",
            "_view_name": "StyleView",
            "bar_color": null,
            "description_width": ""
          }
        },
        "735dca6ed67046f587fb18e8787c5b76": {
          "model_module": "@jupyter-widgets/base",
          "model_name": "LayoutModel",
          "model_module_version": "1.2.0",
          "state": {
            "_model_module": "@jupyter-widgets/base",
            "_model_module_version": "1.2.0",
            "_model_name": "LayoutModel",
            "_view_count": null,
            "_view_module": "@jupyter-widgets/base",
            "_view_module_version": "1.2.0",
            "_view_name": "LayoutView",
            "align_content": null,
            "align_items": null,
            "align_self": null,
            "border": null,
            "bottom": null,
            "display": null,
            "flex": null,
            "flex_flow": null,
            "grid_area": null,
            "grid_auto_columns": null,
            "grid_auto_flow": null,
            "grid_auto_rows": null,
            "grid_column": null,
            "grid_gap": null,
            "grid_row": null,
            "grid_template_areas": null,
            "grid_template_columns": null,
            "grid_template_rows": null,
            "height": null,
            "justify_content": null,
            "justify_items": null,
            "left": null,
            "margin": null,
            "max_height": null,
            "max_width": null,
            "min_height": null,
            "min_width": null,
            "object_fit": null,
            "object_position": null,
            "order": null,
            "overflow": null,
            "overflow_x": null,
            "overflow_y": null,
            "padding": null,
            "right": null,
            "top": null,
            "visibility": null,
            "width": null
          }
        },
        "66f430bc51f449c2bc01ef917f3e2a12": {
          "model_module": "@jupyter-widgets/controls",
          "model_name": "DescriptionStyleModel",
          "model_module_version": "1.5.0",
          "state": {
            "_model_module": "@jupyter-widgets/controls",
            "_model_module_version": "1.5.0",
            "_model_name": "DescriptionStyleModel",
            "_view_count": null,
            "_view_module": "@jupyter-widgets/base",
            "_view_module_version": "1.2.0",
            "_view_name": "StyleView",
            "description_width": ""
          }
        }
      }
    }
  },
  "nbformat": 4,
  "nbformat_minor": 5
}

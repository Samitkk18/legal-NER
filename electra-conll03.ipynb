{
 "cells": [
  {
   "cell_type": "markdown",
   "id": "64d61db9",
   "metadata": {
    "id": "64d61db9"
   },
   "source": [
    "Approach: ELECTRA (fine tuning)"
   ]
  },
  {
   "cell_type": "code",
   "execution_count": 1,
   "id": "4a612b43",
   "metadata": {
    "id": "4a612b43"
   },
   "outputs": [],
   "source": [
    "model_name = \"bhadresh-savani/electra-base-discriminator-finetuned-conll03-english\""
   ]
  },
  {
   "cell_type": "markdown",
   "id": "90638300",
   "metadata": {
    "id": "90638300"
   },
   "source": [
    "### Install dependencies"
   ]
  },
  {
   "cell_type": "code",
   "execution_count": 2,
   "id": "585a8356",
   "metadata": {
    "id": "585a8356"
   },
   "outputs": [
    {
     "name": "stdout",
     "output_type": "stream",
     "text": [
      "\u001b[33mWARNING: Ignoring invalid distribution -rotobuf (/home/rsangal/.local/lib/python3.9/site-packages)\u001b[0m\n",
      "\u001b[33mWARNING: Ignoring invalid distribution -rotobuf (/home/rsangal/.local/lib/python3.9/site-packages)\u001b[0m\n",
      "\u001b[33mWARNING: Ignoring invalid distribution -rotobuf (/home/rsangal/.local/lib/python3.9/site-packages)\u001b[0m\n",
      "\u001b[33mWARNING: Ignoring invalid distribution -rotobuf (/home/rsangal/.local/lib/python3.9/site-packages)\u001b[0m\n",
      "\u001b[33mWARNING: Ignoring invalid distribution -rotobuf (/home/rsangal/.local/lib/python3.9/site-packages)\u001b[0m\n",
      "\u001b[33mWARNING: Ignoring invalid distribution -rotobuf (/home/rsangal/.local/lib/python3.9/site-packages)\u001b[0m\n",
      "\u001b[33mWARNING: Ignoring invalid distribution -rotobuf (/home/rsangal/.local/lib/python3.9/site-packages)\u001b[0m\n",
      "\u001b[33mWARNING: Ignoring invalid distribution -rotobuf (/home/rsangal/.local/lib/python3.9/site-packages)\u001b[0m\n",
      "\u001b[33mWARNING: Ignoring invalid distribution -rotobuf (/home/rsangal/.local/lib/python3.9/site-packages)\u001b[0m\n",
      "\u001b[33mWARNING: Ignoring invalid distribution -rotobuf (/home/rsangal/.local/lib/python3.9/site-packages)\u001b[0m\n",
      "\u001b[33mWARNING: Ignoring invalid distribution -rotobuf (/home/rsangal/.local/lib/python3.9/site-packages)\u001b[0m\n",
      "\u001b[33mWARNING: Ignoring invalid distribution -rotobuf (/home/rsangal/.local/lib/python3.9/site-packages)\u001b[0m\n",
      "\u001b[33mWARNING: Ignoring invalid distribution -rotobuf (/home/rsangal/.local/lib/python3.9/site-packages)\u001b[0m\n",
      "\u001b[33mWARNING: Ignoring invalid distribution -rotobuf (/home/rsangal/.local/lib/python3.9/site-packages)\u001b[0m\n",
      "\u001b[33mWARNING: Ignoring invalid distribution -rotobuf (/home/rsangal/.local/lib/python3.9/site-packages)\u001b[0m\n",
      "\u001b[33mWARNING: Ignoring invalid distribution -rotobuf (/home/rsangal/.local/lib/python3.9/site-packages)\u001b[0m\n",
      "\u001b[33mWARNING: Ignoring invalid distribution -rotobuf (/home/rsangal/.local/lib/python3.9/site-packages)\u001b[0m\n",
      "\u001b[33mWARNING: Ignoring invalid distribution -rotobuf (/home/rsangal/.local/lib/python3.9/site-packages)\u001b[0m\n",
      "\u001b[33mWARNING: Ignoring invalid distribution -rotobuf (/home/rsangal/.local/lib/python3.9/site-packages)\u001b[0m\n",
      "\u001b[33mWARNING: Ignoring invalid distribution -rotobuf (/home/rsangal/.local/lib/python3.9/site-packages)\u001b[0m\n",
      "\u001b[33mWARNING: Ignoring invalid distribution -rotobuf (/home/rsangal/.local/lib/python3.9/site-packages)\u001b[0m\n",
      "\u001b[33mWARNING: Ignoring invalid distribution -rotobuf (/home/rsangal/.local/lib/python3.9/site-packages)\u001b[0m\n",
      "\u001b[33mWARNING: Ignoring invalid distribution -rotobuf (/home/rsangal/.local/lib/python3.9/site-packages)\u001b[0m\n",
      "\u001b[33mWARNING: Ignoring invalid distribution -rotobuf (/home/rsangal/.local/lib/python3.9/site-packages)\u001b[0m\n",
      "\u001b[33mWARNING: Ignoring invalid distribution -rotobuf (/home/rsangal/.local/lib/python3.9/site-packages)\u001b[0m\n",
      "\u001b[33mWARNING: Ignoring invalid distribution -rotobuf (/home/rsangal/.local/lib/python3.9/site-packages)\u001b[0m\n",
      "\u001b[33mWARNING: Ignoring invalid distribution -rotobuf (/home/rsangal/.local/lib/python3.9/site-packages)\u001b[0m\n",
      "\u001b[33mWARNING: Ignoring invalid distribution -rotobuf (/home/rsangal/.local/lib/python3.9/site-packages)\u001b[0m\n",
      "\u001b[33mWARNING: Ignoring invalid distribution -rotobuf (/home/rsangal/.local/lib/python3.9/site-packages)\u001b[0m\n",
      "\u001b[33mWARNING: Ignoring invalid distribution -rotobuf (/home/rsangal/.local/lib/python3.9/site-packages)\u001b[0m\n"
     ]
    }
   ],
   "source": [
    "!pip install tokenizers -q\n",
    "!pip install transformers -q\n",
    "!pip install transformers[torch] -q\n",
    "!pip install seqeval -q  \n",
    "!pip install evaluate -q"
   ]
  },
  {
   "cell_type": "code",
   "execution_count": 3,
   "id": "ffb68db3",
   "metadata": {
    "id": "ffb68db3"
   },
   "outputs": [],
   "source": [
    "import spacy\n",
    "import numpy as np\n",
    "import pandas as pd\n",
    "import json\n",
    "from sklearn.metrics import classification_report, precision_score, recall_score, f1_score\n",
    "from sklearn.preprocessing import LabelEncoder\n",
    "from sklearn.model_selection import train_test_split, KFold\n",
    "from transformers import AutoTokenizer, ElectraTokenizerFast, TrainingArguments, Trainer, DataCollatorForTokenClassification, TrainerCallback\n",
    "from datasets import DatasetDict, Dataset, load_metric, load_from_disk\n",
    "import traceback\n",
    "from tqdm import tqdm\n",
    "from evaluate import load\n",
    "import matplotlib.pyplot as plt\n",
    "\n",
    "import torch\n",
    "from torch.utils.data import DataLoader\n",
    "from transformers import AutoModelForTokenClassification, ElectraForTokenClassification, AdamW\n",
    "# from google.colab import drive\n",
    "import warnings\n",
    "import pickle"
   ]
  },
  {
   "cell_type": "code",
   "execution_count": 4,
   "id": "olHUJ15D_z-R",
   "metadata": {
    "id": "olHUJ15D_z-R"
   },
   "outputs": [],
   "source": [
    "class EmptyCacheCallback(TrainerCallback):\n",
    "    def on_train_batch_end(self, args, state, control, *_) -> None:\n",
    "        torch.cuda.empty_cache()\n",
    "\n",
    "# Instantiate the EmptyCacheCallback\n",
    "empty_cache_callback = EmptyCacheCallback()"
   ]
  },
  {
   "cell_type": "code",
   "execution_count": 5,
   "id": "i00JNPrT-YDS",
   "metadata": {
    "colab": {
     "base_uri": "https://localhost:8080/"
    },
    "id": "i00JNPrT-YDS",
    "outputId": "a411f6f2-dd01-4d38-a612-21ffc23a60b6"
   },
   "outputs": [],
   "source": [
    "# drive.mount('/content/drive')\n",
    "# %cd /content/drive/MyDrive/256_Project\n",
    "PATH = '/home/rsangal/private/256_Project'\n",
    "MODEL_PATH = PATH + '/electra-fine-tune'"
   ]
  },
  {
   "cell_type": "markdown",
   "id": "bccead0b",
   "metadata": {
    "id": "bccead0b"
   },
   "source": [
    "### Load dataset (skip when needed)"
   ]
  },
  {
   "cell_type": "code",
   "execution_count": null,
   "id": "a56ac0f7",
   "metadata": {
    "id": "a56ac0f7"
   },
   "outputs": [],
   "source": [
    "with open('data/NER_TRAIN_JUDGEMENT.json', 'r') as f:\n",
    "    train_judge = json.load(f)\n",
    "\n",
    "with open('data/NER_TRAIN_PREAMBLE.json', 'r') as f:\n",
    "    train_preamble = json.load(f)\n",
    "    \n",
    "with open('data/NER_DEV_JUDGEMENT.json', 'r') as f:\n",
    "    test_judge = json.load(f)\n",
    "    \n",
    "with open('data/NER_DEV_PREAMBLE.json', 'r') as f:\n",
    "    test_preamble = json.load(f)"
   ]
  },
  {
   "cell_type": "code",
   "execution_count": null,
   "id": "2a93f815",
   "metadata": {
    "colab": {
     "base_uri": "https://localhost:8080/"
    },
    "id": "2a93f815",
    "outputId": "2609f869-5cee-40a0-aeb3-413593185b7d"
   },
   "outputs": [],
   "source": [
    "len(train_judge), len(train_preamble), len(test_judge), len(test_preamble)"
   ]
  },
  {
   "cell_type": "code",
   "execution_count": null,
   "id": "c204b9b1",
   "metadata": {
    "colab": {
     "base_uri": "https://localhost:8080/"
    },
    "id": "c204b9b1",
    "outputId": "b9e52160-391e-4d75-e935-666fd262ce79"
   },
   "outputs": [],
   "source": [
    "test_judge[0]"
   ]
  },
  {
   "cell_type": "code",
   "execution_count": null,
   "id": "c854f19f",
   "metadata": {
    "id": "c854f19f"
   },
   "outputs": [],
   "source": [
    "# test_preamble[0]"
   ]
  },
  {
   "cell_type": "markdown",
   "id": "6e5603c6",
   "metadata": {
    "id": "6e5603c6"
   },
   "source": [
    "### Initializing tokenizer & Label Encoder"
   ]
  },
  {
   "cell_type": "code",
   "execution_count": 6,
   "id": "ce04559c",
   "metadata": {
    "colab": {
     "base_uri": "https://localhost:8080/"
    },
    "id": "ce04559c",
    "outputId": "db86abd5-2f39-4695-8152-edbf03f17957"
   },
   "outputs": [
    {
     "name": "stdout",
     "output_type": "stream",
     "text": [
      "NO_TAG\n",
      "[ 6  1  9 12  4  5  2  7  3 13 11 10  0 14  8]\n",
      "<class 'numpy.ndarray'>\n"
     ]
    }
   ],
   "source": [
    "ner_labels = ['NO_TAG', 'COURT', 'PETITIONER', 'RESPONDENT', 'JUDGE', 'LAWYER', 'DATE', 'ORG', 'GPE', 'STATUTE',\n",
    "              'PROVISION', 'PRECEDENT', 'CASE_NUMBER', 'WITNESS', 'OTHER_PERSON']\n",
    "\n",
    "label_encoder = LabelEncoder()\n",
    "label_encoder.fit(ner_labels)\n",
    "\n",
    "encoded_labels = label_encoder.transform(ner_labels)\n",
    "print(label_encoder.inverse_transform([6])[0])\n",
    "# label_encoder.transform(['NO_TAG'])[0]\n",
    "\n",
    "print(encoded_labels)\n",
    "print(type(encoded_labels))"
   ]
  },
  {
   "cell_type": "code",
   "execution_count": 7,
   "id": "4aba5c7d",
   "metadata": {
    "id": "4aba5c7d"
   },
   "outputs": [],
   "source": [
    "# tokenizer = AutoTokenizer.from_pretrained(\"microsoft/deberta-base\", is_split_into_words=True)\n",
    "# tokenizer = BertTokenizer.from_pretrained(\"bert-base-uncased\", is_split_into_words=True)\n",
    "\n",
    "tokenizer = ElectraTokenizerFast.from_pretrained(model_name)\n"
   ]
  },
  {
   "cell_type": "code",
   "execution_count": null,
   "id": "722c3fdb",
   "metadata": {
    "id": "722c3fdb"
   },
   "outputs": [],
   "source": [
    "# Test Example\n",
    "# text = \"Hello, World eating\"\n",
    "# text = \"True, our Constitution has no 'due process' clause or the VIII Amendment; but, \\\n",
    "# in this branch of law, after R.C. Cooper v. Union of India, (1970) 1 SCC 248 and Maneka Gandhi v.\\\n",
    "# Union of India, (1978) 1 SCC 248, the consequence is the same.\"\n",
    "# tokenized_output = tokenizer(text, truncation=True, padding=True, return_offsets_mapping=True, return_tensors=\"pt\")\n",
    "# tokens = tokenizer.convert_ids_to_tokens(tokenized_output[\"input_ids\"][0])\n",
    "\n",
    "# print(tokens)\n",
    "# print(len(tokens))\n",
    "# print(tokenized_output)\n",
    "# print(tokenized_output.input_ids)\n",
    "# print(type(tokenized_output))\n",
    "# print(tokenized_output.word_ids())\n",
    "\n"
   ]
  },
  {
   "cell_type": "markdown",
   "id": "D911TlIev-7c",
   "metadata": {
    "id": "D911TlIev-7c"
   },
   "source": [
    "### Data Preprocessing (skip when needed)"
   ]
  },
  {
   "cell_type": "markdown",
   "id": "0AcN9Sk-zXxp",
   "metadata": {
    "id": "0AcN9Sk-zXxp"
   },
   "source": [
    "Start, end in dataset is 1 indexed <br/>\n",
    "start - starts from 1 <br/>\n",
    "end - 1 character after the word"
   ]
  },
  {
   "cell_type": "code",
   "execution_count": null,
   "id": "0dd4b7e5",
   "metadata": {
    "id": "0dd4b7e5"
   },
   "outputs": [],
   "source": [
    "def get_token_start(start, end, offsets_mapping, word_ids):\n",
    "    token_start = None\n",
    "    for i, interval in enumerate(offsets_mapping):\n",
    "        left, right = interval\n",
    "        if left<=start<right:\n",
    "            token_start = i\n",
    "            break\n",
    "            \n",
    "        if left>start:\n",
    "            token_start = i\n",
    "            break\n",
    "    \n",
    "    if token_start>0:\n",
    "        if word_ids[token_start-1]==word_ids[token_start]:\n",
    "            token_start -=1\n",
    "        \n",
    "    return token_start\n",
    "\n",
    "def get_token_end(start, end, offsets_mapping, word_ids):\n",
    "    token_end = None\n",
    "    for i, interval in enumerate(offsets_mapping):\n",
    "        left, right = interval\n",
    "        if left<end<=right:\n",
    "            token_end = i\n",
    "            break\n",
    "            \n",
    "        if left>=end:\n",
    "            token_end = i\n",
    "            break\n",
    "    \n",
    "    if token_end<len(word_ids)-1:\n",
    "        if word_ids[token_end+1]==word_ids[token_end]:\n",
    "            token_end +=1\n",
    "        \n",
    "    return token_end"
   ]
  },
  {
   "cell_type": "code",
   "execution_count": null,
   "id": "852c2b3e",
   "metadata": {
    "id": "852c2b3e",
    "scrolled": true
   },
   "outputs": [],
   "source": [
    "def process_individual_record(rec):\n",
    "    \n",
    "    text = rec['data']['text']\n",
    "    text = text.replace(\"),\", \") ,\").replace(\").\", \") .\").replace(\"],\", \"] ,\").replace(\"].\", \"] .\")\n",
    "    annotations = rec['annotations'][0]['result']\n",
    "\n",
    "    # Get the start and end positions of annotated tokens\n",
    "    annotated_token_positions = [(ann['value']['start'], ann['value']['end']) for ann in annotations]\n",
    "\n",
    "    tokenized_inputs = tokenizer(text, padding=\"max_length\", max_length=120, truncation= True, return_offsets_mapping=True, return_tensors=\"pt\") \n",
    "#         tokenized_inputs = tokenizer(text, truncation=True, padding=True, max_length=3500, return_offsets_mapping=True, return_tensors=\"pt\")\n",
    "\n",
    "    input_ids = tokenized_inputs[\"input_ids\"][0]\n",
    "    offsets_mapping = tokenized_inputs[\"offset_mapping\"][0]\n",
    "    word_ids = tokenized_inputs.word_ids()\n",
    "\n",
    "    # Initialize label_ids with NO_TAG for all tokens\n",
    "    label_ids = [label_encoder.transform(['NO_TAG'])[0]] * len(input_ids)\n",
    "    label_ids[0] = -100\n",
    "    label_ids[-1] = -100\n",
    "    \n",
    "    # Assign labels to annotated tokens\n",
    "    for start, end in annotated_token_positions:\n",
    "    \n",
    "        try:\n",
    "            if start>=120 or end>=120: continue\n",
    "\n",
    "            # Find the corresponding token positions in input_ids using offsets_mapping\n",
    "            token_start = get_token_start(start, end, offsets_mapping, word_ids)\n",
    "            token_end = get_token_end(start, end, offsets_mapping, word_ids)   \n",
    "\n",
    "            # Assign the label to the corresponding token(s)\n",
    "            label = [ann['value']['labels'][0] for ann in annotations if ann['value']['start'] == start and ann['value']['end'] == end]\n",
    "            label_id = label_encoder.transform(label)[0]\n",
    "            label_ids[token_start:token_end] = [label_id] * (token_end - token_start)\n",
    "    \n",
    "        except Exception as e:\n",
    "            traceback.print_exc()\n",
    "            print(\"\\n\")\n",
    "            print(\"ERROR :\\n\")\n",
    "            print(rec)\n",
    "            print(\"\\n\")\n",
    "            print(tokenizer.convert_ids_to_tokens(input_ids))\n",
    "            print(start)\n",
    "            print(end)\n",
    "    #         print(rec['data']['text'])\n",
    "            print(offsets_mapping)\n",
    "        \n",
    "            continue\n",
    "        \n",
    "    assert len(label_ids)==len(input_ids)\n",
    "\n",
    "    row = {\n",
    "        \"input_ids\": tokenized_inputs[\"input_ids\"][0],\n",
    "        \"attention_mask\": tokenized_inputs[\"attention_mask\"][0],\n",
    "        \"labels\": torch.tensor(label_ids)\n",
    "    }\n",
    "    \n",
    "    return row"
   ]
  },
  {
   "cell_type": "code",
   "execution_count": null,
   "id": "3c7cf552",
   "metadata": {
    "colab": {
     "base_uri": "https://localhost:8080/"
    },
    "id": "3c7cf552",
    "outputId": "91b02d4a-7b98-4ca0-b31d-1b6dcb727efa",
    "scrolled": false
   },
   "outputs": [],
   "source": [
    "# Prepare train & val set\n",
    "combined_train_data = train_judge + train_preamble\n",
    "rows = []\n",
    "for rec in tqdm(combined_train_data):\n",
    "    row = process_individual_record(rec)\n",
    "    rows.append(row)\n"
   ]
  },
  {
   "cell_type": "code",
   "execution_count": null,
   "id": "50645acd",
   "metadata": {
    "colab": {
     "base_uri": "https://localhost:8080/"
    },
    "id": "50645acd",
    "outputId": "2bf9bfd2-930e-49d6-8c41-d13e675dde09"
   },
   "outputs": [],
   "source": [
    "train_data, val_data = train_test_split(rows, test_size=995, random_state=42)\n",
    "\n",
    "train_dic = {key: [dic[key] for dic in train_data] for key in train_data[0]}\n",
    "val_dic = {key: [dic[key] for dic in val_data] for key in val_data[0]}\n",
    "\n",
    "train_dataset = Dataset.from_dict(train_dic)\n",
    "val_dataset = Dataset.from_dict(val_dic)\n",
    "\n",
    "print(train_dataset)\n",
    "print(val_dataset)"
   ]
  },
  {
   "cell_type": "code",
   "execution_count": null,
   "id": "ed9d6c9f",
   "metadata": {
    "colab": {
     "base_uri": "https://localhost:8080/"
    },
    "id": "ed9d6c9f",
    "outputId": "e86e92f2-9f7c-49d3-9756-baa243e6d96e"
   },
   "outputs": [],
   "source": [
    "# Prepare test set \n",
    "combined_test_data = test_judge + test_preamble\n",
    "rows = []\n",
    "for rec in tqdm(combined_test_data):\n",
    "    row = process_individual_record(rec)\n",
    "    rows.append(row)\n",
    "    \n",
    "data_dict = {key: [dic[key] for dic in rows] for key in rows[0]}\n",
    "test_dataset = Dataset.from_dict(data_dict)\n",
    "\n",
    "print(test_dataset)"
   ]
  },
  {
   "cell_type": "code",
   "execution_count": null,
   "id": "d3e2ea74",
   "metadata": {
    "colab": {
     "base_uri": "https://localhost:8080/"
    },
    "id": "d3e2ea74",
    "outputId": "b64d0279-84ad-4df3-8524-051ddb768749",
    "scrolled": false
   },
   "outputs": [],
   "source": [
    "tokenized_dataset = DatasetDict({\n",
    "    \"train\": train_dataset,\n",
    "    \"validation\": val_dataset,\n",
    "    \"test\": test_dataset\n",
    "})\n",
    "\n",
    "tokenized_dataset"
   ]
  },
  {
   "cell_type": "code",
   "execution_count": null,
   "id": "7b29324a",
   "metadata": {
    "id": "7b29324a"
   },
   "outputs": [],
   "source": [
    "del rows, data_dict, train_data, val_data, train_dic, val_dic, combined_train_data, combined_test_data, test_judge, test_preamble, train_judge, train_preamble"
   ]
  },
  {
   "cell_type": "code",
   "execution_count": null,
   "id": "6cff8211",
   "metadata": {
    "colab": {
     "base_uri": "https://localhost:8080/",
     "height": 17,
     "referenced_widgets": [
      "f3bce2f23c06448295c0f9f26eccd948",
      "f5e10bf9a05b46c9a477b21f073130db",
      "9e189fbf3637449980ad090fcde1506e",
      "f5edd0ff89364df79c7a3cb82e0988f9",
      "125c3dab171649808ca2fab4e25f4fe5",
      "1e1a1e6d5ee0442d9ef93e9ef483f5be",
      "e7739db464164e23858f9178b09766c3",
      "106a29bcf860466591ecc3f48628cba0",
      "296376fb3de1415ba6b34b38a99f0ebe",
      "0e3c3939eb5b4ee08c77a861296795e2",
      "c3a9f30585a440fcaf77b8adfd863a33",
      "d69e09bc93844d9cb23e3b29482b8117",
      "9c7f4a6f80e24ae0acafcea03ae15df9",
      "e9fa51c8515a45aaa6ad6999804802b4",
      "4753b00f5e7644d9bfae36a060ad8045",
      "66c1878a0ded429eb2d43df6b69fae91",
      "7bbb733f7ea648d7a31ef8774cc0e50b",
      "ac4c92922a1b4436bd9aa5119ea6701c",
      "b9ad36f73ffe4b2a891c7a6782ea6afd",
      "c8ef9c2bb39d4369afd1ee8963a499ab",
      "2db54a08f9b1459d9eb63d141b0af3dc",
      "5d6b50199d4143fea7e0ad4a9689c1e7",
      "435dd3934a314cf5b1e26056073e0ef2",
      "96b0331a601446188c8db1a23a4a1a39",
      "28817afa98134655b4cfbcfc678d4925",
      "a9c98a3b272a4dd39c0eba9a755d3734",
      "319195f990d1483a95d7dc6cdc24c8dc",
      "4c78a49ed52f465cb0c55eb1cb9bd2a2",
      "41fb5dfaffac4404964fbdca5f639983",
      "daba0a1b72b94109a87403c1068085d7",
      "b91bf6bfd98843d69f15ef32212cfc10",
      "c1818206ae9d46d78a5c15cf885f5ae2",
      "f2aacfbeb4084a85b3044cbafdd5c0a4"
     ]
    },
    "id": "6cff8211",
    "outputId": "9f1d7a1b-df57-4b62-97e2-dbcd95a99674"
   },
   "outputs": [],
   "source": [
    "tokenized_dataset.save_to_disk(MODEL_PATH + \"/dataset\")"
   ]
  },
  {
   "cell_type": "markdown",
   "id": "a6c784f1",
   "metadata": {
    "id": "a6c784f1"
   },
   "source": [
    "### Load tokenized data"
   ]
  },
  {
   "cell_type": "code",
   "execution_count": 8,
   "id": "8bf33a40",
   "metadata": {
    "id": "8bf33a40"
   },
   "outputs": [],
   "source": [
    "tokenized_dataset = load_from_disk(MODEL_PATH + \"/dataset\")"
   ]
  },
  {
   "cell_type": "code",
   "execution_count": 9,
   "id": "DCsKekxsvns-",
   "metadata": {
    "id": "DCsKekxsvns-"
   },
   "outputs": [],
   "source": [
    "# sanity check\n",
    "\n",
    "for example in tokenized_dataset[\"train\"]:\n",
    "    assert len(example[\"input_ids\"]) == 120\n",
    "    assert len(example[\"attention_mask\"]) == 120\n",
    "    assert len(example[\"labels\"]) == 120"
   ]
  },
  {
   "cell_type": "code",
   "execution_count": 10,
   "id": "5c02c54e",
   "metadata": {
    "colab": {
     "base_uri": "https://localhost:8080/"
    },
    "id": "5c02c54e",
    "outputId": "d3f80705-3c87-41c9-a5c8-633e2d2bb528"
   },
   "outputs": [
    {
     "data": {
      "text/plain": [
       "DataCollatorForTokenClassification(tokenizer=PreTrainedTokenizerFast(name_or_path='bhadresh-savani/electra-base-discriminator-finetuned-conll03-english', vocab_size=30522, model_max_len=512, is_fast=True, padding_side='right', truncation_side='right', special_tokens={'unk_token': '[UNK]', 'sep_token': '[SEP]', 'pad_token': '[PAD]', 'cls_token': '[CLS]', 'mask_token': '[MASK]'}), padding=True, max_length=None, pad_to_multiple_of=None, label_pad_token_id=-100, return_tensors='pt')"
      ]
     },
     "execution_count": 10,
     "metadata": {},
     "output_type": "execute_result"
    }
   ],
   "source": [
    "# data_collator = DataCollatorForTokenClassification(tokenizer, padding=\"max_length\", max_length=3500)\n",
    "data_collator = DataCollatorForTokenClassification(tokenizer)\n",
    "data_collator"
   ]
  },
  {
   "cell_type": "markdown",
   "id": "0557d527",
   "metadata": {
    "id": "0557d527"
   },
   "source": [
    "### Initialize Model"
   ]
  },
  {
   "cell_type": "code",
   "execution_count": 11,
   "id": "889a19b2",
   "metadata": {
    "colab": {
     "base_uri": "https://localhost:8080/"
    },
    "id": "889a19b2",
    "outputId": "c80973e2-13d2-449c-db8e-4442c3a79135"
   },
   "outputs": [
    {
     "data": {
      "text/plain": [
       "device(type='cuda')"
      ]
     },
     "execution_count": 11,
     "metadata": {},
     "output_type": "execute_result"
    }
   ],
   "source": [
    "# check if gpu is present\n",
    "device = torch.device('cuda') if torch.cuda.is_available() else torch.device('cpu')\n",
    "device"
   ]
  },
  {
   "cell_type": "code",
   "execution_count": 12,
   "id": "bb8de149",
   "metadata": {
    "id": "bb8de149"
   },
   "outputs": [],
   "source": [
    "def get_prepared_model():\n",
    "  \"\"\"Get a new non-finetuned Model\"\"\"\n",
    "  torch.cuda.empty_cache() # save GPU memory\n",
    "  model = AutoModelForTokenClassification.from_pretrained(model_name, num_labels=len(ner_labels), ignore_mismatched_sizes=True)\n",
    "#   model = ElectraForTokenClassification.from_pretrained(model_name, num_labels=len(ner_labels))\n",
    "  model.to(device)\n",
    "  model.train() # fine tuned entire model rather than just the head\n",
    "  return model"
   ]
  },
  {
   "cell_type": "code",
   "execution_count": 13,
   "id": "8d0dece9",
   "metadata": {
    "id": "8d0dece9"
   },
   "outputs": [],
   "source": [
    "metric = load(\"seqeval\")\n",
    "\n",
    "def compute_metrics(p):\n",
    "    predictions, labels = p\n",
    "\n",
    "    #select predicted index with maximum logit for each token\n",
    "    predictions = np.argmax(predictions, axis=2)\n",
    "\n",
    "    # Remove ignored index (special tokens)\n",
    "    true_predictions = [\n",
    "        [label_encoder.inverse_transform([p])[0] for (p, l) in zip(prediction, label) if l != -100]\n",
    "        for prediction, label in zip(predictions, labels)\n",
    "    ]\n",
    "    true_labels = [\n",
    "        [label_encoder.inverse_transform([l])[0] for (p, l) in zip(prediction, label) if l != -100]\n",
    "        for prediction, label in zip(predictions, labels)\n",
    "    ]\n",
    "\n",
    "    results = metric.compute(predictions=true_predictions, references=true_labels)\n",
    "    return {\n",
    "        \"precision\": results[\"overall_precision\"],\n",
    "        \"recall\": results[\"overall_recall\"],\n",
    "        \"f1\": results[\"overall_f1\"],\n",
    "        \"accuracy\": results[\"overall_accuracy\"],\n",
    "    }\n",
    "     "
   ]
  },
  {
   "cell_type": "markdown",
   "id": "2f9dd3fc",
   "metadata": {
    "id": "2f9dd3fc"
   },
   "source": [
    "### Fine tuning"
   ]
  },
  {
   "cell_type": "code",
   "execution_count": 16,
   "id": "a9298891",
   "metadata": {
    "colab": {
     "base_uri": "https://localhost:8080/"
    },
    "id": "a9298891",
    "outputId": "d971e36e-e982-4dda-c2fd-6091298b999a"
   },
   "outputs": [
    {
     "name": "stderr",
     "output_type": "stream",
     "text": [
      "Some weights of ElectraForTokenClassification were not initialized from the model checkpoint at bhadresh-savani/electra-base-discriminator-finetuned-conll03-english and are newly initialized because the shapes did not match:\n",
      "- classifier.weight: found shape torch.Size([9, 768]) in the checkpoint and torch.Size([15, 768]) in the model instantiated\n",
      "- classifier.bias: found shape torch.Size([9]) in the checkpoint and torch.Size([15]) in the model instantiated\n",
      "You should probably TRAIN this model on a down-stream task to be able to use it for predictions and inference.\n"
     ]
    }
   ],
   "source": [
    "batch_size = 16\n",
    "logging_steps = len(tokenized_dataset['train']) // batch_size\n",
    "epochs = 10\n",
    "\n",
    "model = get_prepared_model()\n",
    "\n",
    "# Training Args\n",
    "\n",
    "training_args = TrainingArguments(\n",
    "    output_dir = MODEL_PATH + '/',\n",
    "    num_train_epochs = epochs,\n",
    "    per_device_train_batch_size = batch_size,\n",
    "    per_device_eval_batch_size = batch_size,\n",
    "    evaluation_strategy = \"epoch\",\n",
    "    disable_tqdm = False,\n",
    "    save_strategy = \"no\",\n",
    "    logging_steps = logging_steps,\n",
    "    gradient_accumulation_steps=1,  # optimization\n",
    "    fp16=True) # optimization :  enable mixed precision training"
   ]
  },
  {
   "cell_type": "code",
   "execution_count": 17,
   "id": "bdf27bb4",
   "metadata": {
    "id": "bdf27bb4"
   },
   "outputs": [
    {
     "name": "stderr",
     "output_type": "stream",
     "text": [
      "Using cuda_amp half precision backend\n"
     ]
    }
   ],
   "source": [
    "trainer = Trainer(\n",
    "    model = model,\n",
    "    args = training_args,\n",
    "    train_dataset = tokenized_dataset[\"train\"],\n",
    "    eval_dataset = tokenized_dataset[\"validation\"],\n",
    "    data_collator = data_collator,\n",
    "    tokenizer = tokenizer,\n",
    "    compute_metrics = compute_metrics,\n",
    "    callbacks=[empty_cache_callback]  # Register the callback\n",
    ")"
   ]
  },
  {
   "cell_type": "code",
   "execution_count": 18,
   "id": "40652672",
   "metadata": {
    "colab": {
     "base_uri": "https://localhost:8080/"
    },
    "id": "40652672",
    "outputId": "95982262-d2e2-4cc9-cca6-36ee6be65fbd"
   },
   "outputs": [
    {
     "data": {
      "text/plain": [
       "(120, 120, 120)"
      ]
     },
     "execution_count": 18,
     "metadata": {},
     "output_type": "execute_result"
    }
   ],
   "source": [
    "len(trainer.train_dataset[-1]['input_ids']), len(trainer.eval_dataset[100]['input_ids']), len(trainer.eval_dataset[5]['attention_mask'])"
   ]
  },
  {
   "cell_type": "code",
   "execution_count": 19,
   "id": "1oeatPu9zFyC",
   "metadata": {
    "id": "1oeatPu9zFyC"
   },
   "outputs": [],
   "source": [
    "torch.cuda.empty_cache()"
   ]
  },
  {
   "cell_type": "code",
   "execution_count": 20,
   "id": "LKX1nFIPT46L",
   "metadata": {
    "id": "LKX1nFIPT46L"
   },
   "outputs": [],
   "source": [
    "warnings.filterwarnings(\"ignore\", category=UserWarning) # Suppress the Seqeval warning"
   ]
  },
  {
   "cell_type": "code",
   "execution_count": 23,
   "id": "f307e1b1",
   "metadata": {
    "colab": {
     "base_uri": "https://localhost:8080/",
     "height": 947
    },
    "id": "f307e1b1",
    "outputId": "82d6bc45-ad4f-4137-afdc-4afe208b93be"
   },
   "outputs": [
    {
     "name": "stderr",
     "output_type": "stream",
     "text": [
      "***** Running training *****\n",
      "  Num examples = 10000\n",
      "  Num Epochs = 10\n",
      "  Instantaneous batch size per device = 16\n",
      "  Total train batch size (w. parallel, distributed & accumulation) = 16\n",
      "  Gradient Accumulation steps = 1\n",
      "  Total optimization steps = 6250\n",
      "/home/rsangal/.local/lib/python3.9/site-packages/transformers/trainer.py:1696: FutureWarning: Non-finite norm encountered in torch.nn.utils.clip_grad_norm_; continuing anyway. Note that the default behavior will change in a future release to error out if a non-finite total norm is encountered. At that point, setting error_if_nonfinite=false will be required to retain the old behavior.\n",
      "  nn.utils.clip_grad_norm_(\n"
     ]
    },
    {
     "data": {
      "text/html": [
       "\n",
       "    <div>\n",
       "      \n",
       "      <progress value='6250' max='6250' style='width:300px; height:20px; vertical-align: middle;'></progress>\n",
       "      [6250/6250 24:42, Epoch 10/10]\n",
       "    </div>\n",
       "    <table border=\"1\" class=\"dataframe\">\n",
       "  <thead>\n",
       " <tr style=\"text-align: left;\">\n",
       "      <th>Epoch</th>\n",
       "      <th>Training Loss</th>\n",
       "      <th>Validation Loss</th>\n",
       "      <th>Precision</th>\n",
       "      <th>Recall</th>\n",
       "      <th>F1</th>\n",
       "      <th>Accuracy</th>\n",
       "    </tr>\n",
       "  </thead>\n",
       "  <tbody>\n",
       "    <tr>\n",
       "      <td>1</td>\n",
       "      <td>0.090100</td>\n",
       "      <td>0.035261</td>\n",
       "      <td>0.742154</td>\n",
       "      <td>0.834313</td>\n",
       "      <td>0.785540</td>\n",
       "      <td>0.988212</td>\n",
       "    </tr>\n",
       "    <tr>\n",
       "      <td>2</td>\n",
       "      <td>0.029800</td>\n",
       "      <td>0.032650</td>\n",
       "      <td>0.771491</td>\n",
       "      <td>0.853684</td>\n",
       "      <td>0.810509</td>\n",
       "      <td>0.989430</td>\n",
       "    </tr>\n",
       "    <tr>\n",
       "      <td>3</td>\n",
       "      <td>0.019700</td>\n",
       "      <td>0.031040</td>\n",
       "      <td>0.803514</td>\n",
       "      <td>0.869941</td>\n",
       "      <td>0.835409</td>\n",
       "      <td>0.990640</td>\n",
       "    </tr>\n",
       "    <tr>\n",
       "      <td>4</td>\n",
       "      <td>0.013700</td>\n",
       "      <td>0.034363</td>\n",
       "      <td>0.802929</td>\n",
       "      <td>0.872363</td>\n",
       "      <td>0.836207</td>\n",
       "      <td>0.990776</td>\n",
       "    </tr>\n",
       "    <tr>\n",
       "      <td>5</td>\n",
       "      <td>0.009500</td>\n",
       "      <td>0.034635</td>\n",
       "      <td>0.823452</td>\n",
       "      <td>0.869595</td>\n",
       "      <td>0.845895</td>\n",
       "      <td>0.991347</td>\n",
       "    </tr>\n",
       "    <tr>\n",
       "      <td>6</td>\n",
       "      <td>0.006800</td>\n",
       "      <td>0.037791</td>\n",
       "      <td>0.825339</td>\n",
       "      <td>0.863023</td>\n",
       "      <td>0.843761</td>\n",
       "      <td>0.991432</td>\n",
       "    </tr>\n",
       "    <tr>\n",
       "      <td>7</td>\n",
       "      <td>0.004900</td>\n",
       "      <td>0.039873</td>\n",
       "      <td>0.831083</td>\n",
       "      <td>0.873054</td>\n",
       "      <td>0.851552</td>\n",
       "      <td>0.991236</td>\n",
       "    </tr>\n",
       "    <tr>\n",
       "      <td>8</td>\n",
       "      <td>0.003500</td>\n",
       "      <td>0.042238</td>\n",
       "      <td>0.838861</td>\n",
       "      <td>0.866136</td>\n",
       "      <td>0.852280</td>\n",
       "      <td>0.991474</td>\n",
       "    </tr>\n",
       "    <tr>\n",
       "      <td>9</td>\n",
       "      <td>0.002700</td>\n",
       "      <td>0.045116</td>\n",
       "      <td>0.825345</td>\n",
       "      <td>0.869595</td>\n",
       "      <td>0.846892</td>\n",
       "      <td>0.991083</td>\n",
       "    </tr>\n",
       "    <tr>\n",
       "      <td>10</td>\n",
       "      <td>0.002100</td>\n",
       "      <td>0.044780</td>\n",
       "      <td>0.830095</td>\n",
       "      <td>0.872017</td>\n",
       "      <td>0.850540</td>\n",
       "      <td>0.991440</td>\n",
       "    </tr>\n",
       "  </tbody>\n",
       "</table><p>"
      ],
      "text/plain": [
       "<IPython.core.display.HTML object>"
      ]
     },
     "metadata": {},
     "output_type": "display_data"
    },
    {
     "name": "stderr",
     "output_type": "stream",
     "text": [
      "***** Running Evaluation *****\n",
      "  Num examples = 995\n",
      "  Batch size = 16\n",
      "***** Running Evaluation *****\n",
      "  Num examples = 995\n",
      "  Batch size = 16\n",
      "***** Running Evaluation *****\n",
      "  Num examples = 995\n",
      "  Batch size = 16\n",
      "***** Running Evaluation *****\n",
      "  Num examples = 995\n",
      "  Batch size = 16\n",
      "***** Running Evaluation *****\n",
      "  Num examples = 995\n",
      "  Batch size = 16\n",
      "***** Running Evaluation *****\n",
      "  Num examples = 995\n",
      "  Batch size = 16\n",
      "***** Running Evaluation *****\n",
      "  Num examples = 995\n",
      "  Batch size = 16\n",
      "***** Running Evaluation *****\n",
      "  Num examples = 995\n",
      "  Batch size = 16\n",
      "***** Running Evaluation *****\n",
      "  Num examples = 995\n",
      "  Batch size = 16\n",
      "***** Running Evaluation *****\n",
      "  Num examples = 995\n",
      "  Batch size = 16\n",
      "\n",
      "\n",
      "Training completed. Do not forget to share your model on huggingface.co/models =)\n",
      "\n",
      "\n"
     ]
    },
    {
     "data": {
      "text/plain": [
       "TrainOutput(global_step=6250, training_loss=0.018283052501678467, metrics={'train_runtime': 1482.4669, 'train_samples_per_second': 67.455, 'train_steps_per_second': 4.216, 'total_flos': 6124862520000000.0, 'train_loss': 0.018283052501678467, 'epoch': 10.0})"
      ]
     },
     "execution_count": 23,
     "metadata": {},
     "output_type": "execute_result"
    }
   ],
   "source": [
    "trainer.train()"
   ]
  },
  {
   "cell_type": "code",
   "execution_count": 24,
   "id": "s3xx1pM4iCiR",
   "metadata": {
    "id": "s3xx1pM4iCiR"
   },
   "outputs": [
    {
     "name": "stderr",
     "output_type": "stream",
     "text": [
      "Saving model checkpoint to /home/rsangal/private/256_Project/electra-fine-tune/trained_model\n",
      "Configuration saved in /home/rsangal/private/256_Project/electra-fine-tune/trained_model/config.json\n",
      "Model weights saved in /home/rsangal/private/256_Project/electra-fine-tune/trained_model/pytorch_model.bin\n",
      "tokenizer config file saved in /home/rsangal/private/256_Project/electra-fine-tune/trained_model/tokenizer_config.json\n",
      "Special tokens file saved in /home/rsangal/private/256_Project/electra-fine-tune/trained_model/special_tokens_map.json\n"
     ]
    }
   ],
   "source": [
    "trainer.save_model(MODEL_PATH + '/trained_model')"
   ]
  },
  {
   "cell_type": "code",
   "execution_count": 25,
   "id": "AscW-GLY5myO",
   "metadata": {
    "id": "AscW-GLY5myO"
   },
   "outputs": [],
   "source": [
    "# Save the trainer's log_history\n",
    "with open(MODEL_PATH + '/trainer_log_history.pkl', 'wb') as f:\n",
    "    pickle.dump(trainer.state.log_history, f)"
   ]
  },
  {
   "cell_type": "markdown",
   "id": "6B8SGL-WAqo5",
   "metadata": {
    "id": "6B8SGL-WAqo5"
   },
   "source": [
    "### Load model for inference"
   ]
  },
  {
   "cell_type": "code",
   "execution_count": null,
   "id": "Kspbt9wXGQUZ",
   "metadata": {
    "id": "Kspbt9wXGQUZ"
   },
   "outputs": [],
   "source": [
    "# trained_model_path = MODEL_PATH + '/trained_model'\n",
    "# model_trained = AutoModelForTokenClassification.from_pretrained(trained_model_path)\n",
    "# tokenizer_trained = ElectraTokenizerFast.from_pretrained(trained_model_path)"
   ]
  },
  {
   "cell_type": "code",
   "execution_count": null,
   "id": "9-UCQYX2BRQX",
   "metadata": {
    "id": "9-UCQYX2BRQX"
   },
   "outputs": [],
   "source": [
    "# trainer = Trainer(\n",
    "#     model = model_trained,\n",
    "#     args = training_args, #run training_args block\n",
    "#     train_dataset = tokenized_dataset[\"train\"], #run 'load tokenized data' block\n",
    "#     eval_dataset = tokenized_dataset[\"validation\"], #run 'load tokenized data' block\n",
    "#     data_collator = data_collator, #run 'load tokenized data' block\n",
    "#     tokenizer = tokenizer_trained,\n",
    "#     compute_metrics = compute_metrics,\n",
    "#     callbacks=[empty_cache_callback]  # Register the callback\n",
    "# )"
   ]
  },
  {
   "cell_type": "code",
   "execution_count": 26,
   "id": "zC4wLgoQBBHk",
   "metadata": {
    "id": "zC4wLgoQBBHk"
   },
   "outputs": [],
   "source": [
    "# Load the trainer's log_history\n",
    "with open(MODEL_PATH + '/trainer_log_history.pkl', 'rb') as f:\n",
    "    trainer_log_history = pickle.load(f)"
   ]
  },
  {
   "cell_type": "code",
   "execution_count": 27,
   "id": "l2rfJA7aAfLG",
   "metadata": {
    "colab": {
     "base_uri": "https://localhost:8080/",
     "height": 927
    },
    "id": "l2rfJA7aAfLG",
    "outputId": "c3691eef-67be-4fc5-abbb-b78165b38295"
   },
   "outputs": [
    {
     "data": {
      "image/png": "[encoded data removed]",
      "text/plain": [
       "<Figure size 432x288 with 1 Axes>"
      ]
     },
     "metadata": {
      "needs_background": "light"
     },
     "output_type": "display_data"
    },
    {
     "data": {
      "image/png": "[encoded data removed]",
      "text/plain": [
       "<Figure size 432x288 with 1 Axes>"
      ]
     },
     "metadata": {
      "needs_background": "light"
     },
     "output_type": "display_data"
    }
   ],
   "source": [
    "train_losses = []\n",
    "eval_losses = []\n",
    "f1_values = []\n",
    "# acc_values = []\n",
    "epoch_list = list(range(1, epochs+1))\n",
    "\n",
    "for entry in trainer_log_history:\n",
    "  # print(entry)\n",
    "  if 'loss' in entry:\n",
    "      train_losses.append(entry['loss'])\n",
    "  if 'eval_loss' in entry:\n",
    "      eval_losses.append(entry['eval_loss'])\n",
    "  if 'eval_f1' in entry:\n",
    "      f1_values.append(entry['eval_f1'])\n",
    "\n",
    "# Plot loss curve\n",
    "plt.plot(epoch_list, train_losses, label='Train Loss')\n",
    "plt.plot(epoch_list, eval_losses, label='Eval Loss')\n",
    "\n",
    "plt.xlabel('Epoch')\n",
    "plt.ylabel('Loss')\n",
    "plt.title('Loss Curve')\n",
    "plt.legend()\n",
    "plt.show()\n",
    "\n",
    "# Plot F1 score\n",
    "plt.plot(epoch_list, f1_values, label='F1 Score')\n",
    "plt.xlabel('Epoch')\n",
    "plt.ylabel('F1 Score')\n",
    "plt.title('F1 Score on Validation Set')\n",
    "plt.show()"
   ]
  },
  {
   "cell_type": "markdown",
   "id": "775755f3",
   "metadata": {
    "id": "775755f3"
   },
   "source": [
    "#### Evaluate on Val set"
   ]
  },
  {
   "cell_type": "code",
   "execution_count": 28,
   "id": "e5d65cd5",
   "metadata": {
    "colab": {
     "base_uri": "https://localhost:8080/",
     "height": 200
    },
    "id": "e5d65cd5",
    "outputId": "0d67a134-0614-414b-c5d5-95184650e055"
   },
   "outputs": [
    {
     "name": "stderr",
     "output_type": "stream",
     "text": [
      "***** Running Evaluation *****\n",
      "  Num examples = 995\n",
      "  Batch size = 16\n"
     ]
    },
    {
     "data": {
      "text/html": [
       "\n",
       "    <div>\n",
       "      \n",
       "      <progress value='131' max='63' style='width:300px; height:20px; vertical-align: middle;'></progress>\n",
       "      [63/63 00:20]\n",
       "    </div>\n",
       "    "
      ],
      "text/plain": [
       "<IPython.core.display.HTML object>"
      ]
     },
     "metadata": {},
     "output_type": "display_data"
    },
    {
     "data": {
      "text/plain": [
       "{'eval_loss': 0.04477960616350174,\n",
       " 'eval_precision': 0.8300954889693777,\n",
       " 'eval_recall': 0.8720166032514701,\n",
       " 'eval_f1': 0.8505398110661267,\n",
       " 'eval_accuracy': 0.9914402521079976,\n",
       " 'eval_runtime': 15.6613,\n",
       " 'eval_samples_per_second': 63.532,\n",
       " 'eval_steps_per_second': 4.023,\n",
       " 'epoch': 10.0}"
      ]
     },
     "execution_count": 28,
     "metadata": {},
     "output_type": "execute_result"
    }
   ],
   "source": [
    "trainer.evaluate()"
   ]
  },
  {
   "cell_type": "markdown",
   "id": "ebe8cd8a",
   "metadata": {
    "id": "ebe8cd8a"
   },
   "source": [
    "#### Evaluate on Test set"
   ]
  },
  {
   "cell_type": "code",
   "execution_count": 29,
   "id": "883e8fcf",
   "metadata": {
    "colab": {
     "base_uri": "https://localhost:8080/",
     "height": 17
    },
    "id": "883e8fcf",
    "outputId": "ba578df9-6e35-4cd1-e144-a6afe131b99b"
   },
   "outputs": [
    {
     "name": "stderr",
     "output_type": "stream",
     "text": [
      "***** Running Prediction *****\n",
      "  Num examples = 1074\n",
      "  Batch size = 16\n"
     ]
    }
   ],
   "source": [
    "predictions, labels, _ = trainer.predict(tokenized_dataset[\"test\"])\n",
    "predictions = np.argmax(predictions, axis=2)\n",
    "\n",
    "# Remove ignored index (special tokens)\n",
    "true_predictions = [\n",
    "    [label_encoder.inverse_transform([p])[0] for (p, l) in zip(prediction, label) if l != -100]\n",
    "    for prediction, label in zip(predictions, labels)\n",
    "]\n",
    "\n",
    "true_labels = [\n",
    "    [label_encoder.inverse_transform([l])[0] for (p, l) in zip(prediction, label) if l != -100]\n",
    "    for prediction, label in zip(predictions, labels)\n",
    "]"
   ]
  },
  {
   "cell_type": "code",
   "execution_count": 30,
   "id": "_4245TtoWzLj",
   "metadata": {
    "colab": {
     "base_uri": "https://localhost:8080/"
    },
    "id": "_4245TtoWzLj",
    "outputId": "07ced5a7-7866-465a-c6f8-c863e360711e"
   },
   "outputs": [
    {
     "name": "stdout",
     "output_type": "stream",
     "text": [
      "         Label  Precision    Recall  F1-score  Number\n",
      "0   ASE_NUMBER   0.666667  0.828571  0.738854      70\n",
      "1          ATE   0.925000  0.965217  0.944681     115\n",
      "2    ESPONDENT   0.400000  0.285714  0.333333       7\n",
      "3    ETITIONER   0.458333  0.647059  0.536585      17\n",
      "4       ITNESS   0.951220  0.951220  0.951220      41\n",
      "5         OURT   0.876847  0.946809  0.910486     188\n",
      "6        O_TAG   0.828292  0.868716  0.848023    2049\n",
      "7           PE   0.548387  0.809524  0.653846      42\n",
      "8     RECEDENT   0.577778  0.712329  0.638037      73\n",
      "9     ROVISION   0.850340  0.899281  0.874126     139\n",
      "10      TATUTE   0.885542  0.948387  0.915888     155\n",
      "11        UDGE   0.529412  0.947368  0.679245      19\n",
      "\n",
      "Overall Precision :0.8168158567774936\n",
      "Overall Recall: 0.8765008576329331\n",
      "Overall F1 : 0.8456064868442826\n",
      "Overall Accuracy: 0.9910914370482593\n",
      "\n"
     ]
    }
   ],
   "source": [
    "results = metric.compute(predictions=true_predictions, references=true_labels)\n",
    "\n",
    "results_dict = {\n",
    "    \"Label\": [],\n",
    "    \"Precision\": [],\n",
    "    \"Recall\": [],\n",
    "    \"F1-score\": [],\n",
    "    \"Number\": []\n",
    "}\n",
    "\n",
    "for label, metrics in results.items():\n",
    "    if label != \"overall_precision\" and label != \"overall_recall\" and label != \"overall_f1\" and label != \"overall_accuracy\":\n",
    "        results_dict[\"Label\"].append(label)\n",
    "        results_dict[\"Precision\"].append(metrics[\"precision\"])\n",
    "        results_dict[\"Recall\"].append(metrics[\"recall\"])\n",
    "        results_dict[\"F1-score\"].append(metrics[\"f1\"])\n",
    "        results_dict[\"Number\"].append(metrics[\"number\"])\n",
    "\n",
    "results_df = pd.DataFrame(results_dict)\n",
    "print(results_df)\n",
    "\n",
    "print(f\"\\nOverall Precision :{results['overall_precision']}\\nOverall Recall: {results['overall_recall']}\\nOverall F1 : {results['overall_f1']}\\nOverall Accuracy: {results['overall_accuracy']}\\n\")\n"
   ]
  },
  {
   "cell_type": "markdown",
   "id": "3b549951",
   "metadata": {
    "id": "3b549951"
   },
   "source": [
    "### K FOLD"
   ]
  },
  {
   "cell_type": "code",
   "execution_count": null,
   "id": "85273343",
   "metadata": {
    "id": "85273343"
   },
   "outputs": [],
   "source": [
    "# kf = KFold(n_splits=10)\n",
    "\n",
    "# val_scores = []\n",
    "# fold = 0\n",
    "# for train_index, test_index in kf.split(X):\n",
    "#   hg_data = get_train_test(train_index, test_index)\n",
    "#   model = get_prepared_model()\n",
    "#   trainer = get_trainer(hg_data, model)\n",
    "#   trainer.train()\n",
    "#   model_path = PATH + \"/deberta_kfold/model_{}\".format(fold)\n",
    "#   trainer.save_model(model_path)\n",
    "#   val_scores.append(val_squish_perfomance(trainer, hg_data))\n",
    "#   quiz_pred,_,_ = trainer.predict(qhg_dataset)\n",
    "#   fname = PATH + \"/deberta_kfold/fold2_{}\".format(fold)\n",
    "#   np.save(fname, np.array(quiz_pred))\n",
    "#   fold += 1"
   ]
  }
 ],
 "metadata": {
  "accelerator": "GPU",
  "colab": {
   "collapsed_sections": [
    "bccead0b",
    "3b549951"
   ],
   "gpuType": "T4",
   "provenance": []
  },
  "kernelspec": {
   "display_name": "Python 3 (ipykernel)",
   "language": "python",
   "name": "python3"
  },
  "language_info": {
   "codemirror_mode": {
    "name": "ipython",
    "version": 3
   },
   "file_extension": ".py",
   "mimetype": "text/x-python",
   "name": "python",
   "nbconvert_exporter": "python",
   "pygments_lexer": "ipython3",
   "version": "3.9.5"
  },
  "widgets": {
   "application/vnd.jupyter.widget-state+json": {
    "0e3c3939eb5b4ee08c77a861296795e2": {
     "model_module": "@jupyter-widgets/base",
     "model_module_version": "1.2.0",
     "model_name": "LayoutModel",
     "state": {
      "_model_module": "@jupyter-widgets/base",
      "_model_module_version": "1.2.0",
      "_model_name": "LayoutModel",
      "_view_count": null,
      "_view_module": "@jupyter-widgets/base",
      "_view_module_version": "1.2.0",
      "_view_name": "LayoutView",
      "align_content": null,
      "align_items": null,
      "align_self": null,
      "border": null,
      "bottom": null,
      "display": null,
      "flex": null,
      "flex_flow": null,
      "grid_area": null,
      "grid_auto_columns": null,
      "grid_auto_flow": null,
      "grid_auto_rows": null,
      "grid_column": null,
      "grid_gap": null,
      "grid_row": null,
      "grid_template_areas": null,
      "grid_template_columns": null,
      "grid_template_rows": null,
      "height": null,
      "justify_content": null,
      "justify_items": null,
      "left": null,
      "margin": null,
      "max_height": null,
      "max_width": null,
      "min_height": null,
      "min_width": null,
      "object_fit": null,
      "object_position": null,
      "order": null,
      "overflow": null,
      "overflow_x": null,
      "overflow_y": null,
      "padding": null,
      "right": null,
      "top": null,
      "visibility": null,
      "width": null
     }
    },
    "106a29bcf860466591ecc3f48628cba0": {
     "model_module": "@jupyter-widgets/base",
     "model_module_version": "1.2.0",
     "model_name": "LayoutModel",
     "state": {
      "_model_module": "@jupyter-widgets/base",
      "_model_module_version": "1.2.0",
      "_model_name": "LayoutModel",
      "_view_count": null,
      "_view_module": "@jupyter-widgets/base",
      "_view_module_version": "1.2.0",
      "_view_name": "LayoutView",
      "align_content": null,
      "align_items": null,
      "align_self": null,
      "border": null,
      "bottom": null,
      "display": null,
      "flex": null,
      "flex_flow": null,
      "grid_area": null,
      "grid_auto_columns": null,
      "grid_auto_flow": null,
      "grid_auto_rows": null,
      "grid_column": null,
      "grid_gap": null,
      "grid_row": null,
      "grid_template_areas": null,
      "grid_template_columns": null,
      "grid_template_rows": null,
      "height": null,
      "justify_content": null,
      "justify_items": null,
      "left": null,
      "margin": null,
      "max_height": null,
      "max_width": null,
      "min_height": null,
      "min_width": null,
      "object_fit": null,
      "object_position": null,
      "order": null,
      "overflow": null,
      "overflow_x": null,
      "overflow_y": null,
      "padding": null,
      "right": null,
      "top": null,
      "visibility": null,
      "width": null
     }
    },
    "125c3dab171649808ca2fab4e25f4fe5": {
     "model_module": "@jupyter-widgets/base",
     "model_module_version": "1.2.0",
     "model_name": "LayoutModel",
     "state": {
      "_model_module": "@jupyter-widgets/base",
      "_model_module_version": "1.2.0",
      "_model_name": "LayoutModel",
      "_view_count": null,
      "_view_module": "@jupyter-widgets/base",
      "_view_module_version": "1.2.0",
      "_view_name": "LayoutView",
      "align_content": null,
      "align_items": null,
      "align_self": null,
      "border": null,
      "bottom": null,
      "display": null,
      "flex": null,
      "flex_flow": null,
      "grid_area": null,
      "grid_auto_columns": null,
      "grid_auto_flow": null,
      "grid_auto_rows": null,
      "grid_column": null,
      "grid_gap": null,
      "grid_row": null,
      "grid_template_areas": null,
      "grid_template_columns": null,
      "grid_template_rows": null,
      "height": null,
      "justify_content": null,
      "justify_items": null,
      "left": null,
      "margin": null,
      "max_height": null,
      "max_width": null,
      "min_height": null,
      "min_width": null,
      "object_fit": null,
      "object_position": null,
      "order": null,
      "overflow": null,
      "overflow_x": null,
      "overflow_y": null,
      "padding": null,
      "right": null,
      "top": null,
      "visibility": "hidden",
      "width": null
     }
    },
    "1e1a1e6d5ee0442d9ef93e9ef483f5be": {
     "model_module": "@jupyter-widgets/base",
     "model_module_version": "1.2.0",
     "model_name": "LayoutModel",
     "state": {
      "_model_module": "@jupyter-widgets/base",
      "_model_module_version": "1.2.0",
      "_model_name": "LayoutModel",
      "_view_count": null,
      "_view_module": "@jupyter-widgets/base",
      "_view_module_version": "1.2.0",
      "_view_name": "LayoutView",
      "align_content": null,
      "align_items": null,
      "align_self": null,
      "border": null,
      "bottom": null,
      "display": null,
      "flex": null,
      "flex_flow": null,
      "grid_area": null,
      "grid_auto_columns": null,
      "grid_auto_flow": null,
      "grid_auto_rows": null,
      "grid_column": null,
      "grid_gap": null,
      "grid_row": null,
      "grid_template_areas": null,
      "grid_template_columns": null,
      "grid_template_rows": null,
      "height": null,
      "justify_content": null,
      "justify_items": null,
      "left": null,
      "margin": null,
      "max_height": null,
      "max_width": null,
      "min_height": null,
      "min_width": null,
      "object_fit": null,
      "object_position": null,
      "order": null,
      "overflow": null,
      "overflow_x": null,
      "overflow_y": null,
      "padding": null,
      "right": null,
      "top": null,
      "visibility": null,
      "width": null
     }
    },
    "28817afa98134655b4cfbcfc678d4925": {
     "model_module": "@jupyter-widgets/controls",
     "model_module_version": "1.5.0",
     "model_name": "FloatProgressModel",
     "state": {
      "_dom_classes": [],
      "_model_module": "@jupyter-widgets/controls",
      "_model_module_version": "1.5.0",
      "_model_name": "FloatProgressModel",
      "_view_count": null,
      "_view_module": "@jupyter-widgets/controls",
      "_view_module_version": "1.5.0",
      "_view_name": "ProgressView",
      "bar_style": "",
      "description": "",
      "description_tooltip": null,
      "layout": "IPY_MODEL_daba0a1b72b94109a87403c1068085d7",
      "max": 1074,
      "min": 0,
      "orientation": "horizontal",
      "style": "IPY_MODEL_b91bf6bfd98843d69f15ef32212cfc10",
      "value": 1074
     }
    },
    "296376fb3de1415ba6b34b38a99f0ebe": {
     "model_module": "@jupyter-widgets/controls",
     "model_module_version": "1.5.0",
     "model_name": "ProgressStyleModel",
     "state": {
      "_model_module": "@jupyter-widgets/controls",
      "_model_module_version": "1.5.0",
      "_model_name": "ProgressStyleModel",
      "_view_count": null,
      "_view_module": "@jupyter-widgets/base",
      "_view_module_version": "1.2.0",
      "_view_name": "StyleView",
      "bar_color": null,
      "description_width": ""
     }
    },
    "2db54a08f9b1459d9eb63d141b0af3dc": {
     "model_module": "@jupyter-widgets/base",
     "model_module_version": "1.2.0",
     "model_name": "LayoutModel",
     "state": {
      "_model_module": "@jupyter-widgets/base",
      "_model_module_version": "1.2.0",
      "_model_name": "LayoutModel",
      "_view_count": null,
      "_view_module": "@jupyter-widgets/base",
      "_view_module_version": "1.2.0",
      "_view_name": "LayoutView",
      "align_content": null,
      "align_items": null,
      "align_self": null,
      "border": null,
      "bottom": null,
      "display": null,
      "flex": null,
      "flex_flow": null,
      "grid_area": null,
      "grid_auto_columns": null,
      "grid_auto_flow": null,
      "grid_auto_rows": null,
      "grid_column": null,
      "grid_gap": null,
      "grid_row": null,
      "grid_template_areas": null,
      "grid_template_columns": null,
      "grid_template_rows": null,
      "height": null,
      "justify_content": null,
      "justify_items": null,
      "left": null,
      "margin": null,
      "max_height": null,
      "max_width": null,
      "min_height": null,
      "min_width": null,
      "object_fit": null,
      "object_position": null,
      "order": null,
      "overflow": null,
      "overflow_x": null,
      "overflow_y": null,
      "padding": null,
      "right": null,
      "top": null,
      "visibility": null,
      "width": null
     }
    },
    "319195f990d1483a95d7dc6cdc24c8dc": {
     "model_module": "@jupyter-widgets/base",
     "model_module_version": "1.2.0",
     "model_name": "LayoutModel",
     "state": {
      "_model_module": "@jupyter-widgets/base",
      "_model_module_version": "1.2.0",
      "_model_name": "LayoutModel",
      "_view_count": null,
      "_view_module": "@jupyter-widgets/base",
      "_view_module_version": "1.2.0",
      "_view_name": "LayoutView",
      "align_content": null,
      "align_items": null,
      "align_self": null,
      "border": null,
      "bottom": null,
      "display": null,
      "flex": null,
      "flex_flow": null,
      "grid_area": null,
      "grid_auto_columns": null,
      "grid_auto_flow": null,
      "grid_auto_rows": null,
      "grid_column": null,
      "grid_gap": null,
      "grid_row": null,
      "grid_template_areas": null,
      "grid_template_columns": null,
      "grid_template_rows": null,
      "height": null,
      "justify_content": null,
      "justify_items": null,
      "left": null,
      "margin": null,
      "max_height": null,
      "max_width": null,
      "min_height": null,
      "min_width": null,
      "object_fit": null,
      "object_position": null,
      "order": null,
      "overflow": null,
      "overflow_x": null,
      "overflow_y": null,
      "padding": null,
      "right": null,
      "top": null,
      "visibility": "hidden",
      "width": null
     }
    },
    "41fb5dfaffac4404964fbdca5f639983": {
     "model_module": "@jupyter-widgets/controls",
     "model_module_version": "1.5.0",
     "model_name": "DescriptionStyleModel",
     "state": {
      "_model_module": "@jupyter-widgets/controls",
      "_model_module_version": "1.5.0",
      "_model_name": "DescriptionStyleModel",
      "_view_count": null,
      "_view_module": "@jupyter-widgets/base",
      "_view_module_version": "1.2.0",
      "_view_name": "StyleView",
      "description_width": ""
     }
    },
    "435dd3934a314cf5b1e26056073e0ef2": {
     "model_module": "@jupyter-widgets/controls",
     "model_module_version": "1.5.0",
     "model_name": "HBoxModel",
     "state": {
      "_dom_classes": [],
      "_model_module": "@jupyter-widgets/controls",
      "_model_module_version": "1.5.0",
      "_model_name": "HBoxModel",
      "_view_count": null,
      "_view_module": "@jupyter-widgets/controls",
      "_view_module_version": "1.5.0",
      "_view_name": "HBoxView",
      "box_style": "",
      "children": [
       "IPY_MODEL_96b0331a601446188c8db1a23a4a1a39",
       "IPY_MODEL_28817afa98134655b4cfbcfc678d4925",
       "IPY_MODEL_a9c98a3b272a4dd39c0eba9a755d3734"
      ],
      "layout": "IPY_MODEL_319195f990d1483a95d7dc6cdc24c8dc"
     }
    },
    "4753b00f5e7644d9bfae36a060ad8045": {
     "model_module": "@jupyter-widgets/controls",
     "model_module_version": "1.5.0",
     "model_name": "HTMLModel",
     "state": {
      "_dom_classes": [],
      "_model_module": "@jupyter-widgets/controls",
      "_model_module_version": "1.5.0",
      "_model_name": "HTMLModel",
      "_view_count": null,
      "_view_module": "@jupyter-widgets/controls",
      "_view_module_version": "1.5.0",
      "_view_name": "HTMLView",
      "description": "",
      "description_tooltip": null,
      "layout": "IPY_MODEL_2db54a08f9b1459d9eb63d141b0af3dc",
      "placeholder": "​",
      "style": "IPY_MODEL_5d6b50199d4143fea7e0ad4a9689c1e7",
      "value": " 995/995 [00:00&lt;00:00, 36625.21 examples/s]"
     }
    },
    "4c78a49ed52f465cb0c55eb1cb9bd2a2": {
     "model_module": "@jupyter-widgets/base",
     "model_module_version": "1.2.0",
     "model_name": "LayoutModel",
     "state": {
      "_model_module": "@jupyter-widgets/base",
      "_model_module_version": "1.2.0",
      "_model_name": "LayoutModel",
      "_view_count": null,
      "_view_module": "@jupyter-widgets/base",
      "_view_module_version": "1.2.0",
      "_view_name": "LayoutView",
      "align_content": null,
      "align_items": null,
      "align_self": null,
      "border": null,
      "bottom": null,
      "display": null,
      "flex": null,
      "flex_flow": null,
      "grid_area": null,
      "grid_auto_columns": null,
      "grid_auto_flow": null,
      "grid_auto_rows": null,
      "grid_column": null,
      "grid_gap": null,
      "grid_row": null,
      "grid_template_areas": null,
      "grid_template_columns": null,
      "grid_template_rows": null,
      "height": null,
      "justify_content": null,
      "justify_items": null,
      "left": null,
      "margin": null,
      "max_height": null,
      "max_width": null,
      "min_height": null,
      "min_width": null,
      "object_fit": null,
      "object_position": null,
      "order": null,
      "overflow": null,
      "overflow_x": null,
      "overflow_y": null,
      "padding": null,
      "right": null,
      "top": null,
      "visibility": null,
      "width": null
     }
    },
    "5d6b50199d4143fea7e0ad4a9689c1e7": {
     "model_module": "@jupyter-widgets/controls",
     "model_module_version": "1.5.0",
     "model_name": "DescriptionStyleModel",
     "state": {
      "_model_module": "@jupyter-widgets/controls",
      "_model_module_version": "1.5.0",
      "_model_name": "DescriptionStyleModel",
      "_view_count": null,
      "_view_module": "@jupyter-widgets/base",
      "_view_module_version": "1.2.0",
      "_view_name": "StyleView",
      "description_width": ""
     }
    },
    "66c1878a0ded429eb2d43df6b69fae91": {
     "model_module": "@jupyter-widgets/base",
     "model_module_version": "1.2.0",
     "model_name": "LayoutModel",
     "state": {
      "_model_module": "@jupyter-widgets/base",
      "_model_module_version": "1.2.0",
      "_model_name": "LayoutModel",
      "_view_count": null,
      "_view_module": "@jupyter-widgets/base",
      "_view_module_version": "1.2.0",
      "_view_name": "LayoutView",
      "align_content": null,
      "align_items": null,
      "align_self": null,
      "border": null,
      "bottom": null,
      "display": null,
      "flex": null,
      "flex_flow": null,
      "grid_area": null,
      "grid_auto_columns": null,
      "grid_auto_flow": null,
      "grid_auto_rows": null,
      "grid_column": null,
      "grid_gap": null,
      "grid_row": null,
      "grid_template_areas": null,
      "grid_template_columns": null,
      "grid_template_rows": null,
      "height": null,
      "justify_content": null,
      "justify_items": null,
      "left": null,
      "margin": null,
      "max_height": null,
      "max_width": null,
      "min_height": null,
      "min_width": null,
      "object_fit": null,
      "object_position": null,
      "order": null,
      "overflow": null,
      "overflow_x": null,
      "overflow_y": null,
      "padding": null,
      "right": null,
      "top": null,
      "visibility": "hidden",
      "width": null
     }
    },
    "7bbb733f7ea648d7a31ef8774cc0e50b": {
     "model_module": "@jupyter-widgets/base",
     "model_module_version": "1.2.0",
     "model_name": "LayoutModel",
     "state": {
      "_model_module": "@jupyter-widgets/base",
      "_model_module_version": "1.2.0",
      "_model_name": "LayoutModel",
      "_view_count": null,
      "_view_module": "@jupyter-widgets/base",
      "_view_module_version": "1.2.0",
      "_view_name": "LayoutView",
      "align_content": null,
      "align_items": null,
      "align_self": null,
      "border": null,
      "bottom": null,
      "display": null,
      "flex": null,
      "flex_flow": null,
      "grid_area": null,
      "grid_auto_columns": null,
      "grid_auto_flow": null,
      "grid_auto_rows": null,
      "grid_column": null,
      "grid_gap": null,
      "grid_row": null,
      "grid_template_areas": null,
      "grid_template_columns": null,
      "grid_template_rows": null,
      "height": null,
      "justify_content": null,
      "justify_items": null,
      "left": null,
      "margin": null,
      "max_height": null,
      "max_width": null,
      "min_height": null,
      "min_width": null,
      "object_fit": null,
      "object_position": null,
      "order": null,
      "overflow": null,
      "overflow_x": null,
      "overflow_y": null,
      "padding": null,
      "right": null,
      "top": null,
      "visibility": null,
      "width": null
     }
    },
    "96b0331a601446188c8db1a23a4a1a39": {
     "model_module": "@jupyter-widgets/controls",
     "model_module_version": "1.5.0",
     "model_name": "HTMLModel",
     "state": {
      "_dom_classes": [],
      "_model_module": "@jupyter-widgets/controls",
      "_model_module_version": "1.5.0",
      "_model_name": "HTMLModel",
      "_view_count": null,
      "_view_module": "@jupyter-widgets/controls",
      "_view_module_version": "1.5.0",
      "_view_name": "HTMLView",
      "description": "",
      "description_tooltip": null,
      "layout": "IPY_MODEL_4c78a49ed52f465cb0c55eb1cb9bd2a2",
      "placeholder": "​",
      "style": "IPY_MODEL_41fb5dfaffac4404964fbdca5f639983",
      "value": "Saving the dataset (1/1 shards): 100%"
     }
    },
    "9c7f4a6f80e24ae0acafcea03ae15df9": {
     "model_module": "@jupyter-widgets/controls",
     "model_module_version": "1.5.0",
     "model_name": "HTMLModel",
     "state": {
      "_dom_classes": [],
      "_model_module": "@jupyter-widgets/controls",
      "_model_module_version": "1.5.0",
      "_model_name": "HTMLModel",
      "_view_count": null,
      "_view_module": "@jupyter-widgets/controls",
      "_view_module_version": "1.5.0",
      "_view_name": "HTMLView",
      "description": "",
      "description_tooltip": null,
      "layout": "IPY_MODEL_7bbb733f7ea648d7a31ef8774cc0e50b",
      "placeholder": "​",
      "style": "IPY_MODEL_ac4c92922a1b4436bd9aa5119ea6701c",
      "value": "Saving the dataset (1/1 shards): 100%"
     }
    },
    "9e189fbf3637449980ad090fcde1506e": {
     "model_module": "@jupyter-widgets/controls",
     "model_module_version": "1.5.0",
     "model_name": "FloatProgressModel",
     "state": {
      "_dom_classes": [],
      "_model_module": "@jupyter-widgets/controls",
      "_model_module_version": "1.5.0",
      "_model_name": "FloatProgressModel",
      "_view_count": null,
      "_view_module": "@jupyter-widgets/controls",
      "_view_module_version": "1.5.0",
      "_view_name": "ProgressView",
      "bar_style": "",
      "description": "",
      "description_tooltip": null,
      "layout": "IPY_MODEL_106a29bcf860466591ecc3f48628cba0",
      "max": 10000,
      "min": 0,
      "orientation": "horizontal",
      "style": "IPY_MODEL_296376fb3de1415ba6b34b38a99f0ebe",
      "value": 10000
     }
    },
    "a9c98a3b272a4dd39c0eba9a755d3734": {
     "model_module": "@jupyter-widgets/controls",
     "model_module_version": "1.5.0",
     "model_name": "HTMLModel",
     "state": {
      "_dom_classes": [],
      "_model_module": "@jupyter-widgets/controls",
      "_model_module_version": "1.5.0",
      "_model_name": "HTMLModel",
      "_view_count": null,
      "_view_module": "@jupyter-widgets/controls",
      "_view_module_version": "1.5.0",
      "_view_name": "HTMLView",
      "description": "",
      "description_tooltip": null,
      "layout": "IPY_MODEL_c1818206ae9d46d78a5c15cf885f5ae2",
      "placeholder": "​",
      "style": "IPY_MODEL_f2aacfbeb4084a85b3044cbafdd5c0a4",
      "value": " 1074/1074 [00:00&lt;00:00, 20256.60 examples/s]"
     }
    },
    "ac4c92922a1b4436bd9aa5119ea6701c": {
     "model_module": "@jupyter-widgets/controls",
     "model_module_version": "1.5.0",
     "model_name": "DescriptionStyleModel",
     "state": {
      "_model_module": "@jupyter-widgets/controls",
      "_model_module_version": "1.5.0",
      "_model_name": "DescriptionStyleModel",
      "_view_count": null,
      "_view_module": "@jupyter-widgets/base",
      "_view_module_version": "1.2.0",
      "_view_name": "StyleView",
      "description_width": ""
     }
    },
    "b91bf6bfd98843d69f15ef32212cfc10": {
     "model_module": "@jupyter-widgets/controls",
     "model_module_version": "1.5.0",
     "model_name": "ProgressStyleModel",
     "state": {
      "_model_module": "@jupyter-widgets/controls",
      "_model_module_version": "1.5.0",
      "_model_name": "ProgressStyleModel",
      "_view_count": null,
      "_view_module": "@jupyter-widgets/base",
      "_view_module_version": "1.2.0",
      "_view_name": "StyleView",
      "bar_color": null,
      "description_width": ""
     }
    },
    "b9ad36f73ffe4b2a891c7a6782ea6afd": {
     "model_module": "@jupyter-widgets/base",
     "model_module_version": "1.2.0",
     "model_name": "LayoutModel",
     "state": {
      "_model_module": "@jupyter-widgets/base",
      "_model_module_version": "1.2.0",
      "_model_name": "LayoutModel",
      "_view_count": null,
      "_view_module": "@jupyter-widgets/base",
      "_view_module_version": "1.2.0",
      "_view_name": "LayoutView",
      "align_content": null,
      "align_items": null,
      "align_self": null,
      "border": null,
      "bottom": null,
      "display": null,
      "flex": null,
      "flex_flow": null,
      "grid_area": null,
      "grid_auto_columns": null,
      "grid_auto_flow": null,
      "grid_auto_rows": null,
      "grid_column": null,
      "grid_gap": null,
      "grid_row": null,
      "grid_template_areas": null,
      "grid_template_columns": null,
      "grid_template_rows": null,
      "height": null,
      "justify_content": null,
      "justify_items": null,
      "left": null,
      "margin": null,
      "max_height": null,
      "max_width": null,
      "min_height": null,
      "min_width": null,
      "object_fit": null,
      "object_position": null,
      "order": null,
      "overflow": null,
      "overflow_x": null,
      "overflow_y": null,
      "padding": null,
      "right": null,
      "top": null,
      "visibility": null,
      "width": null
     }
    },
    "c1818206ae9d46d78a5c15cf885f5ae2": {
     "model_module": "@jupyter-widgets/base",
     "model_module_version": "1.2.0",
     "model_name": "LayoutModel",
     "state": {
      "_model_module": "@jupyter-widgets/base",
      "_model_module_version": "1.2.0",
      "_model_name": "LayoutModel",
      "_view_count": null,
      "_view_module": "@jupyter-widgets/base",
      "_view_module_version": "1.2.0",
      "_view_name": "LayoutView",
      "align_content": null,
      "align_items": null,
      "align_self": null,
      "border": null,
      "bottom": null,
      "display": null,
      "flex": null,
      "flex_flow": null,
      "grid_area": null,
      "grid_auto_columns": null,
      "grid_auto_flow": null,
      "grid_auto_rows": null,
      "grid_column": null,
      "grid_gap": null,
      "grid_row": null,
      "grid_template_areas": null,
      "grid_template_columns": null,
      "grid_template_rows": null,
      "height": null,
      "justify_content": null,
      "justify_items": null,
      "left": null,
      "margin": null,
      "max_height": null,
      "max_width": null,
      "min_height": null,
      "min_width": null,
      "object_fit": null,
      "object_position": null,
      "order": null,
      "overflow": null,
      "overflow_x": null,
      "overflow_y": null,
      "padding": null,
      "right": null,
      "top": null,
      "visibility": null,
      "width": null
     }
    },
    "c3a9f30585a440fcaf77b8adfd863a33": {
     "model_module": "@jupyter-widgets/controls",
     "model_module_version": "1.5.0",
     "model_name": "DescriptionStyleModel",
     "state": {
      "_model_module": "@jupyter-widgets/controls",
      "_model_module_version": "1.5.0",
      "_model_name": "DescriptionStyleModel",
      "_view_count": null,
      "_view_module": "@jupyter-widgets/base",
      "_view_module_version": "1.2.0",
      "_view_name": "StyleView",
      "description_width": ""
     }
    },
    "c8ef9c2bb39d4369afd1ee8963a499ab": {
     "model_module": "@jupyter-widgets/controls",
     "model_module_version": "1.5.0",
     "model_name": "ProgressStyleModel",
     "state": {
      "_model_module": "@jupyter-widgets/controls",
      "_model_module_version": "1.5.0",
      "_model_name": "ProgressStyleModel",
      "_view_count": null,
      "_view_module": "@jupyter-widgets/base",
      "_view_module_version": "1.2.0",
      "_view_name": "StyleView",
      "bar_color": null,
      "description_width": ""
     }
    },
    "d69e09bc93844d9cb23e3b29482b8117": {
     "model_module": "@jupyter-widgets/controls",
     "model_module_version": "1.5.0",
     "model_name": "HBoxModel",
     "state": {
      "_dom_classes": [],
      "_model_module": "@jupyter-widgets/controls",
      "_model_module_version": "1.5.0",
      "_model_name": "HBoxModel",
      "_view_count": null,
      "_view_module": "@jupyter-widgets/controls",
      "_view_module_version": "1.5.0",
      "_view_name": "HBoxView",
      "box_style": "",
      "children": [
       "IPY_MODEL_9c7f4a6f80e24ae0acafcea03ae15df9",
       "IPY_MODEL_e9fa51c8515a45aaa6ad6999804802b4",
       "IPY_MODEL_4753b00f5e7644d9bfae36a060ad8045"
      ],
      "layout": "IPY_MODEL_66c1878a0ded429eb2d43df6b69fae91"
     }
    },
    "daba0a1b72b94109a87403c1068085d7": {
     "model_module": "@jupyter-widgets/base",
     "model_module_version": "1.2.0",
     "model_name": "LayoutModel",
     "state": {
      "_model_module": "@jupyter-widgets/base",
      "_model_module_version": "1.2.0",
      "_model_name": "LayoutModel",
      "_view_count": null,
      "_view_module": "@jupyter-widgets/base",
      "_view_module_version": "1.2.0",
      "_view_name": "LayoutView",
      "align_content": null,
      "align_items": null,
      "align_self": null,
      "border": null,
      "bottom": null,
      "display": null,
      "flex": null,
      "flex_flow": null,
      "grid_area": null,
      "grid_auto_columns": null,
      "grid_auto_flow": null,
      "grid_auto_rows": null,
      "grid_column": null,
      "grid_gap": null,
      "grid_row": null,
      "grid_template_areas": null,
      "grid_template_columns": null,
      "grid_template_rows": null,
      "height": null,
      "justify_content": null,
      "justify_items": null,
      "left": null,
      "margin": null,
      "max_height": null,
      "max_width": null,
      "min_height": null,
      "min_width": null,
      "object_fit": null,
      "object_position": null,
      "order": null,
      "overflow": null,
      "overflow_x": null,
      "overflow_y": null,
      "padding": null,
      "right": null,
      "top": null,
      "visibility": null,
      "width": null
     }
    },
    "e7739db464164e23858f9178b09766c3": {
     "model_module": "@jupyter-widgets/controls",
     "model_module_version": "1.5.0",
     "model_name": "DescriptionStyleModel",
     "state": {
      "_model_module": "@jupyter-widgets/controls",
      "_model_module_version": "1.5.0",
      "_model_name": "DescriptionStyleModel",
      "_view_count": null,
      "_view_module": "@jupyter-widgets/base",
      "_view_module_version": "1.2.0",
      "_view_name": "StyleView",
      "description_width": ""
     }
    },
    "e9fa51c8515a45aaa6ad6999804802b4": {
     "model_module": "@jupyter-widgets/controls",
     "model_module_version": "1.5.0",
     "model_name": "FloatProgressModel",
     "state": {
      "_dom_classes": [],
      "_model_module": "@jupyter-widgets/controls",
      "_model_module_version": "1.5.0",
      "_model_name": "FloatProgressModel",
      "_view_count": null,
      "_view_module": "@jupyter-widgets/controls",
      "_view_module_version": "1.5.0",
      "_view_name": "ProgressView",
      "bar_style": "",
      "description": "",
      "description_tooltip": null,
      "layout": "IPY_MODEL_b9ad36f73ffe4b2a891c7a6782ea6afd",
      "max": 995,
      "min": 0,
      "orientation": "horizontal",
      "style": "IPY_MODEL_c8ef9c2bb39d4369afd1ee8963a499ab",
      "value": 995
     }
    },
    "f2aacfbeb4084a85b3044cbafdd5c0a4": {
     "model_module": "@jupyter-widgets/controls",
     "model_module_version": "1.5.0",
     "model_name": "DescriptionStyleModel",
     "state": {
      "_model_module": "@jupyter-widgets/controls",
      "_model_module_version": "1.5.0",
      "_model_name": "DescriptionStyleModel",
      "_view_count": null,
      "_view_module": "@jupyter-widgets/base",
      "_view_module_version": "1.2.0",
      "_view_name": "StyleView",
      "description_width": ""
     }
    },
    "f3bce2f23c06448295c0f9f26eccd948": {
     "model_module": "@jupyter-widgets/controls",
     "model_module_version": "1.5.0",
     "model_name": "HBoxModel",
     "state": {
      "_dom_classes": [],
      "_model_module": "@jupyter-widgets/controls",
      "_model_module_version": "1.5.0",
      "_model_name": "HBoxModel",
      "_view_count": null,
      "_view_module": "@jupyter-widgets/controls",
      "_view_module_version": "1.5.0",
      "_view_name": "HBoxView",
      "box_style": "",
      "children": [
       "IPY_MODEL_f5e10bf9a05b46c9a477b21f073130db",
       "IPY_MODEL_9e189fbf3637449980ad090fcde1506e",
       "IPY_MODEL_f5edd0ff89364df79c7a3cb82e0988f9"
      ],
      "layout": "IPY_MODEL_125c3dab171649808ca2fab4e25f4fe5"
     }
    },
    "f5e10bf9a05b46c9a477b21f073130db": {
     "model_module": "@jupyter-widgets/controls",
     "model_module_version": "1.5.0",
     "model_name": "HTMLModel",
     "state": {
      "_dom_classes": [],
      "_model_module": "@jupyter-widgets/controls",
      "_model_module_version": "1.5.0",
      "_model_name": "HTMLModel",
      "_view_count": null,
      "_view_module": "@jupyter-widgets/controls",
      "_view_module_version": "1.5.0",
      "_view_name": "HTMLView",
      "description": "",
      "description_tooltip": null,
      "layout": "IPY_MODEL_1e1a1e6d5ee0442d9ef93e9ef483f5be",
      "placeholder": "​",
      "style": "IPY_MODEL_e7739db464164e23858f9178b09766c3",
      "value": "Saving the dataset (1/1 shards): 100%"
     }
    },
    "f5edd0ff89364df79c7a3cb82e0988f9": {
     "model_module": "@jupyter-widgets/controls",
     "model_module_version": "1.5.0",
     "model_name": "HTMLModel",
     "state": {
      "_dom_classes": [],
      "_model_module": "@jupyter-widgets/controls",
      "_model_module_version": "1.5.0",
      "_model_name": "HTMLModel",
      "_view_count": null,
      "_view_module": "@jupyter-widgets/controls",
      "_view_module_version": "1.5.0",
      "_view_name": "HTMLView",
      "description": "",
      "description_tooltip": null,
      "layout": "IPY_MODEL_0e3c3939eb5b4ee08c77a861296795e2",
      "placeholder": "​",
      "style": "IPY_MODEL_c3a9f30585a440fcaf77b8adfd863a33",
      "value": " 10000/10000 [00:00&lt;00:00, 140827.38 examples/s]"
     }
    }
   }
  }
 },
 "nbformat": 4,
 "nbformat_minor": 5
}
